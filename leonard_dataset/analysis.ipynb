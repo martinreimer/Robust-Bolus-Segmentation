{
 "cells": [
  {
   "metadata": {},
   "cell_type": "markdown",
   "source": "",
   "id": "9a1845945480befa"
  },
  {
   "metadata": {},
   "cell_type": "markdown",
   "source": [
    "# Analysis of Leonard Dataset (US, Normal Swallowing)\n",
    "TLDR: 1,300 swallows (partly annotated) of healthy patients\n",
    "\n",
    "Pros:\n",
    "- swallows were already extracted\n",
    "- already partly annotated\n",
    "\n",
    "\n",
    "Cons / Challenges:\n",
    "- [ ] no patient information -> only young and eldery folder\n",
    "- [ ] videos contain metadata (time, ...)\n",
    "\n",
    "q: what is foreback folder? where patient info?\n",
    "\n",
    "\n",
    "\n"
   ],
   "id": "7c417d20f5437003"
  },
  {
   "metadata": {},
   "cell_type": "markdown",
   "source": [
    "### Folder structure:\n",
    "- ForeBack folder\n",
    "   - mp4 files and some have .mask files as well\n",
    "  - 800 files\n",
    "- Normals folder\n",
    "    - mp4 files and some have .mask files as well\n",
    "    - 70 files\n",
    "    - readme file:\n",
    "        -  Here's a link to the young normal fluoros.  Typically include a 1ml, 3ml 3-5 paste and 20+ml bolus.......some have another 1ml.  Subjects are also saying vowel sounds at the end......think it's obvious these aren't swallows! Hope they're helpful....let me know if you have questions.\n",
    "- Normals_elderly folder\n",
    "   - avi files and some mp4 files\n",
    "   - 70 files\n",
    "- **Swallow_Events folder**\n",
    "   - mp4 files and some have .mask files as well\n",
    "   - 1,300 files\n",
    "- video_frame_list.xlsx"
   ],
   "id": "5ae9ceee72ef011f"
  },
  {
   "metadata": {
    "ExecuteTime": {
     "end_time": "2024-12-04T16:40:16.879693Z",
     "start_time": "2024-12-04T16:40:16.406411Z"
    }
   },
   "cell_type": "code",
   "source": [
    "import pandas as pd\n",
    "import os\n",
    "import cv2\n",
    "import matplotlib.pyplot as plt"
   ],
   "id": "add26f161ed02a7a",
   "outputs": [],
   "execution_count": 1
  },
  {
   "metadata": {},
   "cell_type": "markdown",
   "source": "### get data",
   "id": "22b28ffbd937791f"
  },
  {
   "metadata": {},
   "cell_type": "code",
   "outputs": [],
   "execution_count": null,
   "source": "",
   "id": "13c535a0f58a50ca"
  }
 ],
 "metadata": {
  "kernelspec": {
   "display_name": "Python 3",
   "language": "python",
   "name": "python3"
  },
  "language_info": {
   "codemirror_mode": {
    "name": "ipython",
    "version": 2
   },
   "file_extension": ".py",
   "mimetype": "text/x-python",
   "name": "python",
   "nbconvert_exporter": "python",
   "pygments_lexer": "ipython2",
   "version": "2.7.6"
  }
 },
 "nbformat": 4,
 "nbformat_minor": 5
}

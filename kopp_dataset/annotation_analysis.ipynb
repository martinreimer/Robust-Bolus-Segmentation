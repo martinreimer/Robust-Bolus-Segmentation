{
 "cells": [
  {
   "metadata": {},
   "cell_type": "markdown",
   "source": "process video annotation export and do analysis",
   "id": "8eed0ddf529b44df"
  },
  {
   "metadata": {
    "collapsed": true
   },
   "cell_type": "code",
   "source": "import pandas as pd",
   "id": "initial_id",
   "outputs": [],
   "execution_count": null
  },
  {
   "metadata": {},
   "cell_type": "code",
   "source": [
    "df = pd.read_csv(\"kopp_video_annotation_export.csv\")\n",
    "df = df[df[\"label\"] == 1]\n",
    "df.head()"
   ],
   "id": "ba95edca9c616a11",
   "outputs": [],
   "execution_count": null
  },
  {
   "metadata": {},
   "cell_type": "markdown",
   "source": "fill nan values",
   "id": "422b3ae2bdaa2a80"
  },
  {
   "metadata": {},
   "cell_type": "code",
   "source": [
    "# column kaputt(1=yes, 0=no) filled with 0\n",
    "df[\"kaputt(1=yes, 0=no)\"][df[\"kaputt(1=yes, 0=no)\"].isnull()] = 0\n",
    "# severe Movement cam/pat (1=yes, 0=no) filled with 0\n",
    "df[\"severe Movement cam/pat (1=yes, 0=no)\"][df[\"severe Movement cam/pat (1=yes, 0=no)\"].isnull()] = 0\n",
    "# column forward_movement (1=yes, 0=no) filled with 0\n",
    "df[\"forward_movement (1=yes, 0=no)\"][df[\"forward_movement (1=yes, 0=no)\"].isnull()] = 0\n",
    "# values bigger 0 are set to 1\n",
    "df[\"forward_movement (1=yes, 0=no)\"][df[\"forward_movement (1=yes, 0=no)\"] > 0] = 1\n",
    "# column Usable (1=yes, 0=no) filled with 0\n",
    "df[\"Usable (1=yes, 0=no)\"][df[\"Usable (1=yes, 0=no)\"].isnull()] = 0\n",
    "# set nan in comment to empty string\n",
    "df[\"comment\"][df[\"comment\"].isnull()] = \"\"\n",
    "\n"
   ],
   "id": "e887cfcfb5a5162c",
   "outputs": [],
   "execution_count": null
  },
  {
   "metadata": {},
   "cell_type": "markdown",
   "source": "### process comment column",
   "id": "6e1518b0dfd95935"
  },
  {
   "metadata": {},
   "cell_type": "code",
   "source": "df[\"comment\"].value_counts()",
   "id": "11cc1be4f5077673",
   "outputs": [],
   "execution_count": null
  },
  {
   "metadata": {},
   "cell_type": "code",
   "source": [
    "df[\"not_fully_swallowed (1=yes, 0=no)\"] = 0\n",
    "# if \"not finished\" is in the comment, set not_fully_swallowed to 1\n",
    "df[\"not_fully_swallowed (1=yes, 0=no)\"][df[\"comment\"].str.contains(\"not finished\", case=False)] = 1\n",
    "df[\"not_fully_swallowed (1=yes, 0=no)\"][df[\"comment\"].str.contains(\"not swallowed\", case=False)] = 1\n",
    "df[\"not_fully_swallowed (1=yes, 0=no)\"][df[\"comment\"].str.contains(\"no swallows\", case=False)] = 1\n",
    "df[\"not_fully_swallowed (1=yes, 0=no)\"][df[\"comment\"].str.contains(\"swallow not finished\", case=False)] = 1\n",
    "df[\"not_fully_swallowed (1=yes, 0=no)\"][df[\"comment\"].str.contains(\"no real swallow\", case=False)] = 1\n",
    "df[\"not_fully_swallowed (1=yes, 0=no)\"][df[\"comment\"].str.contains(\"no real swallows\", case=False)] = 1\n",
    "df[\"not_fully_swallowed (1=yes, 0=no)\"][df[\"comment\"].str.contains(\"swallowed little\", case=False)] = 1\n",
    "df[\"not_fully_swallowed (1=yes, 0=no)\"][df[\"comment\"].str.contains(\"not completely swallowed\", case=False)] = 1\n",
    "df[\"not_fully_swallowed (1=yes, 0=no)\"][df[\"comment\"].str.contains(\"not swallowed everything\", case=False)] = 1\n",
    "\n",
    "df[\"swallow_beginning_missing (1=yes, 0=no)\"] = 0\n",
    "# if [start missing, no beginning, beginning missing] is in the comment, set swallow_beginning_missing to 1\n",
    "df[\"swallow_beginning_missing (1=yes, 0=no)\"][df[\"comment\"].str.contains(\"start missing\", case=False)] = 1\n",
    "df[\"swallow_beginning_missing (1=yes, 0=no)\"][df[\"comment\"].str.contains(\"no beginning\", case=False)] = 1\n",
    "df[\"swallow_beginning_missing (1=yes, 0=no)\"][df[\"comment\"].str.contains(\"beginning missing\", case=False)] = 1\n",
    "\n",
    "df[\"bolus_already_present (1=yes, 0=no)\"] = 0\n",
    "# if [bolus present, bolus pressent, bolus already present] is in the comment, set bolus_already_present to 1\n",
    "df[\"bolus_already_present (1=yes, 0=no)\"][df[\"comment\"].str.contains(\"bolus present\", case=False)] = 1\n",
    "df[\"bolus_already_present (1=yes, 0=no)\"][df[\"comment\"].str.contains(\"bolus pressent\", case=False)] = 1\n",
    "df[\"bolus_already_present (1=yes, 0=no)\"][df[\"comment\"].str.contains(\"bolus already present\", case=False)] = 1\n",
    "\n",
    "df[\"accessory_artefact (1=yes, 0=no)\"] = 0\n",
    "# if [earring, glasses, earrings, earing] is in the comment, set accessory_artefact to 1\n",
    "df[\"accessory_artefact (1=yes, 0=no)\"][df[\"comment\"].str.contains(\"earring\", case=False)] = 1\n",
    "df[\"accessory_artefact (1=yes, 0=no)\"][df[\"comment\"].str.contains(\"glasses\", case=False)] = 1\n",
    "df[\"accessory_artefact (1=yes, 0=no)\"][df[\"comment\"].str.contains(\"earrings\", case=False)] = 1\n",
    "df[\"accessory_artefact (1=yes, 0=no)\"][df[\"comment\"].str.contains(\"earing\", case=False)] = 1\n",
    "df[\"accessory_artefact (1=yes, 0=no)\"][df[\"comment\"].str.contains(\"earning\", case=False)] = 1\n",
    "\n",
    "\n",
    "\n",
    "# name column for cases like \"hard to see / hard to segment  / bolus barely visible / not visible / difficult to segment / bolus not visible / not much visible / very hard to see / narely seeable / bolus hard to see\n",
    "df[\"hard_to_see (1=yes, 0=no)\"] = 0\n",
    "# if [hard to see, hard to segment, barely visible, not visible, difficult to segment, not much visible, very hard to see, narely seeable, hard to see] is in the comment, set hard_to_see to 1\n",
    "df[\"hard_to_see (1=yes, 0=no)\"][df[\"comment\"].str.contains(\"hard to see\", case=False)] = 1\n",
    "df[\"hard_to_see (1=yes, 0=no)\"][df[\"comment\"].str.contains(\"hard to segment\", case=False)] = 1\n",
    "df[\"hard_to_see (1=yes, 0=no)\"][df[\"comment\"].str.contains(\"bolus barely visible\", case=False)] = 1\n",
    "df[\"hard_to_see (1=yes, 0=no)\"][df[\"comment\"].str.contains(\"not visible\", case=False)] = 1\n",
    "df[\"hard_to_see (1=yes, 0=no)\"][df[\"comment\"].str.contains(\"difficult to segment\", case=False)] = 1\n",
    "df[\"hard_to_see (1=yes, 0=no)\"][df[\"comment\"].str.contains(\"bolus not visible\", case=False)] = 1\n",
    "df[\"hard_to_see (1=yes, 0=no)\"][df[\"comment\"].str.contains(\"not much visible\", case=False)] = 1\n",
    "df[\"hard_to_see (1=yes, 0=no)\"][df[\"comment\"].str.contains(\"very hard to see\", case=False)] = 1\n",
    "df[\"hard_to_see (1=yes, 0=no)\"][df[\"comment\"].str.contains(\"narely seeable\", case=False)] = 1\n",
    "df[\"hard_to_see (1=yes, 0=no)\"][df[\"comment\"].str.contains(\"barely seeable\", case=False)] = 1\n",
    "df[\"hard_to_see (1=yes, 0=no)\"][df[\"comment\"].str.contains(\"bolus hard to see\", case=False)] = 1\n",
    "df[\"hard_to_see (1=yes, 0=no)\"][df[\"comment\"].str.contains(\"not sure if enough visible\", case=False)] = 1\n"
   ],
   "id": "bda6c92528ce0fde",
   "outputs": [],
   "execution_count": null
  },
  {
   "metadata": {},
   "cell_type": "markdown",
   "source": "### rename cols",
   "id": "ae63fb0f350909ea"
  },
  {
   "metadata": {},
   "cell_type": "code",
   "source": [
    "# rename columns \"label\" and \"kaputt(1=yes, 0=no)\"\n",
    "df = df.rename(columns={\n",
    "    \"label\": \"label\",\n",
    "    \"kaputt(1=yes, 0=no)\": \"artifact_detected\",\n",
    "    \"severe Movement cam/pat (1=yes, 0=no)\": \"severe_movement\",\n",
    "    \"forward_movement (1=yes, 0=no)\": \"forward_movement\",\n",
    "    \"Usable (1=yes, 0=no)\": \"is_usable\",\n",
    "    \"Quality(0=bad, 1=ok)\": \"quality\",\n",
    "    \"full_head (0-2 range; 0=little of head; 1=enough head; 2=full head)\": \"head_visibility\",\n",
    "    \"comment\": \"comment\",\n",
    "    \"not_fully_swallowed (1=yes, 0=no)\": \"incomplete_swallow\",\n",
    "    \"swallow_beginning_missing (1=yes, 0=no)\": \"missing_swallow_start\",\n",
    "    \"bolus_already_present (1=yes, 0=no)\": \"bolus_present_initially\",\n",
    "    \"accessory_artefact (1=yes, 0=no)\": \"accessory_artifact\",\n",
    "    \"hard_to_see (1=yes, 0=no)\": \"visibility_issue\"\n",
    "})\n"
   ],
   "id": "949fa063e65f65fa",
   "outputs": [],
   "execution_count": null
  },
  {
   "metadata": {},
   "cell_type": "code",
   "source": [
    "df = df[['video_id', 'label', 'is_usable', 'artifact_detected', 'severe_movement', 'forward_movement', 'incomplete_swallow', 'missing_swallow_start', 'bolus_present_initially', 'accessory_artifact', 'visibility_issue']]\n",
    "df.head()"
   ],
   "id": "38ede3325ccdf42f",
   "outputs": [],
   "execution_count": null
  },
  {
   "metadata": {},
   "cell_type": "markdown",
   "source": "export",
   "id": "b103b54454f1e98a"
  },
  {
   "metadata": {},
   "cell_type": "code",
   "source": "df.to_csv(\"AnnotationsKopp_cleaned.csv\", index=False)",
   "id": "463efad48c43d899",
   "outputs": [],
   "execution_count": null
  },
  {
   "metadata": {},
   "cell_type": "markdown",
   "source": "### Analysis of Annotations",
   "id": "1a501fe331d8b318"
  },
  {
   "metadata": {},
   "cell_type": "code",
   "source": "df.describe()",
   "id": "c3543299141f062a",
   "outputs": [],
   "execution_count": null
  },
  {
   "metadata": {},
   "cell_type": "code",
   "source": "df[\"is_usable\"].value_counts()",
   "id": "ca670930e433a9d1",
   "outputs": [],
   "execution_count": null
  },
  {
   "metadata": {},
   "cell_type": "code",
   "source": "df[\"visibility_issue\"].value_counts()",
   "id": "f41f257560e5d760",
   "outputs": [],
   "execution_count": null
  },
  {
   "metadata": {},
   "cell_type": "code",
   "source": "df[\"artifact_detected\"].value_counts()",
   "id": "aa9f07dbb3b20c31",
   "outputs": [],
   "execution_count": null
  },
  {
   "metadata": {},
   "cell_type": "code",
   "source": "df[df[\"missing_swallow_start\"] == 1].shape[0]",
   "id": "572c4732728fa8b1",
   "outputs": [],
   "execution_count": null
  },
  {
   "metadata": {},
   "cell_type": "code",
   "source": "df[df[\"incomplete_swallow\"] == 1].shape[0]",
   "id": "dabddaabf8bd1da",
   "outputs": [],
   "execution_count": null
  },
  {
   "metadata": {},
   "cell_type": "code",
   "source": "df[df[\"bolus_present_initially\"] == 1].shape[0]",
   "id": "5267271b9f573f3e",
   "outputs": [],
   "execution_count": null
  },
  {
   "metadata": {},
   "cell_type": "code",
   "source": [
    "# how many rows with missing swallow start and or bolus present initially and or incomplete swallow\n",
    "df[(df[\"missing_swallow_start\"] == 1) | (df[\"bolus_present_initially\"] == 1) | (df[\"incomplete_swallow\"] == 1)].shape[0]"
   ],
   "id": "bb6cadb94aa7d00b",
   "outputs": [],
   "execution_count": null
  },
  {
   "metadata": {},
   "cell_type": "code",
   "source": "df[df[\"accessory_artifact\"] == 1].shape[0]",
   "id": "365b0ea27fe21ade",
   "outputs": [],
   "execution_count": null
  },
  {
   "metadata": {},
   "cell_type": "code",
   "source": [
    "\n",
    "# how many rows do we have if is_usable is 1 and artifact_detected is 0 and incomplete_swallow is 0 and missing_swallow_start is 0 and bolus_present_initially is 0 and accessory_artifact is 0 and visibility_issue is 0\n",
    "df[(df[\"is_usable\"] == 1) & (df[\"artifact_detected\"] == 0) & (df[\"incomplete_swallow\"] == 0) & (df[\"missing_swallow_start\"] == 0) & (df[\"bolus_present_initially\"] == 0) & (df[\"accessory_artifact\"] == 0) & (df[\"visibility_issue\"] == 0)].shape[0]"
   ],
   "id": "510a103926053014",
   "outputs": [],
   "execution_count": null
  },
  {
   "metadata": {},
   "cell_type": "code",
   "source": "df[(df[\"incomplete_swallow\"] == 1) | (df[\"missing_swallow_start\"] == 1) | (df[\"bolus_present_initially\"] == 1)].shape[0]",
   "id": "59ef1ff3c7d66885",
   "outputs": [],
   "execution_count": null
  },
  {
   "metadata": {},
   "cell_type": "code",
   "source": [
    "# how many rows do we have if is_usable is 1 and artifact_detected is 0 and incomplete_swallow is 0 and missing_swallow_start is 0 and bolus_present_initially is 0 and accessory_artifact is 0 and visibility_issue is 0 and forward_movement is 0 and severe_movement is 0\n",
    "df[(df[\"is_usable\"] == 1) & (df[\"artifact_detected\"] == 0) & (df[\"incomplete_swallow\"] == 0) & (df[\"missing_swallow_start\"] == 0) & (df[\"bolus_present_initially\"] == 0) & (df[\"accessory_artifact\"] == 0) & (df[\"visibility_issue\"] == 0) & (df[\"forward_movement\"] == 0) & (df[\"severe_movement\"] == 0)].shape[0]\n"
   ],
   "id": "79cd821353ab3f9e",
   "outputs": [],
   "execution_count": null
  },
  {
   "metadata": {},
   "cell_type": "code",
   "source": [
    "# how many rows do we have if artifact_detected is 1 and or incomplete_swallow is 1 and or missing_swallow_start is 1 and or bolus_present_initially is 1 and or accessory_artifact is 1 and or visibility_issue is 1 and or severe_movement is 1 and or forward_movement is 1\n",
    "df[(df[\"artifact_detected\"] == 1) | (df[\"incomplete_swallow\"] == 1) | (df[\"missing_swallow_start\"] == 1) | (df[\"bolus_present_initially\"] == 1) | (df[\"accessory_artifact\"] == 1) | (df[\"visibility_issue\"] == 1) | (df[\"severe_movement\"] == 1) | (df[\"forward_movement\"] == 1)].shape[0]"
   ],
   "id": "26c1949e948c14ff",
   "outputs": [],
   "execution_count": null
  },
  {
   "metadata": {},
   "cell_type": "code",
   "source": "",
   "id": "4a562d8cff6a435",
   "outputs": [],
   "execution_count": null
  }
 ],
 "metadata": {
  "kernelspec": {
   "display_name": "Python 3",
   "language": "python",
   "name": "python3"
  },
  "language_info": {
   "codemirror_mode": {
    "name": "ipython",
    "version": 2
   },
   "file_extension": ".py",
   "mimetype": "text/x-python",
   "name": "python",
   "nbconvert_exporter": "python",
   "pygments_lexer": "ipython2",
   "version": "2.7.6"
  }
 },
 "nbformat": 4,
 "nbformat_minor": 5
}

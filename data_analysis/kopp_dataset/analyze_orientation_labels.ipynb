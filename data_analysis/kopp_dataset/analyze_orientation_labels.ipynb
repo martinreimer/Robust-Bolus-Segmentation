{
 "cells": [
  {
   "cell_type": "code",
   "id": "initial_id",
   "metadata": {
    "collapsed": true,
    "ExecuteTime": {
     "end_time": "2024-11-30T15:48:25.439587Z",
     "start_time": "2024-11-30T15:48:25.421550Z"
    }
   },
   "source": "import pandas as pd",
   "outputs": [
    {
     "ename": "ModuleNotFoundError",
     "evalue": "No module named 'pandas'",
     "output_type": "error",
     "traceback": [
      "\u001B[1;31m---------------------------------------------------------------------------\u001B[0m",
      "\u001B[1;31mModuleNotFoundError\u001B[0m                       Traceback (most recent call last)",
      "Cell \u001B[1;32mIn[2], line 1\u001B[0m\n\u001B[1;32m----> 1\u001B[0m \u001B[38;5;28;01mimport\u001B[39;00m \u001B[38;5;21;01mpandas\u001B[39;00m \u001B[38;5;28;01mas\u001B[39;00m \u001B[38;5;21;01mpd\u001B[39;00m\n",
      "\u001B[1;31mModuleNotFoundError\u001B[0m: No module named 'pandas'"
     ]
    }
   ],
   "execution_count": 2
  },
  {
   "metadata": {
    "ExecuteTime": {
     "end_time": "2024-11-30T15:14:24.579379Z",
     "start_time": "2024-11-30T15:14:24.573998Z"
    }
   },
   "cell_type": "code",
   "source": [
    "path = \"kopp_video_labels.csv\"\n",
    "df = pd.read_csv(path)"
   ],
   "id": "1e1a6f51e6e6a95",
   "outputs": [],
   "execution_count": 5
  },
  {
   "metadata": {
    "ExecuteTime": {
     "end_time": "2024-11-30T15:14:25.092366Z",
     "start_time": "2024-11-30T15:14:25.083451Z"
    }
   },
   "cell_type": "code",
   "source": "df.head()",
   "id": "5c118689e97288f1",
   "outputs": [
    {
     "data": {
      "text/plain": [
       "           video_id  label\n",
       "0  1000159621_1.mp4      1\n",
       "1  1000159621_2.mp4      2\n",
       "2  1005454012_1.mp4      1\n",
       "3  1005454012_2.mp4      2\n",
       "4  1005454012_3.mp4      3"
      ],
      "text/html": [
       "<div>\n",
       "<style scoped>\n",
       "    .dataframe tbody tr th:only-of-type {\n",
       "        vertical-align: middle;\n",
       "    }\n",
       "\n",
       "    .dataframe tbody tr th {\n",
       "        vertical-align: top;\n",
       "    }\n",
       "\n",
       "    .dataframe thead th {\n",
       "        text-align: right;\n",
       "    }\n",
       "</style>\n",
       "<table border=\"1\" class=\"dataframe\">\n",
       "  <thead>\n",
       "    <tr style=\"text-align: right;\">\n",
       "      <th></th>\n",
       "      <th>video_id</th>\n",
       "      <th>label</th>\n",
       "    </tr>\n",
       "  </thead>\n",
       "  <tbody>\n",
       "    <tr>\n",
       "      <th>0</th>\n",
       "      <td>1000159621_1.mp4</td>\n",
       "      <td>1</td>\n",
       "    </tr>\n",
       "    <tr>\n",
       "      <th>1</th>\n",
       "      <td>1000159621_2.mp4</td>\n",
       "      <td>2</td>\n",
       "    </tr>\n",
       "    <tr>\n",
       "      <th>2</th>\n",
       "      <td>1005454012_1.mp4</td>\n",
       "      <td>1</td>\n",
       "    </tr>\n",
       "    <tr>\n",
       "      <th>3</th>\n",
       "      <td>1005454012_2.mp4</td>\n",
       "      <td>2</td>\n",
       "    </tr>\n",
       "    <tr>\n",
       "      <th>4</th>\n",
       "      <td>1005454012_3.mp4</td>\n",
       "      <td>3</td>\n",
       "    </tr>\n",
       "  </tbody>\n",
       "</table>\n",
       "</div>"
      ]
     },
     "execution_count": 6,
     "metadata": {},
     "output_type": "execute_result"
    }
   ],
   "execution_count": 6
  },
  {
   "metadata": {
    "ExecuteTime": {
     "end_time": "2024-11-30T15:14:25.956868Z",
     "start_time": "2024-11-30T15:14:25.951577Z"
    }
   },
   "cell_type": "code",
   "source": "df[\"label\"].value_counts()",
   "id": "56f4bd234eadc4c7",
   "outputs": [
    {
     "data": {
      "text/plain": [
       "label\n",
       "1    833\n",
       "3    739\n",
       "2    620\n",
       "4     39\n",
       "Name: count, dtype: int64"
      ]
     },
     "execution_count": 7,
     "metadata": {},
     "output_type": "execute_result"
    }
   ],
   "execution_count": 7
  },
  {
   "metadata": {
    "ExecuteTime": {
     "end_time": "2024-11-30T15:30:16.103619Z",
     "start_time": "2024-11-30T15:29:13.425572Z"
    }
   },
   "cell_type": "code",
   "source": [
    "# import Path\n",
    "from pathlib import Path\n",
    "import os\n",
    "import cv2\n",
    "\n",
    "videos_directory = r\"\\\\fauad.fau.de\\shares\\ANKI\\Projects\\Swallowing\\Data\\from_Kopp\\extracted_videos_and_images\"\n",
    "\n",
    "# Filter DataFrame where column 'label' is 4\n",
    "filtered_df = df[df[\"label\"] == 4].tail(10)\n",
    "# Construct full paths to the video files\n",
    "filtered_df[\"video_path\"] = filtered_df[\"video_id\"].apply(\n",
    "    lambda x: str(Path(videos_directory) / x)\n",
    ")\n",
    "\n",
    "\n",
    "# Set desired FPS\n",
    "desired_fps = 5  # Change this to the desired FPS\n",
    "frame_delay = int(1000 / desired_fps)  # Calculate delay in milliseconds\n",
    "\n",
    "# Display each video\n",
    "for path in filtered_df[\"video_path\"]:\n",
    "    # Print the full path\n",
    "    print(f\"Opening video: {path}\")\n",
    "\n",
    "    # Check if the file exists\n",
    "    if not os.path.exists(path):\n",
    "        print(f\"File not found: {path}\")\n",
    "        continue\n",
    "\n",
    "    # Open the video file\n",
    "    cap = cv2.VideoCapture(path)\n",
    "    if not cap.isOpened():\n",
    "        print(f\"Error: Could not open video at {path}\")\n",
    "        continue\n",
    "\n",
    "    # Get the original FPS of the video\n",
    "    original_fps = cap.get(cv2.CAP_PROP_FPS)\n",
    "    print(f\"Original FPS of the video: {original_fps:.2f}\")\n",
    "\n",
    "    # Play the video at the specified FPS\n",
    "    while cap.isOpened():\n",
    "        ret, frame = cap.read()\n",
    "        if not ret:\n",
    "            break  # Exit if the video is finished\n",
    "\n",
    "        cv2.imshow(\"Video Player\", frame)\n",
    "\n",
    "        # Wait for the specified delay (in milliseconds)\n",
    "        if cv2.waitKey(frame_delay) & 0xFF == ord('q'):  # Exit on 'q' key\n",
    "            break\n",
    "\n",
    "    # Release the video capture and close all OpenCV windows\n",
    "    cap.release()\n",
    "    cv2.destroyAllWindows()\n",
    "\n",
    "    print(f\"Closed video: {path}\\n\")"
   ],
   "id": "11b229b18f1daa15",
   "outputs": [
    {
     "name": "stdout",
     "output_type": "stream",
     "text": [
      "Opening video: \\\\fauad.fau.de\\shares\\ANKI\\Projects\\Swallowing\\Data\\from_Kopp\\extracted_videos_and_images\\5802971989_6.mp4\n",
      "Original FPS of the video: 5.00\n",
      "Closed video: \\\\fauad.fau.de\\shares\\ANKI\\Projects\\Swallowing\\Data\\from_Kopp\\extracted_videos_and_images\\5802971989_6.mp4\n",
      "\n",
      "Opening video: \\\\fauad.fau.de\\shares\\ANKI\\Projects\\Swallowing\\Data\\from_Kopp\\extracted_videos_and_images\\7202387277_1.mp4\n",
      "Original FPS of the video: 5.00\n",
      "Closed video: \\\\fauad.fau.de\\shares\\ANKI\\Projects\\Swallowing\\Data\\from_Kopp\\extracted_videos_and_images\\7202387277_1.mp4\n",
      "\n",
      "Opening video: \\\\fauad.fau.de\\shares\\ANKI\\Projects\\Swallowing\\Data\\from_Kopp\\extracted_videos_and_images\\8208362080_7.mp4\n",
      "Original FPS of the video: 5.00\n",
      "Closed video: \\\\fauad.fau.de\\shares\\ANKI\\Projects\\Swallowing\\Data\\from_Kopp\\extracted_videos_and_images\\8208362080_7.mp4\n",
      "\n",
      "Opening video: \\\\fauad.fau.de\\shares\\ANKI\\Projects\\Swallowing\\Data\\from_Kopp\\extracted_videos_and_images\\8856928158_2.mp4\n",
      "Original FPS of the video: 5.00\n",
      "Closed video: \\\\fauad.fau.de\\shares\\ANKI\\Projects\\Swallowing\\Data\\from_Kopp\\extracted_videos_and_images\\8856928158_2.mp4\n",
      "\n",
      "Opening video: \\\\fauad.fau.de\\shares\\ANKI\\Projects\\Swallowing\\Data\\from_Kopp\\extracted_videos_and_images\\8865010402_2.mp4\n",
      "Original FPS of the video: 5.00\n",
      "Closed video: \\\\fauad.fau.de\\shares\\ANKI\\Projects\\Swallowing\\Data\\from_Kopp\\extracted_videos_and_images\\8865010402_2.mp4\n",
      "\n",
      "Opening video: \\\\fauad.fau.de\\shares\\ANKI\\Projects\\Swallowing\\Data\\from_Kopp\\extracted_videos_and_images\\9240636642_3.mp4\n",
      "Original FPS of the video: 5.00\n",
      "Closed video: \\\\fauad.fau.de\\shares\\ANKI\\Projects\\Swallowing\\Data\\from_Kopp\\extracted_videos_and_images\\9240636642_3.mp4\n",
      "\n",
      "Opening video: \\\\fauad.fau.de\\shares\\ANKI\\Projects\\Swallowing\\Data\\from_Kopp\\extracted_videos_and_images\\9326178090_2.mp4\n",
      "Original FPS of the video: 5.00\n",
      "Closed video: \\\\fauad.fau.de\\shares\\ANKI\\Projects\\Swallowing\\Data\\from_Kopp\\extracted_videos_and_images\\9326178090_2.mp4\n",
      "\n",
      "Opening video: \\\\fauad.fau.de\\shares\\ANKI\\Projects\\Swallowing\\Data\\from_Kopp\\extracted_videos_and_images\\9839869285_2.mp4\n",
      "Original FPS of the video: 5.00\n",
      "Closed video: \\\\fauad.fau.de\\shares\\ANKI\\Projects\\Swallowing\\Data\\from_Kopp\\extracted_videos_and_images\\9839869285_2.mp4\n",
      "\n",
      "Opening video: \\\\fauad.fau.de\\shares\\ANKI\\Projects\\Swallowing\\Data\\from_Kopp\\extracted_videos_and_images\\9874895239_1.mp4\n",
      "Original FPS of the video: 5.00\n",
      "Closed video: \\\\fauad.fau.de\\shares\\ANKI\\Projects\\Swallowing\\Data\\from_Kopp\\extracted_videos_and_images\\9874895239_1.mp4\n",
      "\n",
      "Opening video: \\\\fauad.fau.de\\shares\\ANKI\\Projects\\Swallowing\\Data\\from_Kopp\\extracted_videos_and_images\\9926800545_1.mp4\n",
      "Original FPS of the video: 5.00\n",
      "Closed video: \\\\fauad.fau.de\\shares\\ANKI\\Projects\\Swallowing\\Data\\from_Kopp\\extracted_videos_and_images\\9926800545_1.mp4\n",
      "\n"
     ]
    }
   ],
   "execution_count": 25
  },
  {
   "metadata": {},
   "cell_type": "code",
   "outputs": [],
   "execution_count": null,
   "source": "",
   "id": "f503e2ce121599e7"
  }
 ],
 "metadata": {
  "kernelspec": {
   "display_name": "Python 3",
   "language": "python",
   "name": "python3"
  },
  "language_info": {
   "codemirror_mode": {
    "name": "ipython",
    "version": 2
   },
   "file_extension": ".py",
   "mimetype": "text/x-python",
   "name": "python",
   "nbconvert_exporter": "python",
   "pygments_lexer": "ipython2",
   "version": "2.7.6"
  }
 },
 "nbformat": 4,
 "nbformat_minor": 5
}

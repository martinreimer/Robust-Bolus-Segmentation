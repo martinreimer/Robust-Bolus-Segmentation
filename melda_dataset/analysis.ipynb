{
 "cells": [
  {
   "metadata": {},
   "cell_type": "markdown",
   "source": [
    "# Analysis of Melda Dataset (US, Pathological Swallowing)\n",
    "TLDR: 484 swallows of patients with dysphagia\n",
    "\n",
    "Pros:\n",
    "- swallows extracted\n",
    "- patient information\n",
    "\n",
    "- full swallows + split swallows mp4 files\n",
    "- X-ray videos of pathological swallows from Dr. Melda Kunduc\n",
    "- folder structure:\n",
    "    - patient id mp4 folders\n",
    "        - 484 identifiers\n",
    "        - variants:\n",
    "            - 1 full mp4 video\n",
    "            - 1 full mp4 video + swallow split videos + excel explaining split +  sc file + crf\n",
    "              - .sc files: swallow cut tmp\n",
    "    - abnormals folder\n",
    "        - 10 mp4/mpg files each having abnormal description in filename (long videos)\n",
    "    - DICOM folder\n",
    "        - 7 folders with id in name\n",
    "                -  each has MKV files\n",
    "    - pt1_anon - pt8_anon folders\n",
    "        - video of split swallows\n",
    "        - each has mp4 files, excel files with split info, some also mask files\n",
    "    - De-identified_demographic_Sheet.xlsx\n",
    "        - some information about diseases idk\n",
    "    - folder_list.xlsx\n",
    "        - list of patient id folders\n",
    "    - from_melda.xlsx\n",
    "        - maping of patient id to video ids and their metadata\n",
    "        - columns: Patient ID\tVideo Name\tVisit\tHeight\tWidth\tif CRF\tif Extracted\n",
    "    - from_melda_events.xslx\n",
    "        - mapping of video ids to video snippet ids + length info\n",
    "        - columns: Patient ID\tVideo Name\tEvent Name\tlength\tif annotated\tswallow type\tquality\n",
    "    - from_melda_events_with_rating.xlsx\n",
    "        - better than above\n",
    "        - mapping of video ods to snippet ids + length + swallow type\n",
    "        - columns: Patient ID\tVideo Name\tEvent Name\tlength\tif annotated\tswallow type\tquality\tcomments\n",
    "    - spreadsheet.ipynb\n",
    "\n",
    "- Google Docs: Swallowing Dataset Annotation\n",
    "    -  Patho VSSS Info\n",
    "\n",
    "\n",
    "Q:\n",
    "- patient info?\n",
    "- Deidentified demo sheet: Is each row one patient (480 rows)? Is row id related to patient id/folder list id?\n",
    "- whats pt1_anon - pt8_anon folders? Mapping in google doc?\n",
    "- What are crf videos next to normal ones?\n",
    "- sollen alle videos noch extracted und verwendet werden?\n",
    "- 22x age missing, but birth year is there?\n",
    "- Exlucde data where age or gender missing?\n",
    "- Usage of dysphagia patients only or also including other pathologies?\n",
    "- Why are in the execls more swallow splits recorded than in the video folders? Because these other swallows are not frontal videos?\n",
    "- Why are there (4 times) negative frame counts?"
   ],
   "id": "e69322e0642c034e"
  },
  {
   "metadata": {},
   "cell_type": "code",
   "source": "",
   "id": "70a46a44efec882",
   "outputs": [],
   "execution_count": null
  },
  {
   "metadata": {},
   "cell_type": "code",
   "source": [
    "import pandas as pd\n",
    "import os\n",
    "import cv2\n",
    "import matplotlib.pyplot as plt\n",
    "from tqdm import tqdm"
   ],
   "id": "c2bae7c6bb2690e2",
   "outputs": [],
   "execution_count": null
  },
  {
   "metadata": {},
   "cell_type": "code",
   "source": "dataset_path = r\"\\\\fauad.fau.de\\shares\\ANKI\\Projects\\Swallowing\\Data\\from_Melda\"",
   "id": "3d731da839d48cb",
   "outputs": [],
   "execution_count": null
  },
  {
   "metadata": {},
   "cell_type": "code",
   "source": [
    "\n",
    "def analyze_patient_data(base_directory):\n",
    "    data = []\n",
    "\n",
    "    folders = os.listdir(base_directory)\n",
    "    # only check folders in base directory, also only with numbers\n",
    "    folders = ([f for f in folders if f.isnumeric()])\n",
    "    # Iterate over each patient folder\n",
    "    for patient_id in tqdm(folders):\n",
    "        patient_folder = os.path.join(base_directory, patient_id)\n",
    "        if not os.path.isdir(patient_folder):\n",
    "            continue  # Skip if not a folder\n",
    "\n",
    "        # Initialize patient data\n",
    "        patient_data = {\n",
    "            \"PatientID\": patient_id,\n",
    "            \"VisitCount\": 0,\n",
    "            \"ExcelRowCounts\": [],  # List of row counts per video\n",
    "            \"FullVideosTotalFrames\": [],  # Frame counts for full videos\n",
    "            \"FullVideosNames\": [],  # Names of full videos\n",
    "            \"SwallowFrames\": [],  # Frame counts for swallow videos\n",
    "            \"NegativeFramesVideos\": \"\",  # Video IDs with negative frames\n",
    "        }\n",
    "\n",
    "        # Iterate over each file in the patient folder\n",
    "        for file in os.listdir(patient_folder):\n",
    "            file_path = os.path.join(patient_folder, file)\n",
    "\n",
    "            # Analyze full videos\n",
    "            if file.endswith(\".mp4\"):\n",
    "                video = cv2.VideoCapture(file_path)\n",
    "                frame_count = int(video.get(cv2.CAP_PROP_FRAME_COUNT))\n",
    "                video.release()\n",
    "\n",
    "                if \"_fixed_\" in file:  # Swallow videos\n",
    "                    patient_data[\"SwallowFrames\"].append(frame_count)\n",
    "                elif \"_fixed\" in file or \"_fixed_CRF8\":  # Full visit videos\n",
    "                    patient_data[\"VisitCount\"] += 1\n",
    "                    patient_data[\"FullVideosTotalFrames\"].append(frame_count)\n",
    "                    patient_data[\"FullVideosNames\"].append(file)\n",
    "\n",
    "            # Analyze Excel/CSV files\n",
    "            if (file.endswith(\".xlsx\") or file.endswith(\".csv\")) and not \"$\" in file: # filter out \"hidden\" ~$ tmp files\n",
    "                try:\n",
    "                    # Read file\n",
    "                    if file.endswith(\".xlsx\"):\n",
    "                        visit_data = pd.read_excel(file_path, engine='openpyxl')\n",
    "                    else:\n",
    "                        visit_data = pd.read_csv(file_path)\n",
    "\n",
    "                    # Count rows and append to ExcelRowCounts\n",
    "                    row_count = len(visit_data)\n",
    "                    patient_data[\"ExcelRowCounts\"].append(row_count)\n",
    "\n",
    "                    # Check for negative frames\n",
    "                    if \"From frame\" in visit_data.columns and \"To frame\" in visit_data.columns:\n",
    "                        frame_durations = visit_data[\"To frame\"] - visit_data[\"From frame\"]\n",
    "                        negative_frames_videos = visit_data.loc[frame_durations < 0]\n",
    "                        if not negative_frames_videos.empty:\n",
    "                            if patient_data[\"NegativeFramesVideos\"]:\n",
    "                                patient_data[\"NegativeFramesVideos\"] += f\", {file}\"\n",
    "                            else:\n",
    "                                patient_data[\"NegativeFramesVideos\"] = file\n",
    "                except Exception as e:\n",
    "                    print(f\"Error reading file {file_path}: {e}\")\n",
    "                    continue  # Skip problematic files\n",
    "\n",
    "        # Add to the overall data\n",
    "        data.append(patient_data)\n",
    "\n",
    "    # Create DataFrame from the collected data\n",
    "    df = pd.DataFrame(data)\n",
    "\n",
    "    return df\n",
    "\n",
    "df_folders = analyze_patient_data(dataset_path)\n",
    "\n"
   ],
   "id": "c233429c4ecfb4f2",
   "outputs": [],
   "execution_count": null
  },
  {
   "metadata": {},
   "cell_type": "code",
   "source": "df_folders",
   "id": "43f4b0bda5cb0c2f",
   "outputs": [],
   "execution_count": null
  },
  {
   "metadata": {},
   "cell_type": "code",
   "source": [
    "'''\n",
    "def analyze_patient_data(base_directory):\n",
    "    data = []\n",
    "    folders = os.listdir(base_directory)\n",
    "    # only check folders in base directory, also only with numbers\n",
    "    folders = ([f for f in folders if f.isnumeric()])\n",
    "    # Iterate over each patient folder\n",
    "    for patient_id in tqdm(folders):\n",
    "        #print(patient_id)\n",
    "        patient_folder = os.path.join(base_directory, patient_id)\n",
    "        if not os.path.isdir(patient_folder):\n",
    "            continue  # Skip if not a folder\n",
    "\n",
    "        # Initialize patient data\n",
    "        patient_data = {\n",
    "            \"PatientID\": patient_id,\n",
    "            \"VisitCount\": 0,\n",
    "            \"IsProcessed\": False,\n",
    "            \"ProcessedSwallows\": 0,\n",
    "            \"FramesPerSwallow\": [],\n",
    "            \"AverageFramesPerSwallow\": None,\n",
    "            \"Paradigms\": [],\n",
    "            \"IsCRF8\": False,\n",
    "        }\n",
    "\n",
    "        # Iterate over each file in the patient folder\n",
    "        for file in os.listdir(patient_folder):\n",
    "            if file.endswith(\".mp4\"):\n",
    "                # Count visits based on video filenames\n",
    "                if \"_Visit\" in file:\n",
    "                    patient_data[\"VisitCount\"] += 1\n",
    "                    if \"CRF8\" in file:\n",
    "                        patient_data[\"IsCRF8\"] = True\n",
    "\n",
    "            if (file.endswith(\".xlsx\") or file.endswith(\".csv\")) and not \"$\" in file: # filter out \"hidden\" ~$ tmp files\n",
    "                # Identify processed data\n",
    "                if \"_Visit\" in file:\n",
    "                    patient_data[\"IsProcessed\"] = True\n",
    "\n",
    "                    # Read the file (CSV or Excel) to extract swallow information\n",
    "                    file_path = os.path.join(patient_folder, file)\n",
    "                    if file.endswith(\".xlsx\"):\n",
    "                        visit_data = pd.read_excel(file_path,  engine='openpyxl')\n",
    "                    else:\n",
    "                        visit_data = pd.read_csv(file_path)\n",
    "\n",
    "                    # Extract number of swallows and paradigms\n",
    "                    patient_data[\"ProcessedSwallows\"] += len(visit_data)\n",
    "                    if \"From frame\" in visit_data and \"To frame\" in visit_data:\n",
    "                        frames = visit_data[\"To frame\"] - visit_data[\"From frame\"]\n",
    "                        # check for negative values\n",
    "                        if (frames < 0).sum() > 0:\n",
    "                            pass #print(f\"Negative frame values in {file_path} of patient {patient_id}\")\n",
    "                        patient_data[\"FramesPerSwallow\"].extend(frames)\n",
    "                        patient_data[\"AverageFramesPerSwallow\"] = frames.mean()\n",
    "                    if \"Paradigm\" in visit_data:\n",
    "                        patient_data[\"Paradigms\"].extend(visit_data[\"Paradigm\"].unique())\n",
    "\n",
    "        # Add to the overall data\n",
    "        data.append(patient_data)\n",
    "        #break\n",
    "    # Create DataFrame from the collected data\n",
    "    df = pd.DataFrame(data)\n",
    "\n",
    "    # Clean up Paradigms column to be unique lists\n",
    "    df[\"Paradigms\"] = df[\"Paradigms\"].apply(lambda x: list(set(x)) if isinstance(x, list) else [])\n",
    "\n",
    "    return df\n",
    "\n",
    "# Directory containing the patient data\n",
    "df_folders_excel = analyze_patient_data(dataset_path)\n",
    "'''"
   ],
   "id": "8c20eb14641567fd",
   "outputs": [],
   "execution_count": null
  },
  {
   "metadata": {},
   "cell_type": "code",
   "source": "df_folders",
   "id": "6e322011febfc501",
   "outputs": [],
   "execution_count": null
  },
  {
   "metadata": {},
   "cell_type": "code",
   "source": [
    "# create column num of swallow frames\n",
    "df_folders[\"NumSwallowFrames\"] = df_folders[\"SwallowFrames\"].apply(lambda x: len(x))\n",
    "# create column num of total excel swallows (sum of all swallows in all excel files)\n",
    "df_folders[\"NumTotalExcelSwallows\"] = df_folders[\"ExcelRowCounts\"].apply(lambda x: sum(x))\n",
    "df_folders"
   ],
   "id": "2280dbe1533e938f",
   "outputs": [],
   "execution_count": null
  },
  {
   "metadata": {},
   "cell_type": "code",
   "source": "",
   "id": "852608a56697e390",
   "outputs": [],
   "execution_count": null
  },
  {
   "metadata": {},
   "cell_type": "markdown",
   "source": "How much patient data already processed?",
   "id": "521e2b501f5102ef"
  },
  {
   "metadata": {},
   "cell_type": "code",
   "source": [
    "df_folders[\"IsProcessed\"] = df_folders[\"SwallowFrames\"].apply(lambda x: len(x) > 0)\n",
    "df_folders_processed = df_folders[df_folders[\"IsProcessed\"]]\n",
    "df_folders[\"IsProcessed\"].value_counts()"
   ],
   "id": "bb2dfbebf2d2b5e0",
   "outputs": [],
   "execution_count": null
  },
  {
   "metadata": {},
   "cell_type": "markdown",
   "source": "Videos per patient distribution",
   "id": "8902fa1d49a0bda8"
  },
  {
   "metadata": {},
   "cell_type": "code",
   "source": "df_folders[\"VisitCount\"].value_counts()\n",
   "id": "1a2800fb57c6abde",
   "outputs": [],
   "execution_count": null
  },
  {
   "metadata": {},
   "cell_type": "code",
   "source": [
    "# Plot the distribution of visits per patient\n",
    "plt.figure(figsize=(10, 6))\n",
    "plt.hist(df_folders[\"VisitCount\"], bins=range(1, df_folders[\"VisitCount\"].max() + 2), edgecolor='black')\n",
    "# add x amd y labels\n",
    "plt.xlabel(\"Number of Visits\")\n",
    "plt.ylabel(\"Number of Patients\")\n",
    "plt.title(\"Distribution of Visits per Patient\")"
   ],
   "id": "b4d706565d3ab029",
   "outputs": [],
   "execution_count": null
  },
  {
   "metadata": {},
   "cell_type": "markdown",
   "source": "for the processed data: ...",
   "id": "6283d32591494181"
  },
  {
   "metadata": {},
   "cell_type": "markdown",
   "source": "how many swallows per patient?",
   "id": "6fb48c04f7f66ec1"
  },
  {
   "metadata": {},
   "cell_type": "code",
   "source": [
    "# Plot the distribution of processed swallows per patient\n",
    "plt.figure(figsize=(10, 6))\n",
    "plt.hist(df_folders_processed[\"NumSwallowFrames\"], bins=range(1, df_folders_processed[\"NumSwallowFrames\"].max() + 2), edgecolor='black')\n",
    "# add x amd y labels\n",
    "plt.xlabel(\"Number of Swallows\")\n",
    "plt.ylabel(\"Number of Patients\")\n",
    "plt.title(\"Distribution of Swallows per Patient\")"
   ],
   "id": "1eb8b8328ca354fb",
   "outputs": [],
   "execution_count": null
  },
  {
   "metadata": {},
   "cell_type": "markdown",
   "source": "how many frames per swallow?",
   "id": "65a295ac941d1046"
  },
  {
   "metadata": {},
   "cell_type": "code",
   "source": "df_folders_processed",
   "id": "6d86b7bc6cd04fbd",
   "outputs": [],
   "execution_count": null
  },
  {
   "metadata": {},
   "cell_type": "code",
   "source": [
    "# need to explode frames list col\n",
    "df_frames = df_folders_processed.explode(\"SwallowFrames\")\n",
    "df_frames[\"SwallowFrames\"] = df_frames[\"SwallowFrames\"].astype(int)\n",
    "df_frames[\"SwallowFrames\"].describe()"
   ],
   "id": "55a9522664d09759",
   "outputs": [],
   "execution_count": null
  },
  {
   "metadata": {},
   "cell_type": "code",
   "source": [
    "# filter out values above 150\n",
    "df_frames = df_frames[df_frames[\"SwallowFrames\"] < 150]"
   ],
   "id": "72e37c103f87e591",
   "outputs": [],
   "execution_count": null
  },
  {
   "metadata": {},
   "cell_type": "code",
   "source": [
    "# plot distribution of frames per swallow\n",
    "plt.figure(figsize=(10, 6))\n",
    "plt.hist(df_frames[\"SwallowFrames\"], bins=range(1, df_frames[\"SwallowFrames\"].max() + 2), edgecolor='black')\n",
    "plt.xlabel(\"Number of Frames\")\n",
    "plt.ylabel(\"Number of Swallows\")\n",
    "plt.title(\"Distribution of Frames per Swallow\")"
   ],
   "id": "5848011c8b753a07",
   "outputs": [],
   "execution_count": null
  },
  {
   "metadata": {},
   "cell_type": "markdown",
   "source": " noch sekunden pro video + fps berechnen",
   "id": "752416b4f34df284"
  },
  {
   "metadata": {},
   "cell_type": "code",
   "source": "",
   "id": "50207f01e2b2f210",
   "outputs": [],
   "execution_count": null
  },
  {
   "metadata": {},
   "cell_type": "code",
   "source": "",
   "id": "f9285bba1d03508d",
   "outputs": [],
   "execution_count": null
  },
  {
   "metadata": {},
   "cell_type": "markdown",
   "source": "numswallowframes != numtotalexcelswallows",
   "id": "c401d555402e1029"
  },
  {
   "metadata": {},
   "cell_type": "code",
   "source": "",
   "id": "ef668067b3ec48d2",
   "outputs": [],
   "execution_count": null
  },
  {
   "metadata": {},
   "cell_type": "code",
   "source": "",
   "id": "1f08cb955346ee7d",
   "outputs": [],
   "execution_count": null
  },
  {
   "metadata": {},
   "cell_type": "code",
   "source": [
    "# check where numswallowframes != numtotalexcelswallows\n",
    "df_folders[df_folders[\"NumSwallowFrames\"] != df_folders[\"NumTotalExcelSwallows\"]]"
   ],
   "id": "f67294a12923cb12",
   "outputs": [],
   "execution_count": null
  },
  {
   "metadata": {},
   "cell_type": "code",
   "source": "",
   "id": "6f8ef0378ab60877",
   "outputs": [],
   "execution_count": null
  },
  {
   "metadata": {},
   "cell_type": "code",
   "source": "",
   "id": "86b52671d7b22d79",
   "outputs": [],
   "execution_count": null
  },
  {
   "metadata": {},
   "cell_type": "code",
   "source": "",
   "id": "bd655fbd09351702",
   "outputs": [],
   "execution_count": null
  },
  {
   "metadata": {},
   "cell_type": "markdown",
   "source": "### Analyze demographics",
   "id": "b8d8d6dd9b5a0df1"
  },
  {
   "metadata": {},
   "cell_type": "code",
   "source": [
    "# Load data\n",
    "df_patient_info = pd.read_csv('Patho_VFSS_Info_1205.csv')\n",
    "df_patient_info.tail()"
   ],
   "id": "8d17e4df2ea2ef5e",
   "outputs": [],
   "execution_count": null
  },
  {
   "metadata": {},
   "cell_type": "code",
   "source": [
    "# column explanations\n",
    "df_patient_info[df_patient_info[\"UID\"].isna()]\n",
    "# drop explanation rows\n",
    "df_patient_info = df_patient_info.dropna(subset=[\"UID\"])"
   ],
   "id": "4418969272f23b2e",
   "outputs": [],
   "execution_count": null
  },
  {
   "metadata": {},
   "cell_type": "markdown",
   "source": "Check NaN",
   "id": "dbc228f7ea7b9c94"
  },
  {
   "metadata": {},
   "cell_type": "code",
   "source": [
    "# which columns have nan values?\n",
    "df_patient_info.isna().sum()"
   ],
   "id": "67cbc9e3517fe328",
   "outputs": [],
   "execution_count": null
  },
  {
   "metadata": {},
   "cell_type": "code",
   "source": "df_patient_info.head()",
   "id": "c2fdd141c385276f",
   "outputs": [],
   "execution_count": null
  },
  {
   "metadata": {},
   "cell_type": "markdown",
   "source": "preprocess gender",
   "id": "4902354fb69f764a"
  },
  {
   "metadata": {},
   "cell_type": "code",
   "source": "df_patient_info[\"Gender\"] = df_patient_info[\"Gender\"].replace({\"0\": \"M\", \"1\": \"F\"})",
   "id": "fe3508e9d8bab0ed",
   "outputs": [],
   "execution_count": null
  },
  {
   "metadata": {},
   "cell_type": "markdown",
   "source": "preprocess age",
   "id": "262c9839547ae918"
  },
  {
   "metadata": {},
   "cell_type": "code",
   "source": [
    "# process columns with multiple values per cell\n",
    "# Step 1: Convert the Age column to lists\n",
    "def process_age(value):\n",
    "    if pd.isna(value):  # Check for NaN\n",
    "        return None  # Return an empty list for NaN\n",
    "    elif isinstance(value, str):\n",
    "        # Split by any combination of commas and spaces, then convert to integers\n",
    "        return [int(x.strip()) for x in value.replace(',', ', ').split(', ') if x.strip().isdigit()]\n",
    "    else:\n",
    "        return [int(value)]\n",
    "\n",
    "df_patient_info['Age'] = df_patient_info['Age'].apply(process_age)\n",
    "\n",
    "# Step 2: Expand rows so each age value gets its own row\n",
    "df_patient_age = df_patient_info.explode('Age')\n",
    "# drop nan values\n",
    "df_patient_age = df_patient_age.dropna(subset=[\"Age\"])\n",
    "\n",
    "# Step 3: Create an ordering index\n",
    "df_patient_age['Index'] = df_patient_age.groupby('UID').cumcount() + 1\n",
    "\n",
    "# Step 4: Convert the Age column to integers\n",
    "#df_patient_age = df_patient_age[['UID','Age','Year of Birth']].copy()\n",
    "# convert col to int\n",
    "df_patient_age['Age'] = df_patient_age['Age'].astype(int)\n",
    "df_patient_age"
   ],
   "id": "fd930fd19f63a9ea",
   "outputs": [],
   "execution_count": null
  },
  {
   "metadata": {},
   "cell_type": "markdown",
   "source": "### patient info",
   "id": "8c7e95340c55764a"
  },
  {
   "metadata": {},
   "cell_type": "code",
   "source": [
    "# how many patients?\n",
    "len(df_patient_info[\"UID\"].unique())"
   ],
   "id": "5261b3b5d63244b",
   "outputs": [],
   "execution_count": null
  },
  {
   "metadata": {},
   "cell_type": "markdown",
   "source": "age",
   "id": "86e5bf916f86dc18"
  },
  {
   "metadata": {},
   "cell_type": "code",
   "source": [
    "# plot distribution of age\n",
    "print(\"Age Stats:\")\n",
    "print(df_patient_age[\"Age\"].describe())\n",
    "# na values are age = 0\n",
    "print(f\"\\nPatients with missing age: {df_patient_info[\"Age\"].isna().sum()}\")"
   ],
   "id": "8753bbe802bddf06",
   "outputs": [],
   "execution_count": null
  },
  {
   "metadata": {},
   "cell_type": "code",
   "source": [
    "# Plot the age distribution\n",
    "\n",
    "# Determine the bin range\n",
    "min_age = df_patient_age[\"Age\"].min()\n",
    "max_age = df_patient_age[\"Age\"].max()\n",
    "bins = range(min_age, max_age + 2, 5)  # Bin width of 2 years\n",
    "\n",
    "# Plot histogram for all data combined (no gender differentiation)\n",
    "plt.figure(figsize=(10, 6))\n",
    "plt.hist(\n",
    "    df_patient_age[\"Age\"],\n",
    "    bins=bins,\n",
    "    density=True,\n",
    "    edgecolor='black'\n",
    ")\n",
    "plt.ylim(0, 0.01)  # Adjust based on expected density range\n",
    "plt.yticks([0, 0.01, 0.02, 0.03, 0.04, 0.05])  # Standardized ticks\n",
    "\n",
    "# Add titles and labels\n",
    "plt.title(\"Normalized Age Distribution\")\n",
    "plt.xlabel(\"Age\")\n",
    "plt.ylabel(\"Density\")\n",
    "plt.grid(axis='y', linestyle='--', alpha=0.7)\n",
    "\n",
    "# Show the plot\n",
    "plt.show()"
   ],
   "id": "9ca23dfd65eb3967",
   "outputs": [],
   "execution_count": null
  },
  {
   "metadata": {},
   "cell_type": "markdown",
   "source": "gender",
   "id": "e8c0f4e8596cdb4c"
  },
  {
   "metadata": {},
   "cell_type": "code",
   "source": [
    "# show gender stats (0 = Male, 1 = Female)\n",
    "print(f\"Missing Gender: {df_patient_info[\"Gender\"].isna().sum()}\")\n",
    "print(df_patient_info[\"Gender\"].value_counts())\n",
    "print(round(df_patient_info[\"Gender\"].value_counts() / len(df_patient_info[\"Gender\"].dropna()), 2))"
   ],
   "id": "af7243db5c1f2a43",
   "outputs": [],
   "execution_count": null
  },
  {
   "metadata": {},
   "cell_type": "markdown",
   "source": "age distribution per gender\n",
   "id": "ace49064ee3bb7ea"
  },
  {
   "metadata": {},
   "cell_type": "code",
   "source": [
    "# Adjust bins to be consistent for both genders\n",
    "plt.figure(figsize=(10, 6))\n",
    "\n",
    "# Determine a consistent bin range for both genders\n",
    "min_age = df_patient_age[\"Age\"].min()\n",
    "max_age = df_patient_age[\"Age\"].max()\n",
    "bins = range(min_age, max_age + 2, 5)  # Bin width of 2 years\n",
    "\n",
    "for gender in df_patient_age[\"Gender\"].unique():\n",
    "    subset = df_patient_age[df_patient_age[\"Gender\"] == gender]\n",
    "    plt.hist(subset[\"Age\"], bins=bins, alpha=0.6, density=True, label=f\"{gender}\", edgecolor='black')\n",
    "\n",
    "plt.ylim(0, 0.01)  # Adjust based on expected density range\n",
    "plt.yticks([0, 0.01, 0.02, 0.03, 0.04, 0.05])  # Standardized ticks\n",
    "\n",
    "plt.title(\"Normalized Age Distribution by Gender with Consistent Bins\")\n",
    "plt.xlabel(\"Age\")\n",
    "plt.ylabel(\"Density\")\n",
    "plt.legend(title=\"Gender\")\n",
    "plt.grid(axis='y', linestyle='--', alpha=0.7)\n",
    "plt.show()"
   ],
   "id": "ca7f83f32a0b62bf",
   "outputs": [],
   "execution_count": null
  },
  {
   "metadata": {},
   "cell_type": "code",
   "source": "df_patient_info",
   "id": "78b4206426bb777a",
   "outputs": [],
   "execution_count": null
  },
  {
   "metadata": {},
   "cell_type": "markdown",
   "source": " acquistion dates by adding age(s) to birth year",
   "id": "b9f68d605c113847"
  },
  {
   "metadata": {},
   "cell_type": "code",
   "source": [
    "# add to the df_patient_age column acquisition date\n",
    "df_patient_age[\"Acquisition Date\"] = (df_patient_age[\"Year of Birth\"] + df_patient_age[\"Age\"]).astype(int)\n",
    "df_patient_age"
   ],
   "id": "2a68f7b5ca4ffbb7",
   "outputs": [],
   "execution_count": null
  },
  {
   "metadata": {},
   "cell_type": "code",
   "source": [
    "# plot distribution of acquisition dates per year\n",
    "df_patient_age['Acquisition Date'].value_counts().sort_index().plot(kind='bar')"
   ],
   "id": "7fb484615ba4ef51",
   "outputs": [],
   "execution_count": null
  },
  {
   "metadata": {},
   "cell_type": "code",
   "source": "df_patient_info",
   "id": "adc37ede90d22212",
   "outputs": [],
   "execution_count": null
  },
  {
   "metadata": {},
   "cell_type": "code",
   "source": "",
   "id": "f524500948c18365",
   "outputs": [],
   "execution_count": null
  },
  {
   "metadata": {},
   "cell_type": "markdown",
   "source": "types of medical diagnosis",
   "id": "287ce5d0f0a77c5"
  },
  {
   "metadata": {},
   "cell_type": "code",
   "source": [
    "# Convert the string column into lists\n",
    "def process_conditions(value):\n",
    "    if pd.isna(value):  # Handle NaN values\n",
    "        return []\n",
    "    # Split on commas and strip extra whitespace, remove empty strings\n",
    "    return [item.strip() for item in value.split(',') if item.strip()]\n",
    "\n",
    "df_patient_info[\"Associated Medical diagnosis\"] = df_patient_info[\"Associated Medical diagnosis\"].apply(process_conditions)\n",
    "#df_patient_info"
   ],
   "id": "8e40d63786aed3c1",
   "outputs": [],
   "execution_count": null
  },
  {
   "metadata": {},
   "cell_type": "markdown",
   "source": "count of conditions",
   "id": "cf5e0c1f507e5968"
  },
  {
   "metadata": {},
   "cell_type": "code",
   "source": [
    "df_medical_conditions = df_patient_info.explode(\"Associated Medical diagnosis\")\n",
    "df_medical_conditions[\"Associated Medical diagnosis\"].value_counts()"
   ],
   "id": "68b2338c351b1ddf",
   "outputs": [],
   "execution_count": null
  },
  {
   "metadata": {},
   "cell_type": "code",
   "source": [
    "# how many unique medical diagnosis?\n",
    "print(f\"Unique Medical Diagnosis: {df_medical_conditions['Associated Medical diagnosis'].explode().nunique()}\")\n",
    "\n",
    "# how many diagnosis conditions contain the word \"swallowing\" or \"dysphagia\"?\n",
    "print(f\"Unique Swallowing Conditions: {df_medical_conditions['Associated Medical diagnosis'].drop_duplicates().str.contains('swallowing|dysphagia', case=False, na=False).sum()}\")\n",
    "\n",
    "# how many patients have diagnosis that contains words \"swallowing\" or \"dysphagia\"?\n",
    "print(f\"Patients with swallowing diagnosis: {df_medical_conditions[\"Associated Medical diagnosis\"].str.contains('swallowing|dysphagia', case=False, na=False).sum()} (out of {len(df_patient_info)})\")\n"
   ],
   "id": "1aee69bed8eeab7f",
   "outputs": [],
   "execution_count": null
  },
  {
   "metadata": {},
   "cell_type": "markdown",
   "source": "how many conditions per patient?",
   "id": "3fc68a711537de0d"
  },
  {
   "metadata": {},
   "cell_type": "code",
   "source": [
    "# how many conditions per patient?\n",
    "df_medical_conditions[\"UID\"].value_counts().value_counts()"
   ],
   "id": "e83fa54784372bd6",
   "outputs": [],
   "execution_count": null
  },
  {
   "metadata": {},
   "cell_type": "code",
   "source": "df_medical_conditions",
   "id": "9384fb39be604ac9",
   "outputs": [],
   "execution_count": null
  },
  {
   "metadata": {},
   "cell_type": "code",
   "source": "",
   "id": "a1f97d7c93148883",
   "outputs": [],
   "execution_count": null
  }
 ],
 "metadata": {
  "kernelspec": {
   "display_name": "Python 3",
   "language": "python",
   "name": "python3"
  },
  "language_info": {
   "codemirror_mode": {
    "name": "ipython",
    "version": 2
   },
   "file_extension": ".py",
   "mimetype": "text/x-python",
   "name": "python",
   "nbconvert_exporter": "python",
   "pygments_lexer": "ipython2",
   "version": "2.7.6"
  }
 },
 "nbformat": 4,
 "nbformat_minor": 5
}

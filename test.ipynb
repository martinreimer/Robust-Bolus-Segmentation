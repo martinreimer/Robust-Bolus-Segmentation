{
 "cells": [
  {
   "cell_type": "code",
   "id": "initial_id",
   "metadata": {
    "collapsed": true,
    "ExecuteTime": {
     "end_time": "2024-11-24T14:50:17.776161Z",
     "start_time": "2024-11-24T14:50:13.007864Z"
    }
   },
   "source": "pip install python-gdcm",
   "outputs": [
    {
     "name": "stdout",
     "output_type": "stream",
     "text": [
      "Collecting python-gdcm\n",
      "  Obtaining dependency information for python-gdcm from https://files.pythonhosted.org/packages/14/70/a7d708582292f8169ea6889dd14ead46161d856a0a5cc103c53856b787f6/python_gdcm-3.0.24.1-cp312-cp312-win_amd64.whl.metadata\n",
      "  Downloading python_gdcm-3.0.24.1-cp312-cp312-win_amd64.whl.metadata (3.8 kB)\n",
      "Downloading python_gdcm-3.0.24.1-cp312-cp312-win_amd64.whl (28.9 MB)\n",
      "   ---------------------------------------- 0.0/28.9 MB ? eta -:--:--\n",
      "   ---------------------------------------- 0.0/28.9 MB 2.0 MB/s eta 0:00:15\n",
      "    --------------------------------------- 0.6/28.9 MB 8.8 MB/s eta 0:00:04\n",
      "   - -------------------------------------- 1.4/28.9 MB 11.4 MB/s eta 0:00:03\n",
      "   --- ------------------------------------ 2.8/28.9 MB 17.7 MB/s eta 0:00:02\n",
      "   ------ --------------------------------- 4.7/28.9 MB 21.6 MB/s eta 0:00:02\n",
      "   ---------- ----------------------------- 7.8/28.9 MB 29.5 MB/s eta 0:00:01\n",
      "   ---------------- ----------------------- 12.2/28.9 MB 59.5 MB/s eta 0:00:01\n",
      "   ------------------------ --------------- 17.6/28.9 MB 93.9 MB/s eta 0:00:01\n",
      "   --------------------------- ------------ 19.9/28.9 MB 108.8 MB/s eta 0:00:01\n",
      "   --------------------------- ------------ 19.9/28.9 MB 108.8 MB/s eta 0:00:01\n",
      "   --------------------------- ------------ 19.9/28.9 MB 108.8 MB/s eta 0:00:01\n",
      "   --------------------------- ------------ 19.9/28.9 MB 108.8 MB/s eta 0:00:01\n",
      "   --------------------------- ------------ 19.9/28.9 MB 108.8 MB/s eta 0:00:01\n",
      "   ------------------------------ --------- 21.9/28.9 MB 29.7 MB/s eta 0:00:01\n",
      "   -------------------------------------- - 27.5/28.9 MB 31.2 MB/s eta 0:00:01\n",
      "   ---------------------------------------  28.3/28.9 MB 31.2 MB/s eta 0:00:01\n",
      "   ---------------------------------------  28.9/28.9 MB 24.2 MB/s eta 0:00:01\n",
      "   ---------------------------------------- 28.9/28.9 MB 21.8 MB/s eta 0:00:00\n",
      "Installing collected packages: python-gdcm\n",
      "Successfully installed python-gdcm-3.0.24.1\n",
      "Note: you may need to restart the kernel to use updated packages.\n"
     ]
    },
    {
     "name": "stderr",
     "output_type": "stream",
     "text": [
      "\n",
      "[notice] A new release of pip is available: 23.2.1 -> 24.3.1\n",
      "[notice] To update, run: python.exe -m pip install --upgrade pip\n"
     ]
    }
   ],
   "execution_count": 14
  },
  {
   "metadata": {
    "ExecuteTime": {
     "end_time": "2024-11-20T10:26:08.064246Z",
     "start_time": "2024-11-20T10:26:07.745574Z"
    }
   },
   "cell_type": "code",
   "source": "import pandas as pd\n",
   "id": "527d78e1c7ab9f6f",
   "outputs": [],
   "execution_count": 2
  },
  {
   "metadata": {
    "ExecuteTime": {
     "end_time": "2024-11-24T14:50:23.467164Z",
     "start_time": "2024-11-24T14:50:22.633852Z"
    }
   },
   "cell_type": "code",
   "source": [
    "import pydicom\n",
    "import matplotlib.pylab as plt\n",
    "\n",
    "# specify your image path\n",
    "image_path = r'\\\\fauad.fau.de\\shares\\ANKI\\Projects\\Swallowing\\Data\\from_Kopp\\1000159621\\20140701\\3269432939558174\\Oesoph._2\\1.2.276.0.76.3.1.56.5.6.1.32279215018154090168365521729495189687.dcm'\n",
    "\n",
    "\n",
    "# Read the DICOM file\n",
    "ds = pydicom.dcmread(image_path)\n",
    "\n",
    "# Access the pixel array\n",
    "pixel_array = ds.pixel_array\n",
    "\n",
    "# Display the DICOM image\n",
    "plt.imshow(pixel_array, cmap=\"gray\")  # Use \"gray\" colormap for medical images\n",
    "plt.axis(\"off\")  # Hide axes for better visualization\n",
    "plt.title(\"DICOM Image\")\n",
    "plt.show()"
   ],
   "id": "1c835d952d876507",
   "outputs": [
    {
     "ename": "RuntimeError",
     "evalue": "Unable to decompress 'JPEG Lossless, Non-Hierarchical, First-Order Prediction (Process 14 [Selection Value 1])' pixel data because all plugins are missing dependencies:\n\tgdcm - requires gdcm>=3.0.10\n\tpylibjpeg - requires pylibjpeg>=2.0 and pylibjpeg-libjpeg>=2.1",
     "output_type": "error",
     "traceback": [
      "\u001B[1;31m---------------------------------------------------------------------------\u001B[0m",
      "\u001B[1;31mRuntimeError\u001B[0m                              Traceback (most recent call last)",
      "Cell \u001B[1;32mIn[15], line 12\u001B[0m\n\u001B[0;32m      9\u001B[0m ds \u001B[38;5;241m=\u001B[39m pydicom\u001B[38;5;241m.\u001B[39mdcmread(image_path)\n\u001B[0;32m     11\u001B[0m \u001B[38;5;66;03m# Access the pixel array\u001B[39;00m\n\u001B[1;32m---> 12\u001B[0m pixel_array \u001B[38;5;241m=\u001B[39m \u001B[43mds\u001B[49m\u001B[38;5;241;43m.\u001B[39;49m\u001B[43mpixel_array\u001B[49m\n\u001B[0;32m     14\u001B[0m \u001B[38;5;66;03m# Display the DICOM image\u001B[39;00m\n\u001B[0;32m     15\u001B[0m plt\u001B[38;5;241m.\u001B[39mimshow(pixel_array, cmap\u001B[38;5;241m=\u001B[39m\u001B[38;5;124m\"\u001B[39m\u001B[38;5;124mgray\u001B[39m\u001B[38;5;124m\"\u001B[39m)  \u001B[38;5;66;03m# Use \"gray\" colormap for medical images\u001B[39;00m\n",
      "File \u001B[1;32m~\\PycharmProjects\\DataAnalysis\\.venv\\Lib\\site-packages\\pydicom\\dataset.py:2193\u001B[0m, in \u001B[0;36mDataset.pixel_array\u001B[1;34m(self)\u001B[0m\n\u001B[0;32m   2133\u001B[0m \u001B[38;5;129m@property\u001B[39m\n\u001B[0;32m   2134\u001B[0m \u001B[38;5;28;01mdef\u001B[39;00m \u001B[38;5;21mpixel_array\u001B[39m(\u001B[38;5;28mself\u001B[39m) \u001B[38;5;241m-\u001B[39m\u001B[38;5;241m>\u001B[39m \u001B[38;5;124m\"\u001B[39m\u001B[38;5;124mnumpy.ndarray\u001B[39m\u001B[38;5;124m\"\u001B[39m:\n\u001B[0;32m   2135\u001B[0m \u001B[38;5;250m    \u001B[39m\u001B[38;5;124;03m\"\"\"Return the pixel data as a :class:`numpy.ndarray`.\u001B[39;00m\n\u001B[0;32m   2136\u001B[0m \n\u001B[0;32m   2137\u001B[0m \u001B[38;5;124;03m    .. warning::\u001B[39;00m\n\u001B[1;32m   (...)\u001B[0m\n\u001B[0;32m   2191\u001B[0m \u001B[38;5;124;03m        that iterates through the image frames.\u001B[39;00m\n\u001B[0;32m   2192\u001B[0m \u001B[38;5;124;03m    \"\"\"\u001B[39;00m\n\u001B[1;32m-> 2193\u001B[0m     \u001B[38;5;28;43mself\u001B[39;49m\u001B[38;5;241;43m.\u001B[39;49m\u001B[43mconvert_pixel_data\u001B[49m\u001B[43m(\u001B[49m\u001B[43m)\u001B[49m\n\u001B[0;32m   2194\u001B[0m     \u001B[38;5;28;01mreturn\u001B[39;00m cast(\u001B[38;5;124m\"\u001B[39m\u001B[38;5;124mnumpy.ndarray\u001B[39m\u001B[38;5;124m\"\u001B[39m, \u001B[38;5;28mself\u001B[39m\u001B[38;5;241m.\u001B[39m_pixel_array)\n",
      "File \u001B[1;32m~\\PycharmProjects\\DataAnalysis\\.venv\\Lib\\site-packages\\pydicom\\dataset.py:1726\u001B[0m, in \u001B[0;36mDataset.convert_pixel_data\u001B[1;34m(self, handler_name)\u001B[0m\n\u001B[0;32m   1723\u001B[0m \u001B[38;5;28;01mif\u001B[39;00m \u001B[38;5;129;01mnot\u001B[39;00m opts[\u001B[38;5;124m\"\u001B[39m\u001B[38;5;124muse_pdh\u001B[39m\u001B[38;5;124m\"\u001B[39m]:\n\u001B[0;32m   1724\u001B[0m     \u001B[38;5;66;03m# Use 'pydicom.pixels' backend\u001B[39;00m\n\u001B[0;32m   1725\u001B[0m     opts[\u001B[38;5;124m\"\u001B[39m\u001B[38;5;124mdecoding_plugin\u001B[39m\u001B[38;5;124m\"\u001B[39m] \u001B[38;5;241m=\u001B[39m name\n\u001B[1;32m-> 1726\u001B[0m     \u001B[38;5;28mself\u001B[39m\u001B[38;5;241m.\u001B[39m_pixel_array \u001B[38;5;241m=\u001B[39m \u001B[43mpixel_array\u001B[49m\u001B[43m(\u001B[49m\u001B[38;5;28;43mself\u001B[39;49m\u001B[43m,\u001B[49m\u001B[43m \u001B[49m\u001B[38;5;241;43m*\u001B[39;49m\u001B[38;5;241;43m*\u001B[39;49m\u001B[43mopts\u001B[49m\u001B[43m)\u001B[49m\n\u001B[0;32m   1727\u001B[0m     \u001B[38;5;28mself\u001B[39m\u001B[38;5;241m.\u001B[39m_pixel_id \u001B[38;5;241m=\u001B[39m get_image_pixel_ids(\u001B[38;5;28mself\u001B[39m)\n\u001B[0;32m   1728\u001B[0m \u001B[38;5;28;01melse\u001B[39;00m:\n\u001B[0;32m   1729\u001B[0m     \u001B[38;5;66;03m# Use 'pydicom.pixel_data_handlers' backend\u001B[39;00m\n",
      "File \u001B[1;32m~\\PycharmProjects\\DataAnalysis\\.venv\\Lib\\site-packages\\pydicom\\pixels\\utils.py:1430\u001B[0m, in \u001B[0;36mpixel_array\u001B[1;34m(src, ds_out, specific_tags, index, raw, decoding_plugin, **kwargs)\u001B[0m\n\u001B[0;32m   1424\u001B[0m         \u001B[38;5;28;01mraise\u001B[39;00m \u001B[38;5;167;01mNotImplementedError\u001B[39;00m(\n\u001B[0;32m   1425\u001B[0m             \u001B[38;5;124m\"\u001B[39m\u001B[38;5;124mUnable to decode the pixel data as a (0002,0010) \u001B[39m\u001B[38;5;124m'\u001B[39m\u001B[38;5;124mTransfer Syntax \u001B[39m\u001B[38;5;124m\"\u001B[39m\n\u001B[0;32m   1426\u001B[0m             \u001B[38;5;124mf\u001B[39m\u001B[38;5;124m\"\u001B[39m\u001B[38;5;124mUID\u001B[39m\u001B[38;5;124m'\u001B[39m\u001B[38;5;124m value of \u001B[39m\u001B[38;5;124m'\u001B[39m\u001B[38;5;132;01m{\u001B[39;00mtsyntax\u001B[38;5;241m.\u001B[39mname\u001B[38;5;132;01m}\u001B[39;00m\u001B[38;5;124m'\u001B[39m\u001B[38;5;124m is not supported\u001B[39m\u001B[38;5;124m\"\u001B[39m\n\u001B[0;32m   1427\u001B[0m         )\n\u001B[0;32m   1429\u001B[0m     opts \u001B[38;5;241m=\u001B[39m as_pixel_options(ds, \u001B[38;5;241m*\u001B[39m\u001B[38;5;241m*\u001B[39mkwargs)\n\u001B[1;32m-> 1430\u001B[0m     \u001B[38;5;28;01mreturn\u001B[39;00m \u001B[43mdecoder\u001B[49m\u001B[38;5;241;43m.\u001B[39;49m\u001B[43mas_array\u001B[49m\u001B[43m(\u001B[49m\n\u001B[0;32m   1431\u001B[0m \u001B[43m        \u001B[49m\u001B[43mds\u001B[49m\u001B[43m,\u001B[49m\n\u001B[0;32m   1432\u001B[0m \u001B[43m        \u001B[49m\u001B[43mindex\u001B[49m\u001B[38;5;241;43m=\u001B[39;49m\u001B[43mindex\u001B[49m\u001B[43m,\u001B[49m\n\u001B[0;32m   1433\u001B[0m \u001B[43m        \u001B[49m\u001B[43mvalidate\u001B[49m\u001B[38;5;241;43m=\u001B[39;49m\u001B[38;5;28;43;01mTrue\u001B[39;49;00m\u001B[43m,\u001B[49m\n\u001B[0;32m   1434\u001B[0m \u001B[43m        \u001B[49m\u001B[43mraw\u001B[49m\u001B[38;5;241;43m=\u001B[39;49m\u001B[43mraw\u001B[49m\u001B[43m,\u001B[49m\n\u001B[0;32m   1435\u001B[0m \u001B[43m        \u001B[49m\u001B[43mdecoding_plugin\u001B[49m\u001B[38;5;241;43m=\u001B[39;49m\u001B[43mdecoding_plugin\u001B[49m\u001B[43m,\u001B[49m\n\u001B[0;32m   1436\u001B[0m \u001B[43m        \u001B[49m\u001B[38;5;241;43m*\u001B[39;49m\u001B[38;5;241;43m*\u001B[39;49m\u001B[43mopts\u001B[49m\u001B[43m,\u001B[49m\n\u001B[0;32m   1437\u001B[0m \u001B[43m    \u001B[49m\u001B[43m)\u001B[49m[\u001B[38;5;241m0\u001B[39m]\n\u001B[0;32m   1439\u001B[0m f: BinaryIO\n\u001B[0;32m   1440\u001B[0m \u001B[38;5;28;01mif\u001B[39;00m \u001B[38;5;129;01mnot\u001B[39;00m \u001B[38;5;28mhasattr\u001B[39m(src, \u001B[38;5;124m\"\u001B[39m\u001B[38;5;124mread\u001B[39m\u001B[38;5;124m\"\u001B[39m):\n",
      "File \u001B[1;32m~\\PycharmProjects\\DataAnalysis\\.venv\\Lib\\site-packages\\pydicom\\pixels\\decoders\\base.py:982\u001B[0m, in \u001B[0;36mDecoder.as_array\u001B[1;34m(self, src, index, validate, raw, decoding_plugin, **kwargs)\u001B[0m\n\u001B[0;32m    977\u001B[0m runner\u001B[38;5;241m.\u001B[39mset_source(src)\n\u001B[0;32m    978\u001B[0m runner\u001B[38;5;241m.\u001B[39mset_options(\u001B[38;5;241m*\u001B[39m\u001B[38;5;241m*\u001B[39mkwargs)\n\u001B[0;32m    979\u001B[0m runner\u001B[38;5;241m.\u001B[39mset_decoders(\n\u001B[0;32m    980\u001B[0m     cast(\n\u001B[0;32m    981\u001B[0m         \u001B[38;5;28mdict\u001B[39m[\u001B[38;5;28mstr\u001B[39m, \u001B[38;5;124m\"\u001B[39m\u001B[38;5;124mDecodeFunction\u001B[39m\u001B[38;5;124m\"\u001B[39m],\n\u001B[1;32m--> 982\u001B[0m         \u001B[38;5;28;43mself\u001B[39;49m\u001B[38;5;241;43m.\u001B[39;49m\u001B[43m_validate_plugins\u001B[49m\u001B[43m(\u001B[49m\u001B[43mdecoding_plugin\u001B[49m\u001B[43m)\u001B[49m,\n\u001B[0;32m    983\u001B[0m     ),\n\u001B[0;32m    984\u001B[0m )\n\u001B[0;32m    986\u001B[0m \u001B[38;5;28;01mif\u001B[39;00m config\u001B[38;5;241m.\u001B[39mdebugging:\n\u001B[0;32m    987\u001B[0m     LOGGER\u001B[38;5;241m.\u001B[39mdebug(runner)\n",
      "File \u001B[1;32m~\\PycharmProjects\\DataAnalysis\\.venv\\Lib\\site-packages\\pydicom\\pixels\\common.py:257\u001B[0m, in \u001B[0;36mCoderBase._validate_plugins\u001B[1;34m(self, plugin)\u001B[0m\n\u001B[0;32m    255\u001B[0m missing \u001B[38;5;241m=\u001B[39m \u001B[38;5;124m\"\u001B[39m\u001B[38;5;130;01m\\n\u001B[39;00m\u001B[38;5;124m\"\u001B[39m\u001B[38;5;241m.\u001B[39mjoin([\u001B[38;5;124mf\u001B[39m\u001B[38;5;124m\"\u001B[39m\u001B[38;5;130;01m\\t\u001B[39;00m\u001B[38;5;132;01m{\u001B[39;00ms\u001B[38;5;132;01m}\u001B[39;00m\u001B[38;5;124m\"\u001B[39m \u001B[38;5;28;01mfor\u001B[39;00m s \u001B[38;5;129;01min\u001B[39;00m \u001B[38;5;28mself\u001B[39m\u001B[38;5;241m.\u001B[39mmissing_dependencies])\n\u001B[0;32m    256\u001B[0m \u001B[38;5;28;01mif\u001B[39;00m \u001B[38;5;28mself\u001B[39m\u001B[38;5;241m.\u001B[39m_decoder:\n\u001B[1;32m--> 257\u001B[0m     \u001B[38;5;28;01mraise\u001B[39;00m \u001B[38;5;167;01mRuntimeError\u001B[39;00m(\n\u001B[0;32m    258\u001B[0m         \u001B[38;5;124mf\u001B[39m\u001B[38;5;124m\"\u001B[39m\u001B[38;5;124mUnable to decompress \u001B[39m\u001B[38;5;124m'\u001B[39m\u001B[38;5;132;01m{\u001B[39;00m\u001B[38;5;28mself\u001B[39m\u001B[38;5;241m.\u001B[39mUID\u001B[38;5;241m.\u001B[39mname\u001B[38;5;132;01m}\u001B[39;00m\u001B[38;5;124m'\u001B[39m\u001B[38;5;124m pixel data because all \u001B[39m\u001B[38;5;124m\"\u001B[39m\n\u001B[0;32m    259\u001B[0m         \u001B[38;5;124mf\u001B[39m\u001B[38;5;124m\"\u001B[39m\u001B[38;5;124mplugins are missing dependencies:\u001B[39m\u001B[38;5;130;01m\\n\u001B[39;00m\u001B[38;5;132;01m{\u001B[39;00mmissing\u001B[38;5;132;01m}\u001B[39;00m\u001B[38;5;124m\"\u001B[39m\n\u001B[0;32m    260\u001B[0m     )\n\u001B[0;32m    262\u001B[0m \u001B[38;5;28;01mraise\u001B[39;00m \u001B[38;5;167;01mRuntimeError\u001B[39;00m(\n\u001B[0;32m    263\u001B[0m     \u001B[38;5;124mf\u001B[39m\u001B[38;5;124m\"\u001B[39m\u001B[38;5;124mUnable to compress the pixel data using \u001B[39m\u001B[38;5;124m'\u001B[39m\u001B[38;5;132;01m{\u001B[39;00m\u001B[38;5;28mself\u001B[39m\u001B[38;5;241m.\u001B[39mUID\u001B[38;5;241m.\u001B[39mname\u001B[38;5;132;01m}\u001B[39;00m\u001B[38;5;124m'\u001B[39m\u001B[38;5;124m because all \u001B[39m\u001B[38;5;124m\"\u001B[39m\n\u001B[0;32m    264\u001B[0m     \u001B[38;5;124mf\u001B[39m\u001B[38;5;124m\"\u001B[39m\u001B[38;5;124mplugins are missing dependencies:\u001B[39m\u001B[38;5;130;01m\\n\u001B[39;00m\u001B[38;5;132;01m{\u001B[39;00mmissing\u001B[38;5;132;01m}\u001B[39;00m\u001B[38;5;124m\"\u001B[39m\n\u001B[0;32m    265\u001B[0m )\n",
      "\u001B[1;31mRuntimeError\u001B[0m: Unable to decompress 'JPEG Lossless, Non-Hierarchical, First-Order Prediction (Process 14 [Selection Value 1])' pixel data because all plugins are missing dependencies:\n\tgdcm - requires gdcm>=3.0.10\n\tpylibjpeg - requires pylibjpeg>=2.0 and pylibjpeg-libjpeg>=2.1"
     ]
    }
   ],
   "execution_count": 15
  },
  {
   "metadata": {
    "ExecuteTime": {
     "end_time": "2024-11-24T10:23:54.740254Z",
     "start_time": "2024-11-24T10:23:52.623012Z"
    }
   },
   "cell_type": "code",
   "source": "pip install pylibjpeg pylibjpeg-libjpeg pylibjpeg-openjpeg",
   "id": "a3e9100ef228dda6",
   "outputs": [
    {
     "name": "stdout",
     "output_type": "stream",
     "text": [
      "Requirement already satisfied: pylibjpeg in c:\\users\\ly37xoco\\pycharmprojects\\dataanalysis\\.venv\\lib\\site-packages (2.0.1)\n",
      "Collecting pylibjpeg-libjpeg\n",
      "  Obtaining dependency information for pylibjpeg-libjpeg from https://files.pythonhosted.org/packages/68/86/415cc7676219f581f54ca7340d77fa0dd4f0157057f59ead33a9d916c2b3/pylibjpeg_libjpeg-2.3.0-cp312-cp312-win_amd64.whl.metadata\n",
      "  Downloading pylibjpeg_libjpeg-2.3.0-cp312-cp312-win_amd64.whl.metadata (4.8 kB)\n",
      "Collecting pylibjpeg-openjpeg\n",
      "  Obtaining dependency information for pylibjpeg-openjpeg from https://files.pythonhosted.org/packages/c4/5c/0317ad316723cffb476077e9b841ec9b2062364b04153f3bf1ce1a230eb1/pylibjpeg_openjpeg-2.4.0-cp312-cp312-win_amd64.whl.metadata\n",
      "  Downloading pylibjpeg_openjpeg-2.4.0-cp312-cp312-win_amd64.whl.metadata (5.7 kB)\n",
      "Requirement already satisfied: numpy in c:\\users\\ly37xoco\\pycharmprojects\\dataanalysis\\.venv\\lib\\site-packages (from pylibjpeg) (2.1.3)\n",
      "Downloading pylibjpeg_libjpeg-2.3.0-cp312-cp312-win_amd64.whl (743 kB)\n",
      "   ---------------------------------------- 0.0/744.0 kB ? eta -:--:--\n",
      "   ------ --------------------------------- 112.6/744.0 kB 3.3 MB/s eta 0:00:01\n",
      "   ------------------------------------ --- 686.1/744.0 kB 8.7 MB/s eta 0:00:01\n",
      "   ---------------------------------------- 744.0/744.0 kB 7.8 MB/s eta 0:00:00\n",
      "Downloading pylibjpeg_openjpeg-2.4.0-cp312-cp312-win_amd64.whl (239 kB)\n",
      "   ---------------------------------------- 0.0/239.1 kB ? eta -:--:--\n",
      "   --------------------------------------- 239.1/239.1 kB 15.3 MB/s eta 0:00:00\n",
      "Installing collected packages: pylibjpeg-openjpeg, pylibjpeg-libjpeg\n",
      "Successfully installed pylibjpeg-libjpeg-2.3.0 pylibjpeg-openjpeg-2.4.0\n",
      "Note: you may need to restart the kernel to use updated packages.\n"
     ]
    },
    {
     "name": "stderr",
     "output_type": "stream",
     "text": [
      "\n",
      "[notice] A new release of pip is available: 23.2.1 -> 24.3.1\n",
      "[notice] To update, run: python.exe -m pip install --upgrade pip\n"
     ]
    }
   ],
   "execution_count": 12
  },
  {
   "metadata": {
    "ExecuteTime": {
     "end_time": "2024-11-24T10:18:36.704406Z",
     "start_time": "2024-11-24T10:18:36.694576Z"
    }
   },
   "cell_type": "code",
   "source": "gdcm",
   "id": "39462cc09fd3395a",
   "outputs": [
    {
     "ename": "NameError",
     "evalue": "name 'gdcm' is not defined",
     "output_type": "error",
     "traceback": [
      "\u001B[1;31m---------------------------------------------------------------------------\u001B[0m",
      "\u001B[1;31mNameError\u001B[0m                                 Traceback (most recent call last)",
      "Cell \u001B[1;32mIn[11], line 1\u001B[0m\n\u001B[1;32m----> 1\u001B[0m \u001B[43mgdcm\u001B[49m\n",
      "\u001B[1;31mNameError\u001B[0m: name 'gdcm' is not defined"
     ]
    }
   ],
   "execution_count": 11
  },
  {
   "metadata": {},
   "cell_type": "code",
   "outputs": [],
   "execution_count": null,
   "source": "",
   "id": "cc2bdd14f7b4260f"
  }
 ],
 "metadata": {
  "kernelspec": {
   "display_name": "Python 3",
   "language": "python",
   "name": "python3"
  },
  "language_info": {
   "codemirror_mode": {
    "name": "ipython",
    "version": 2
   },
   "file_extension": ".py",
   "mimetype": "text/x-python",
   "name": "python",
   "nbconvert_exporter": "python",
   "pygments_lexer": "ipython2",
   "version": "2.7.6"
  }
 },
 "nbformat": 4,
 "nbformat_minor": 5
}

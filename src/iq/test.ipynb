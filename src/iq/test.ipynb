{
 "cells": [
  {
   "cell_type": "code",
   "execution_count": null,
   "id": "initial_id",
   "metadata": {
    "collapsed": true
   },
   "outputs": [],
   "source": ""
  },
  {
   "metadata": {
    "ExecuteTime": {
     "end_time": "2025-05-10T08:59:11.132629Z",
     "start_time": "2025-05-10T08:59:11.044606Z"
    }
   },
   "cell_type": "code",
   "source": [
    "from pathlib import Path\n",
    "from PIL import Image\n",
    "import numpy as np\n",
    "\n",
    "def calculate_niqe(img, crop_border=0, input_order='HWC', convert_to='y'):\n",
    "    niqe_pris_params = np.load('basicsr/metrics/niqe_pris_params.npz')\n",
    "    mu_pris_param = niqe_pris_params['mu_pris_param']\n",
    "    cov_pris_param = niqe_pris_params['cov_pris_param']\n",
    "    gaussian_window = niqe_pris_params['gaussian_window']\n",
    "\n",
    "    img = img.astype(np.float32)\n",
    "    if input_order != 'HW':\n",
    "        img = reorder_image(img, input_order=input_order)\n",
    "        if convert_to == 'y':\n",
    "            img = to_y_channel(img)\n",
    "        elif convert_to == 'gray':\n",
    "            img = cv2.cvtColor(img / 255., cv2.COLOR_BGR2GRAY) * 255.\n",
    "        img = np.squeeze(img)\n",
    "\n",
    "    if crop_border != 0:\n",
    "        img = img[crop_border:-crop_border, crop_border:-crop_border]\n",
    "\n",
    "    return niqe(img, mu_pris_param, cov_pris_param, gaussian_window)\n",
    "\n",
    "# Add supporting functions (estimate_aggd_param, compute_feature, niqe) from your snippet here\n",
    "\n",
    "# Add a CLI wrapper to compute NIQE from a single image file\n",
    "if __name__ == '__main__':\n",
    "\n",
    "    test_path = r\"D:\\Martin\\thesis\\data\\processed\\dataset_labelbox_export_test_2504_test_final_roi_crop\\test\\imgs\\1888.png\"\n",
    "\n",
    "    img = np.array(Image.open(test_path).convert('RGB'))\n",
    "    score = calculate_niqe(img)\n",
    "    print(f\"NIQE score: {score:.4f}\")\n",
    "\n",
    "\n",
    "\n",
    "\n"
   ],
   "id": "167ef5842f5ba9f1",
   "outputs": [
    {
     "ename": "FileNotFoundError",
     "evalue": "[Errno 2] No such file or directory: 'basicsr/metrics/niqe_pris_params.npz'",
     "output_type": "error",
     "traceback": [
      "\u001B[31m---------------------------------------------------------------------------\u001B[39m",
      "\u001B[31mFileNotFoundError\u001B[39m                         Traceback (most recent call last)",
      "\u001B[36mCell\u001B[39m\u001B[36m \u001B[39m\u001B[32mIn[5]\u001B[39m\u001B[32m, line 33\u001B[39m\n\u001B[32m     30\u001B[39m test_path = \u001B[33mr\u001B[39m\u001B[33m\"\u001B[39m\u001B[33mD:\u001B[39m\u001B[33m\\\u001B[39m\u001B[33mMartin\u001B[39m\u001B[33m\\\u001B[39m\u001B[33mthesis\u001B[39m\u001B[33m\\\u001B[39m\u001B[33mdata\u001B[39m\u001B[33m\\\u001B[39m\u001B[33mprocessed\u001B[39m\u001B[33m\\\u001B[39m\u001B[33mdataset_labelbox_export_test_2504_test_final_roi_crop\u001B[39m\u001B[33m\\\u001B[39m\u001B[33mtest\u001B[39m\u001B[33m\\\u001B[39m\u001B[33mimgs\u001B[39m\u001B[33m\\\u001B[39m\u001B[33m1888.png\u001B[39m\u001B[33m\"\u001B[39m\n\u001B[32m     32\u001B[39m img = np.array(Image.open(test_path).convert(\u001B[33m'\u001B[39m\u001B[33mRGB\u001B[39m\u001B[33m'\u001B[39m))\n\u001B[32m---> \u001B[39m\u001B[32m33\u001B[39m score = \u001B[43mcalculate_niqe\u001B[49m\u001B[43m(\u001B[49m\u001B[43mimg\u001B[49m\u001B[43m)\u001B[49m\n\u001B[32m     34\u001B[39m \u001B[38;5;28mprint\u001B[39m(\u001B[33mf\u001B[39m\u001B[33m\"\u001B[39m\u001B[33mNIQE score: \u001B[39m\u001B[38;5;132;01m{\u001B[39;00mscore\u001B[38;5;132;01m:\u001B[39;00m\u001B[33m.4f\u001B[39m\u001B[38;5;132;01m}\u001B[39;00m\u001B[33m\"\u001B[39m)\n",
      "\u001B[36mCell\u001B[39m\u001B[36m \u001B[39m\u001B[32mIn[5]\u001B[39m\u001B[32m, line 6\u001B[39m, in \u001B[36mcalculate_niqe\u001B[39m\u001B[34m(img, crop_border, input_order, convert_to)\u001B[39m\n\u001B[32m      5\u001B[39m \u001B[38;5;28;01mdef\u001B[39;00m\u001B[38;5;250m \u001B[39m\u001B[34mcalculate_niqe\u001B[39m(img, crop_border=\u001B[32m0\u001B[39m, input_order=\u001B[33m'\u001B[39m\u001B[33mHWC\u001B[39m\u001B[33m'\u001B[39m, convert_to=\u001B[33m'\u001B[39m\u001B[33my\u001B[39m\u001B[33m'\u001B[39m):\n\u001B[32m----> \u001B[39m\u001B[32m6\u001B[39m     niqe_pris_params = \u001B[43mnp\u001B[49m\u001B[43m.\u001B[49m\u001B[43mload\u001B[49m\u001B[43m(\u001B[49m\u001B[33;43m'\u001B[39;49m\u001B[33;43mbasicsr/metrics/niqe_pris_params.npz\u001B[39;49m\u001B[33;43m'\u001B[39;49m\u001B[43m)\u001B[49m\n\u001B[32m      7\u001B[39m     mu_pris_param = niqe_pris_params[\u001B[33m'\u001B[39m\u001B[33mmu_pris_param\u001B[39m\u001B[33m'\u001B[39m]\n\u001B[32m      8\u001B[39m     cov_pris_param = niqe_pris_params[\u001B[33m'\u001B[39m\u001B[33mcov_pris_param\u001B[39m\u001B[33m'\u001B[39m]\n",
      "\u001B[36mFile \u001B[39m\u001B[32m~\\PycharmProjects\\thesis\\.venv_py3_12\\Lib\\site-packages\\numpy\\lib\\_npyio_impl.py:459\u001B[39m, in \u001B[36mload\u001B[39m\u001B[34m(file, mmap_mode, allow_pickle, fix_imports, encoding, max_header_size)\u001B[39m\n\u001B[32m    457\u001B[39m     own_fid = \u001B[38;5;28;01mFalse\u001B[39;00m\n\u001B[32m    458\u001B[39m \u001B[38;5;28;01melse\u001B[39;00m:\n\u001B[32m--> \u001B[39m\u001B[32m459\u001B[39m     fid = stack.enter_context(\u001B[38;5;28;43mopen\u001B[39;49m\u001B[43m(\u001B[49m\u001B[43mos\u001B[49m\u001B[43m.\u001B[49m\u001B[43mfspath\u001B[49m\u001B[43m(\u001B[49m\u001B[43mfile\u001B[49m\u001B[43m)\u001B[49m\u001B[43m,\u001B[49m\u001B[43m \u001B[49m\u001B[33;43m\"\u001B[39;49m\u001B[33;43mrb\u001B[39;49m\u001B[33;43m\"\u001B[39;49m\u001B[43m)\u001B[49m)\n\u001B[32m    460\u001B[39m     own_fid = \u001B[38;5;28;01mTrue\u001B[39;00m\n\u001B[32m    462\u001B[39m \u001B[38;5;66;03m# Code to distinguish from NumPy binary files and pickles.\u001B[39;00m\n",
      "\u001B[31mFileNotFoundError\u001B[39m: [Errno 2] No such file or directory: 'basicsr/metrics/niqe_pris_params.npz'"
     ]
    }
   ],
   "execution_count": 5
  },
  {
   "metadata": {},
   "cell_type": "code",
   "outputs": [],
   "execution_count": null,
   "source": "",
   "id": "5e60ca8ce4dbddcb"
  }
 ],
 "metadata": {
  "kernelspec": {
   "display_name": "Python 3",
   "language": "python",
   "name": "python3"
  },
  "language_info": {
   "codemirror_mode": {
    "name": "ipython",
    "version": 2
   },
   "file_extension": ".py",
   "mimetype": "text/x-python",
   "name": "python",
   "nbconvert_exporter": "python",
   "pygments_lexer": "ipython2",
   "version": "2.7.6"
  }
 },
 "nbformat": 4,
 "nbformat_minor": 5
}

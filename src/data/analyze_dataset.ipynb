{
 "cells": [
  {
   "cell_type": "code",
   "id": "initial_id",
   "metadata": {
    "collapsed": true,
    "ExecuteTime": {
     "end_time": "2025-01-24T16:22:04.439266Z",
     "start_time": "2025-01-24T16:22:04.018366Z"
    }
   },
   "source": [
    "import argparse\n",
    "import os\n",
    "from pathlib import Path\n",
    "import pandas as pd\n",
    "import numpy as np\n",
    "from PIL import Image\n",
    "import matplotlib.pyplot as plt"
   ],
   "outputs": [],
   "execution_count": 1
  },
  {
   "metadata": {
    "ExecuteTime": {
     "end_time": "2025-01-25T10:09:14.756423Z",
     "start_time": "2025-01-25T10:09:14.347144Z"
    }
   },
   "cell_type": "code",
   "source": [
    "\n",
    "def collect_image_paths(folder_path, valid_exts=('.png', '.jpg', '.jpeg', '.bmp', '.tiff'), suffix=None):\n",
    "    \"\"\"\n",
    "    Return a sorted list of Paths to images in the given folder,\n",
    "    matching any of the valid_exts.\n",
    "    \"\"\"\n",
    "    folder = Path(folder_path)\n",
    "    if not folder.is_dir():\n",
    "        raise NotADirectoryError(f\"'{folder}' is not a valid directory.\")\n",
    "\n",
    "    image_files = sorted([\n",
    "        f for f in folder.iterdir()\n",
    "        if f.is_file() and f.suffix.lower() in valid_exts\n",
    "    ])\n",
    "    # filter by suffix if provided\n",
    "    if suffix:\n",
    "        # remove files that do not end with the suffix\n",
    "        image_files = [f for f in image_files if f.name.endswith(suffix)]\n",
    "    return image_files\n",
    "\n",
    "data_folder = \"../../data/processed/leonard_dataset/\"#dataset_train_val_test_split/train/\" #\"../../data/raw/labelbox_output_mbs_0123/\"\n",
    "masks_folder = data_folder + \"masks\"\n",
    "imgs_folder = data_folder + \"imgs\"\n",
    "\n",
    "images = collect_image_paths(imgs_folder)\n",
    "masks = collect_image_paths(masks_folder, suffix=\"_bolus.png\")\n",
    "print(len(masks))\n",
    "print(len(images))"
   ],
   "id": "e14d46a35fdd4db1",
   "outputs": [
    {
     "name": "stdout",
     "output_type": "stream",
     "text": [
      "11330\n",
      "11330\n"
     ]
    }
   ],
   "execution_count": 43
  },
  {
   "metadata": {
    "ExecuteTime": {
     "end_time": "2025-01-25T09:52:56.800833Z",
     "start_time": "2025-01-25T09:52:56.023174Z"
    }
   },
   "cell_type": "code",
   "source": [
    "# add \"_bolus.png\" to the end of the image file name from masks and save it in the same folder\n",
    "for mask in masks:\n",
    "    # split name by first . and add \"_bolus.png\" to the end\n",
    "    mask.rename(mask.with_name(mask.name.split(\".\")[0] + \"_bolus.png\"))\n"
   ],
   "id": "afd968d09031a3a9",
   "outputs": [],
   "execution_count": 35
  },
  {
   "metadata": {
    "ExecuteTime": {
     "end_time": "2025-01-25T09:16:46.435676Z",
     "start_time": "2025-01-25T09:16:39.171191Z"
    }
   },
   "cell_type": "code",
   "source": [
    "\n",
    "def compute_resolution_stats(image_paths):\n",
    "    \"\"\"\n",
    "    Given a list of grayscale image paths, compute min, max, mean (height, width).\n",
    "    Returns a dict with keys: 'min_h', 'max_h', 'mean_h', 'min_w', 'max_w', 'mean_w'.\n",
    "    \"\"\"\n",
    "    heights = []\n",
    "    widths = []\n",
    "    resolutions = []\n",
    "\n",
    "    for p in image_paths:\n",
    "        with Image.open(p) as img:\n",
    "            arr = np.array(img.convert('L'), dtype=np.uint8)\n",
    "        h, w = arr.shape\n",
    "        heights.append(h)\n",
    "        widths.append(w)\n",
    "        resolutions.append(f\"{w}x{h}\")\n",
    "    # print resolution value counts\n",
    "    print(\"Resolution value counts: \")\n",
    "    print(pd.Series(resolutions).value_counts())\n",
    "\n",
    "    print(\"Stats: \")\n",
    "    print(f\" Height => min={np.min(heights)}, max={np.max(heights)}, mean={float(np.mean(heights)):.2f}\")\n",
    "    print(f\" Width  => min={np.min(widths)}, max={np.max(widths)}, mean={float(np.mean(widths)):.2f}\")\n",
    "\n",
    "\n",
    "print(\"Masks: \")\n",
    "compute_resolution_stats(masks)\n",
    "print(\"\\n\\nImages: \")\n",
    "compute_resolution_stats(images)"
   ],
   "id": "67bcdd86dd977d02",
   "outputs": [
    {
     "name": "stdout",
     "output_type": "stream",
     "text": [
      "Masks: \n"
     ]
    },
    {
     "ename": "KeyboardInterrupt",
     "evalue": "",
     "output_type": "error",
     "traceback": [
      "\u001B[1;31m---------------------------------------------------------------------------\u001B[0m",
      "\u001B[1;31mKeyboardInterrupt\u001B[0m                         Traceback (most recent call last)",
      "Cell \u001B[1;32mIn[11], line 27\u001B[0m\n\u001B[0;32m     23\u001B[0m     \u001B[38;5;28mprint\u001B[39m(\u001B[38;5;124mf\u001B[39m\u001B[38;5;124m\"\u001B[39m\u001B[38;5;124m Width  => min=\u001B[39m\u001B[38;5;132;01m{\u001B[39;00mnp\u001B[38;5;241m.\u001B[39mmin(widths)\u001B[38;5;132;01m}\u001B[39;00m\u001B[38;5;124m, max=\u001B[39m\u001B[38;5;132;01m{\u001B[39;00mnp\u001B[38;5;241m.\u001B[39mmax(widths)\u001B[38;5;132;01m}\u001B[39;00m\u001B[38;5;124m, mean=\u001B[39m\u001B[38;5;132;01m{\u001B[39;00m\u001B[38;5;28mfloat\u001B[39m(np\u001B[38;5;241m.\u001B[39mmean(widths))\u001B[38;5;132;01m:\u001B[39;00m\u001B[38;5;124m.2f\u001B[39m\u001B[38;5;132;01m}\u001B[39;00m\u001B[38;5;124m\"\u001B[39m)\n\u001B[0;32m     26\u001B[0m \u001B[38;5;28mprint\u001B[39m(\u001B[38;5;124m\"\u001B[39m\u001B[38;5;124mMasks: \u001B[39m\u001B[38;5;124m\"\u001B[39m)\n\u001B[1;32m---> 27\u001B[0m \u001B[43mcompute_resolution_stats\u001B[49m\u001B[43m(\u001B[49m\u001B[43mmasks\u001B[49m\u001B[43m)\u001B[49m\n\u001B[0;32m     28\u001B[0m \u001B[38;5;28mprint\u001B[39m(\u001B[38;5;124m\"\u001B[39m\u001B[38;5;130;01m\\n\u001B[39;00m\u001B[38;5;130;01m\\n\u001B[39;00m\u001B[38;5;124mImages: \u001B[39m\u001B[38;5;124m\"\u001B[39m)\n\u001B[0;32m     29\u001B[0m compute_resolution_stats(images)\n",
      "Cell \u001B[1;32mIn[11], line 11\u001B[0m, in \u001B[0;36mcompute_resolution_stats\u001B[1;34m(image_paths)\u001B[0m\n\u001B[0;32m      8\u001B[0m resolutions \u001B[38;5;241m=\u001B[39m []\n\u001B[0;32m     10\u001B[0m \u001B[38;5;28;01mfor\u001B[39;00m p \u001B[38;5;129;01min\u001B[39;00m image_paths:\n\u001B[1;32m---> 11\u001B[0m     \u001B[38;5;28;01mwith\u001B[39;00m \u001B[43mImage\u001B[49m\u001B[38;5;241;43m.\u001B[39;49m\u001B[43mopen\u001B[49m\u001B[43m(\u001B[49m\u001B[43mp\u001B[49m\u001B[43m)\u001B[49m \u001B[38;5;28;01mas\u001B[39;00m img:\n\u001B[0;32m     12\u001B[0m         arr \u001B[38;5;241m=\u001B[39m np\u001B[38;5;241m.\u001B[39marray(img\u001B[38;5;241m.\u001B[39mconvert(\u001B[38;5;124m'\u001B[39m\u001B[38;5;124mL\u001B[39m\u001B[38;5;124m'\u001B[39m), dtype\u001B[38;5;241m=\u001B[39mnp\u001B[38;5;241m.\u001B[39muint8)\n\u001B[0;32m     13\u001B[0m     h, w \u001B[38;5;241m=\u001B[39m arr\u001B[38;5;241m.\u001B[39mshape\n",
      "File \u001B[1;32mD:\\Martin\\thesis\\.venv1\\Lib\\site-packages\\PIL\\Image.py:3247\u001B[0m, in \u001B[0;36mopen\u001B[1;34m(fp, mode, formats)\u001B[0m\n\u001B[0;32m   3244\u001B[0m     filename \u001B[38;5;241m=\u001B[39m fp\n\u001B[0;32m   3246\u001B[0m \u001B[38;5;28;01mif\u001B[39;00m filename:\n\u001B[1;32m-> 3247\u001B[0m     fp \u001B[38;5;241m=\u001B[39m builtins\u001B[38;5;241m.\u001B[39mopen(filename, \u001B[38;5;124m\"\u001B[39m\u001B[38;5;124mrb\u001B[39m\u001B[38;5;124m\"\u001B[39m)\n\u001B[0;32m   3248\u001B[0m     exclusive_fp \u001B[38;5;241m=\u001B[39m \u001B[38;5;28;01mTrue\u001B[39;00m\n\u001B[0;32m   3250\u001B[0m \u001B[38;5;28;01mtry\u001B[39;00m:\n",
      "\u001B[1;31mKeyboardInterrupt\u001B[0m: "
     ]
    }
   ],
   "execution_count": 11
  },
  {
   "metadata": {
    "ExecuteTime": {
     "end_time": "2025-01-25T10:09:21.847929Z",
     "start_time": "2025-01-25T10:09:21.842756Z"
    }
   },
   "cell_type": "code",
   "source": [
    "\n",
    "def compute_histogram(image_paths):\n",
    "    \"\"\"\n",
    "    Given a list of grayscale image paths, compute a combined histogram of pixel\n",
    "    intensities [0..255] across all images. Returns a 256-element NumPy array.\n",
    "    \"\"\"\n",
    "    combined_hist = np.zeros(256, dtype=np.int64)\n",
    "    count = 0\n",
    "    for p in image_paths:\n",
    "        count += 1\n",
    "        with Image.open(p) as img:\n",
    "            arr = np.array(img.convert('L'), dtype=np.uint8)\n",
    "        img_hist, _ = np.histogram(arr, bins=256, range=(0, 256))\n",
    "        # check if the image has pixel values in [1..254]\n",
    "        if np.any(img_hist[1:255] > 0):\n",
    "            print(f\"Image with pixel values in [1..254]: {p}\")\n",
    "            print(f\"path: {p}\")\n",
    "            '''\n",
    "            rgb = color_code_image(arr)\n",
    "\n",
    "            # Side-by-side figure\n",
    "            fig, axs = plt.subplots(1, 2, figsize=(12,6))\n",
    "            axs[0].imshow(arr, cmap='gray', vmin=0, vmax=255)\n",
    "            axs[0].set_title(f\"Original grayscale\\n{p.name}\")\n",
    "            axs[0].axis('off')\n",
    "\n",
    "            axs[1].imshow(rgb)\n",
    "            axs[1].set_title(\"Color-coded (0=black, 1=white, else=red)\")\n",
    "            axs[1].axis('off')\n",
    "            #print which pixel values are in [1..254]\n",
    "            print(f\"Pixel values in [1..254]: {np.where(img_hist[1:255] > 0)}\")\n",
    "            '''\n",
    "        combined_hist += img_hist\n",
    "\n",
    "    return combined_hist\n"
   ],
   "id": "4ae76d26bb39b672",
   "outputs": [],
   "execution_count": 44
  },
  {
   "metadata": {
    "ExecuteTime": {
     "end_time": "2025-01-25T10:09:40.013499Z",
     "start_time": "2025-01-25T10:09:22.816928Z"
    }
   },
   "cell_type": "code",
   "source": [
    "\n",
    "combined_hist = compute_histogram(masks)\n",
    "plt.figure(figsize=(8,4))\n",
    "plt.bar(range(256), combined_hist, width=1.0, color='blue')\n",
    "plt.title(\"Grayscale Histogram\")\n",
    "plt.xlabel('Pixel intensity')\n",
    "plt.ylabel('Count')\n",
    "plt.show()"
   ],
   "id": "5c77684572bbfe98",
   "outputs": [
    {
     "data": {
      "text/plain": [
       "<Figure size 800x400 with 1 Axes>"
      ],
      "image/png": "[encoded data removed]"
     },
     "metadata": {},
     "output_type": "display_data"
    }
   ],
   "execution_count": 45
  },
  {
   "metadata": {
    "ExecuteTime": {
     "end_time": "2025-01-25T09:17:16.302093Z",
     "start_time": "2025-01-25T09:17:16.139227Z"
    }
   },
   "cell_type": "code",
   "source": [
    "combined_hist = compute_histogram(masks)\n",
    "# exlude 0 and 255\n",
    "#combined_hist[0] = 0\n",
    "#combined_hist[255] = 0\n",
    "plt.figure(figsize=(8,4))\n",
    "plt.bar(range(256), combined_hist, width=1.0, color='blue')\n",
    "plt.title(\"Grayscale Histogram: Masks\")\n",
    "plt.xlabel('Pixel intensity')\n",
    "plt.ylabel('Count')\n",
    "plt.show()\n",
    "\n",
    "# print how many images have pixel values in [1..254]\n",
    "num_images = len(masks)\n",
    "num_nonzero_images = np.count_nonzero(combined_hist[1:255])\n",
    "print(f\"Images with pixel values in [1..254]: {num_nonzero_images} / {num_images} ({num_nonzero_images/num_images:.2%})\")\n",
    "\n",
    "# get id of image with pixels in [1..254]\n",
    "for i, hist in enumerate(combined_hist):\n",
    "    if hist > 0 and i != 0 and i != 255:\n",
    "        print(f\"Image with pixel values in [1..254]: {i}\")\n",
    "\n",
    "\n"
   ],
   "id": "54eb31f5acdb9827",
   "outputs": [
    {
     "data": {
      "text/plain": [
       "<Figure size 800x400 with 1 Axes>"
      ],
      "image/png": "[encoded data removed]"
     },
     "metadata": {},
     "output_type": "display_data"
    },
    {
     "name": "stdout",
     "output_type": "stream",
     "text": [
      "Images with pixel values in [1..254]: 3 / 8366 (0.04%)\n",
      "Image with pixel values in [1..254]: 64\n",
      "Image with pixel values in [1..254]: 128\n",
      "Image with pixel values in [1..254]: 191\n"
     ]
    }
   ],
   "execution_count": 15
  },
  {
   "metadata": {
    "ExecuteTime": {
     "end_time": "2025-01-25T09:23:30.236291Z",
     "start_time": "2025-01-25T09:23:30.230292Z"
    }
   },
   "cell_type": "code",
   "source": [
    "def find_first_image_in_range(image_paths, low=100, high=200):\n",
    "    \"\"\"\n",
    "    Returns the tuple (Path, np.array) for the first image that contains any pixel\n",
    "    in [low..high], or None if none found.\n",
    "    \"\"\"\n",
    "    for p in image_paths:\n",
    "        with Image.open(p) as img:\n",
    "            arr = np.array(img.convert('L'), dtype=np.uint8)\n",
    "        if ((arr >= low) & (arr <= high)).any():\n",
    "            return p, arr\n",
    "    return None\n",
    "\n",
    "\n",
    "def color_code_image(arr):\n",
    "    \"\"\"\n",
    "    Given a 2D array of grayscale intensities [0..255],\n",
    "    produce a color-coded 3D array (H,W,3) as follows:\n",
    "      - 0 => black (0,0,0)\n",
    "      - 1 => white (255,255,255)\n",
    "      - else => red, with the original intensity as the red channel (val,0,0)\n",
    "    \"\"\"\n",
    "    h, w = arr.shape\n",
    "    rgb = np.zeros((h, w, 3), dtype=np.uint8)\n",
    "\n",
    "    zero_mask = (arr == 0)\n",
    "    one_mask  = (arr == 1)\n",
    "    else_mask = (~zero_mask & ~one_mask)\n",
    "\n",
    "    # 0 => black\n",
    "    rgb[zero_mask] = (0,0,0)\n",
    "    # 1 => white\n",
    "    rgb[one_mask]  = (255,255,255)\n",
    "    # else => red with original intensity in red channel\n",
    "    rgb[else_mask, 0] = arr[else_mask]\n",
    "\n",
    "    return rgb\n",
    "\n",
    "\n",
    "def plot_histogram_excluding_0_and_255(combined_hist, num_images, title=\"Histogram\"):\n",
    "    \"\"\"\n",
    "    Plot a bar chart of combined_hist for bins 1..254, excluding bins at 0 and 255.\n",
    "    \"\"\"\n",
    "    plt.figure(figsize=(8,4))\n",
    "    plt.bar(range(1, 255), combined_hist[1:255], width=1.0, color='blue')\n",
    "    plt.title(f\"{title} (excluding bins at 0 & 255)\\n({num_images} images)\")\n",
    "    plt.xlabel('Pixel intensity (1..254)')\n",
    "    plt.ylabel('Count')\n",
    "    plt.tight_layout()\n",
    "\n",
    "\n"
   ],
   "id": "a835f0fb996fe3fe",
   "outputs": [],
   "execution_count": 26
  },
  {
   "metadata": {},
   "cell_type": "code",
   "source": [
    "def analyze_and_visualize(folder_path, title=\"Analysis\"):\n",
    "    \"\"\"\n",
    "    1) Collect valid image files from `folder_path`.\n",
    "    2) Compute resolution stats and print them.\n",
    "    3) Build a combined histogram, then plot it but exclude bins 0 & 255 for visibility.\n",
    "    4) Find the first image that has any pixel in [100..200].\n",
    "       Show it side-by-side with a color-coded version (0=black,1=white, else=red).\n",
    "    \"\"\"\n",
    "    # 1) Gather image files\n",
    "    image_files = collect_image_paths(folder_path)\n",
    "    if not image_files:\n",
    "        print(f\"[Warning] No valid images found in '{folder_path}'.\")\n",
    "        return\n",
    "\n",
    "    print(f\"=== {title} ===\")\n",
    "    print(f\"Found {len(image_files)} images in '{folder_path}'.\\n\")\n",
    "\n",
    "    # 2) Resolution stats\n",
    "    stats = compute_resolution_stats(image_files)\n",
    "    print(\"Resolution stats:\")\n",
    "    print(f\"  Height => min={stats['min_h']}, max={stats['max_h']}, mean={stats['mean_h']:.2f}\")\n",
    "    print(f\"  Width  => min={stats['min_w']}, max={stats['max_w']}, mean={stats['mean_w']:.2f}\")\n",
    "    print()\n",
    "\n",
    "    # 3) Combined histogram\n",
    "    combined_hist = compute_histogram(image_files)\n",
    "    plot_histogram_excluding_0_and_255(combined_hist, len(image_files), title=f\"{title}: Grayscale Histogram\")\n",
    "\n",
    "    # 4) Show first image with [100..200] side-by-side\n",
    "    first = find_first_image_in_range(image_files, low=100, high=200)\n",
    "    if first:\n",
    "        p, arr = first\n",
    "        print(f\"First image with pixels in [100..200]: {p}\")\n",
    "\n",
    "        rgb = color_code_image(arr)\n",
    "\n",
    "        # Side-by-side figure\n",
    "        fig, axs = plt.subplots(1, 2, figsize=(12,6))\n",
    "        axs[0].imshow(arr, cmap='gray', vmin=0, vmax=255)\n",
    "        axs[0].set_title(f\"Original grayscale\\n{p.name}\")\n",
    "        axs[0].axis('off')\n",
    "\n",
    "        axs[1].imshow(rgb)\n",
    "        axs[1].set_title(\"Color-coded (0=black, 1=white, else=red)\")\n",
    "        axs[1].axis('off')\n",
    "\n",
    "        plt.tight_layout()\n",
    "    else:\n",
    "        print(\"No image has pixel values in [100..200].\")\n",
    "\n",
    "    plt.show()"
   ],
   "id": "1a7c6f4ab37bc95a",
   "outputs": [],
   "execution_count": null
  }
 ],
 "metadata": {
  "kernelspec": {
   "display_name": "Python 3",
   "language": "python",
   "name": "python3"
  },
  "language_info": {
   "codemirror_mode": {
    "name": "ipython",
    "version": 2
   },
   "file_extension": ".py",
   "mimetype": "text/x-python",
   "name": "python",
   "nbconvert_exporter": "python",
   "pygments_lexer": "ipython2",
   "version": "2.7.6"
  }
 },
 "nbformat": 4,
 "nbformat_minor": 5
}

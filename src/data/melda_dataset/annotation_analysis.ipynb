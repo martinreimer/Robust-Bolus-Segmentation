{
 "cells": [
  {
   "metadata": {},
   "cell_type": "markdown",
   "source": "process video annotation export and do analysis",
   "id": "952e1a6e81892db5"
  },
  {
   "cell_type": "code",
   "id": "initial_id",
   "metadata": {
    "collapsed": true,
    "ExecuteTime": {
     "end_time": "2025-01-10T08:52:07.650835Z",
     "start_time": "2025-01-10T08:52:07.634140Z"
    }
   },
   "source": "import pandas as pd",
   "outputs": [],
   "execution_count": 1
  },
  {
   "metadata": {
    "ExecuteTime": {
     "end_time": "2025-01-10T08:52:08.043941Z",
     "start_time": "2025-01-10T08:52:08.013604Z"
    }
   },
   "cell_type": "code",
   "source": [
    "df = pd.read_csv(\"melda_swallow_annotations.csv\")\n",
    "df = df[df[\"VideoType\"] == \"swallow\"]\n",
    "df"
   ],
   "id": "edd9ee11391158c5",
   "outputs": [
    {
     "data": {
      "text/plain": [
       "       PatientID            ParsedFullVideoID IsUsable         Comment  \\\n",
       "1           46.0    Pt46_Visit1_fixed_000.mp4        1             NaN   \n",
       "2           46.0    Pt46_Visit1_fixed_001.mp4        1             NaN   \n",
       "3           46.0    Pt46_Visit1_fixed_002.mp4        0  barely visible   \n",
       "4           46.0    Pt46_Visit1_fixed_003.mp4        1             NaN   \n",
       "5           46.0    Pt46_Visit1_fixed_004.mp4      0.6  barely visible   \n",
       "...          ...                          ...      ...             ...   \n",
       "10943     9931.0  Pt9931_Visit1_fixed_003.mp4        0               2   \n",
       "10944     9931.0  Pt9931_Visit1_fixed_004.mp4        1             NaN   \n",
       "10945     9931.0  Pt9931_Visit1_fixed_005.mp4        0               2   \n",
       "10946     9931.0  Pt9931_Visit1_fixed_006.mp4        1             NaN   \n",
       "10947     9931.0  Pt9931_Visit1_fixed_007.mp4        1             NaN   \n",
       "\n",
       "      VideoType  PatientArtifact accessory artifact  IsCRF FullVideoID  \\\n",
       "1       swallow              NaN                NaN  False        Pt46   \n",
       "2       swallow              NaN                NaN  False        Pt46   \n",
       "3       swallow              NaN                NaN  False        Pt46   \n",
       "4       swallow              NaN                NaN  False        Pt46   \n",
       "5       swallow              NaN                NaN  False        Pt46   \n",
       "...         ...              ...                ...    ...         ...   \n",
       "10943   swallow              NaN                NaN  False      Pt9931   \n",
       "10944   swallow              NaN                NaN  False      Pt9931   \n",
       "10945   swallow              NaN                NaN  False      Pt9931   \n",
       "10946   swallow              NaN                NaN  False      Pt9931   \n",
       "10947   swallow              NaN                NaN  False      Pt9931   \n",
       "\n",
       "       ExtractedSwallowID  FrameCount   FPS  Duration  csv_FromFrame  \\\n",
       "1                     0.0        54.0  30.0      1.80          225.0   \n",
       "2                     1.0        58.0  30.0      1.93          516.0   \n",
       "3                     2.0        41.0  30.0      1.37          929.0   \n",
       "4                     3.0        53.0  30.0      1.77         1055.0   \n",
       "5                     4.0        77.0  30.0      2.57         1591.0   \n",
       "...                   ...         ...   ...       ...            ...   \n",
       "10943                 3.0        68.0  30.0      2.27          719.0   \n",
       "10944                 4.0        75.0  30.0      2.50         1279.0   \n",
       "10945                 5.0        30.0  30.0      1.00         1957.0   \n",
       "10946                 6.0        38.0  30.0      1.27         2565.0   \n",
       "10947                 7.0        34.0  30.0      1.13         3065.0   \n",
       "\n",
       "       csv_ToFrame       csv_Paradigm csv_EventDescription csv_Comment  \n",
       "1            292.0  1 mL liquid bolus              Swallow         NaN  \n",
       "2            583.0  1 mL liquid bolus              Swallow         NaN  \n",
       "3            990.0  1 mL liquid bolus              Swallow         NaN  \n",
       "4           1125.0  1 mL liquid bolus              Swallow         NaN  \n",
       "5           1643.0  1 mL liquid bolus              Swallow         NaN  \n",
       "...            ...                ...                  ...         ...  \n",
       "10943        786.0  1 mL liquid bolus              Swallow         NaN  \n",
       "10944       1353.0  1 mL liquid bolus              Swallow         NaN  \n",
       "10945       1986.0  1 mL liquid bolus              Swallow         NaN  \n",
       "10946       2602.0  1 mL liquid bolus              Swallow         NaN  \n",
       "10947       3098.0  1 mL liquid bolus              Swallow         NaN  \n",
       "\n",
       "[9824 rows x 18 columns]"
      ],
      "text/html": [
       "<div>\n",
       "<style scoped>\n",
       "    .dataframe tbody tr th:only-of-type {\n",
       "        vertical-align: middle;\n",
       "    }\n",
       "\n",
       "    .dataframe tbody tr th {\n",
       "        vertical-align: top;\n",
       "    }\n",
       "\n",
       "    .dataframe thead th {\n",
       "        text-align: right;\n",
       "    }\n",
       "</style>\n",
       "<table border=\"1\" class=\"dataframe\">\n",
       "  <thead>\n",
       "    <tr style=\"text-align: right;\">\n",
       "      <th></th>\n",
       "      <th>PatientID</th>\n",
       "      <th>ParsedFullVideoID</th>\n",
       "      <th>IsUsable</th>\n",
       "      <th>Comment</th>\n",
       "      <th>VideoType</th>\n",
       "      <th>PatientArtifact</th>\n",
       "      <th>accessory artifact</th>\n",
       "      <th>IsCRF</th>\n",
       "      <th>FullVideoID</th>\n",
       "      <th>ExtractedSwallowID</th>\n",
       "      <th>FrameCount</th>\n",
       "      <th>FPS</th>\n",
       "      <th>Duration</th>\n",
       "      <th>csv_FromFrame</th>\n",
       "      <th>csv_ToFrame</th>\n",
       "      <th>csv_Paradigm</th>\n",
       "      <th>csv_EventDescription</th>\n",
       "      <th>csv_Comment</th>\n",
       "    </tr>\n",
       "  </thead>\n",
       "  <tbody>\n",
       "    <tr>\n",
       "      <th>1</th>\n",
       "      <td>46.0</td>\n",
       "      <td>Pt46_Visit1_fixed_000.mp4</td>\n",
       "      <td>1</td>\n",
       "      <td>NaN</td>\n",
       "      <td>swallow</td>\n",
       "      <td>NaN</td>\n",
       "      <td>NaN</td>\n",
       "      <td>False</td>\n",
       "      <td>Pt46</td>\n",
       "      <td>0.0</td>\n",
       "      <td>54.0</td>\n",
       "      <td>30.0</td>\n",
       "      <td>1.80</td>\n",
       "      <td>225.0</td>\n",
       "      <td>292.0</td>\n",
       "      <td>1 mL liquid bolus</td>\n",
       "      <td>Swallow</td>\n",
       "      <td>NaN</td>\n",
       "    </tr>\n",
       "    <tr>\n",
       "      <th>2</th>\n",
       "      <td>46.0</td>\n",
       "      <td>Pt46_Visit1_fixed_001.mp4</td>\n",
       "      <td>1</td>\n",
       "      <td>NaN</td>\n",
       "      <td>swallow</td>\n",
       "      <td>NaN</td>\n",
       "      <td>NaN</td>\n",
       "      <td>False</td>\n",
       "      <td>Pt46</td>\n",
       "      <td>1.0</td>\n",
       "      <td>58.0</td>\n",
       "      <td>30.0</td>\n",
       "      <td>1.93</td>\n",
       "      <td>516.0</td>\n",
       "      <td>583.0</td>\n",
       "      <td>1 mL liquid bolus</td>\n",
       "      <td>Swallow</td>\n",
       "      <td>NaN</td>\n",
       "    </tr>\n",
       "    <tr>\n",
       "      <th>3</th>\n",
       "      <td>46.0</td>\n",
       "      <td>Pt46_Visit1_fixed_002.mp4</td>\n",
       "      <td>0</td>\n",
       "      <td>barely visible</td>\n",
       "      <td>swallow</td>\n",
       "      <td>NaN</td>\n",
       "      <td>NaN</td>\n",
       "      <td>False</td>\n",
       "      <td>Pt46</td>\n",
       "      <td>2.0</td>\n",
       "      <td>41.0</td>\n",
       "      <td>30.0</td>\n",
       "      <td>1.37</td>\n",
       "      <td>929.0</td>\n",
       "      <td>990.0</td>\n",
       "      <td>1 mL liquid bolus</td>\n",
       "      <td>Swallow</td>\n",
       "      <td>NaN</td>\n",
       "    </tr>\n",
       "    <tr>\n",
       "      <th>4</th>\n",
       "      <td>46.0</td>\n",
       "      <td>Pt46_Visit1_fixed_003.mp4</td>\n",
       "      <td>1</td>\n",
       "      <td>NaN</td>\n",
       "      <td>swallow</td>\n",
       "      <td>NaN</td>\n",
       "      <td>NaN</td>\n",
       "      <td>False</td>\n",
       "      <td>Pt46</td>\n",
       "      <td>3.0</td>\n",
       "      <td>53.0</td>\n",
       "      <td>30.0</td>\n",
       "      <td>1.77</td>\n",
       "      <td>1055.0</td>\n",
       "      <td>1125.0</td>\n",
       "      <td>1 mL liquid bolus</td>\n",
       "      <td>Swallow</td>\n",
       "      <td>NaN</td>\n",
       "    </tr>\n",
       "    <tr>\n",
       "      <th>5</th>\n",
       "      <td>46.0</td>\n",
       "      <td>Pt46_Visit1_fixed_004.mp4</td>\n",
       "      <td>0.6</td>\n",
       "      <td>barely visible</td>\n",
       "      <td>swallow</td>\n",
       "      <td>NaN</td>\n",
       "      <td>NaN</td>\n",
       "      <td>False</td>\n",
       "      <td>Pt46</td>\n",
       "      <td>4.0</td>\n",
       "      <td>77.0</td>\n",
       "      <td>30.0</td>\n",
       "      <td>2.57</td>\n",
       "      <td>1591.0</td>\n",
       "      <td>1643.0</td>\n",
       "      <td>1 mL liquid bolus</td>\n",
       "      <td>Swallow</td>\n",
       "      <td>NaN</td>\n",
       "    </tr>\n",
       "    <tr>\n",
       "      <th>...</th>\n",
       "      <td>...</td>\n",
       "      <td>...</td>\n",
       "      <td>...</td>\n",
       "      <td>...</td>\n",
       "      <td>...</td>\n",
       "      <td>...</td>\n",
       "      <td>...</td>\n",
       "      <td>...</td>\n",
       "      <td>...</td>\n",
       "      <td>...</td>\n",
       "      <td>...</td>\n",
       "      <td>...</td>\n",
       "      <td>...</td>\n",
       "      <td>...</td>\n",
       "      <td>...</td>\n",
       "      <td>...</td>\n",
       "      <td>...</td>\n",
       "      <td>...</td>\n",
       "    </tr>\n",
       "    <tr>\n",
       "      <th>10943</th>\n",
       "      <td>9931.0</td>\n",
       "      <td>Pt9931_Visit1_fixed_003.mp4</td>\n",
       "      <td>0</td>\n",
       "      <td>2</td>\n",
       "      <td>swallow</td>\n",
       "      <td>NaN</td>\n",
       "      <td>NaN</td>\n",
       "      <td>False</td>\n",
       "      <td>Pt9931</td>\n",
       "      <td>3.0</td>\n",
       "      <td>68.0</td>\n",
       "      <td>30.0</td>\n",
       "      <td>2.27</td>\n",
       "      <td>719.0</td>\n",
       "      <td>786.0</td>\n",
       "      <td>1 mL liquid bolus</td>\n",
       "      <td>Swallow</td>\n",
       "      <td>NaN</td>\n",
       "    </tr>\n",
       "    <tr>\n",
       "      <th>10944</th>\n",
       "      <td>9931.0</td>\n",
       "      <td>Pt9931_Visit1_fixed_004.mp4</td>\n",
       "      <td>1</td>\n",
       "      <td>NaN</td>\n",
       "      <td>swallow</td>\n",
       "      <td>NaN</td>\n",
       "      <td>NaN</td>\n",
       "      <td>False</td>\n",
       "      <td>Pt9931</td>\n",
       "      <td>4.0</td>\n",
       "      <td>75.0</td>\n",
       "      <td>30.0</td>\n",
       "      <td>2.50</td>\n",
       "      <td>1279.0</td>\n",
       "      <td>1353.0</td>\n",
       "      <td>1 mL liquid bolus</td>\n",
       "      <td>Swallow</td>\n",
       "      <td>NaN</td>\n",
       "    </tr>\n",
       "    <tr>\n",
       "      <th>10945</th>\n",
       "      <td>9931.0</td>\n",
       "      <td>Pt9931_Visit1_fixed_005.mp4</td>\n",
       "      <td>0</td>\n",
       "      <td>2</td>\n",
       "      <td>swallow</td>\n",
       "      <td>NaN</td>\n",
       "      <td>NaN</td>\n",
       "      <td>False</td>\n",
       "      <td>Pt9931</td>\n",
       "      <td>5.0</td>\n",
       "      <td>30.0</td>\n",
       "      <td>30.0</td>\n",
       "      <td>1.00</td>\n",
       "      <td>1957.0</td>\n",
       "      <td>1986.0</td>\n",
       "      <td>1 mL liquid bolus</td>\n",
       "      <td>Swallow</td>\n",
       "      <td>NaN</td>\n",
       "    </tr>\n",
       "    <tr>\n",
       "      <th>10946</th>\n",
       "      <td>9931.0</td>\n",
       "      <td>Pt9931_Visit1_fixed_006.mp4</td>\n",
       "      <td>1</td>\n",
       "      <td>NaN</td>\n",
       "      <td>swallow</td>\n",
       "      <td>NaN</td>\n",
       "      <td>NaN</td>\n",
       "      <td>False</td>\n",
       "      <td>Pt9931</td>\n",
       "      <td>6.0</td>\n",
       "      <td>38.0</td>\n",
       "      <td>30.0</td>\n",
       "      <td>1.27</td>\n",
       "      <td>2565.0</td>\n",
       "      <td>2602.0</td>\n",
       "      <td>1 mL liquid bolus</td>\n",
       "      <td>Swallow</td>\n",
       "      <td>NaN</td>\n",
       "    </tr>\n",
       "    <tr>\n",
       "      <th>10947</th>\n",
       "      <td>9931.0</td>\n",
       "      <td>Pt9931_Visit1_fixed_007.mp4</td>\n",
       "      <td>1</td>\n",
       "      <td>NaN</td>\n",
       "      <td>swallow</td>\n",
       "      <td>NaN</td>\n",
       "      <td>NaN</td>\n",
       "      <td>False</td>\n",
       "      <td>Pt9931</td>\n",
       "      <td>7.0</td>\n",
       "      <td>34.0</td>\n",
       "      <td>30.0</td>\n",
       "      <td>1.13</td>\n",
       "      <td>3065.0</td>\n",
       "      <td>3098.0</td>\n",
       "      <td>1 mL liquid bolus</td>\n",
       "      <td>Swallow</td>\n",
       "      <td>NaN</td>\n",
       "    </tr>\n",
       "  </tbody>\n",
       "</table>\n",
       "<p>9824 rows × 18 columns</p>\n",
       "</div>"
      ]
     },
     "execution_count": 2,
     "metadata": {},
     "output_type": "execute_result"
    }
   ],
   "execution_count": 2
  },
  {
   "metadata": {},
   "cell_type": "markdown",
   "source": "### process is usable col",
   "id": "761081107d52b8eb"
  },
  {
   "metadata": {
    "ExecuteTime": {
     "end_time": "2025-01-10T08:52:10.307096Z",
     "start_time": "2025-01-10T08:52:10.286392Z"
    }
   },
   "cell_type": "code",
   "source": "df[\"IsUsable\"].value_counts()",
   "id": "317bd5429691e276",
   "outputs": [
    {
     "data": {
      "text/plain": [
       "IsUsable\n",
       "1      5654\n",
       "0      3871\n",
       "0.8     240\n",
       "wtf       5\n",
       "0.4       2\n",
       "0.6       1\n",
       "          1\n",
       "Name: count, dtype: int64"
      ]
     },
     "execution_count": 3,
     "metadata": {},
     "output_type": "execute_result"
    }
   ],
   "execution_count": 3
  },
  {
   "metadata": {
    "ExecuteTime": {
     "end_time": "2025-01-10T08:52:13.839996Z",
     "start_time": "2025-01-10T08:52:13.821804Z"
    }
   },
   "cell_type": "code",
   "source": [
    "# value wtf set to 1\n",
    "df[\"IsUsable\"][df[\"IsUsable\"] == \"wtf\"] = 1\n",
    "df[\"IsUsable\"][df[\"IsUsable\"] == \" \"] = 0\n",
    "# transform to float\n",
    "df[\"IsUsable\"] = df[\"IsUsable\"].astype(float)\n",
    "# all values between 0 and 1 are set to 0\n",
    "df[\"IsUsable\"][df[\"IsUsable\"] < 1] = 0"
   ],
   "id": "426972ff528a7ceb",
   "outputs": [
    {
     "name": "stderr",
     "output_type": "stream",
     "text": [
      "C:\\Users\\ly37xoco\\AppData\\Local\\Temp\\ipykernel_15912\\3385958263.py:2: FutureWarning: ChainedAssignmentError: behaviour will change in pandas 3.0!\n",
      "You are setting values through chained assignment. Currently this works in certain cases, but when using Copy-on-Write (which will become the default behaviour in pandas 3.0) this will never work to update the original DataFrame or Series, because the intermediate object on which we are setting values will behave as a copy.\n",
      "A typical example is when you are setting values in a column of a DataFrame, like:\n",
      "\n",
      "df[\"col\"][row_indexer] = value\n",
      "\n",
      "Use `df.loc[row_indexer, \"col\"] = values` instead, to perform the assignment in a single step and ensure this keeps updating the original `df`.\n",
      "\n",
      "See the caveats in the documentation: https://pandas.pydata.org/pandas-docs/stable/user_guide/indexing.html#returning-a-view-versus-a-copy\n",
      "\n",
      "  df[\"IsUsable\"][df[\"IsUsable\"] == \"wtf\"] = 1\n",
      "C:\\Users\\ly37xoco\\AppData\\Local\\Temp\\ipykernel_15912\\3385958263.py:3: FutureWarning: ChainedAssignmentError: behaviour will change in pandas 3.0!\n",
      "You are setting values through chained assignment. Currently this works in certain cases, but when using Copy-on-Write (which will become the default behaviour in pandas 3.0) this will never work to update the original DataFrame or Series, because the intermediate object on which we are setting values will behave as a copy.\n",
      "A typical example is when you are setting values in a column of a DataFrame, like:\n",
      "\n",
      "df[\"col\"][row_indexer] = value\n",
      "\n",
      "Use `df.loc[row_indexer, \"col\"] = values` instead, to perform the assignment in a single step and ensure this keeps updating the original `df`.\n",
      "\n",
      "See the caveats in the documentation: https://pandas.pydata.org/pandas-docs/stable/user_guide/indexing.html#returning-a-view-versus-a-copy\n",
      "\n",
      "  df[\"IsUsable\"][df[\"IsUsable\"] == \" \"] = 0\n",
      "C:\\Users\\ly37xoco\\AppData\\Local\\Temp\\ipykernel_15912\\3385958263.py:3: SettingWithCopyWarning: \n",
      "A value is trying to be set on a copy of a slice from a DataFrame\n",
      "\n",
      "See the caveats in the documentation: https://pandas.pydata.org/pandas-docs/stable/user_guide/indexing.html#returning-a-view-versus-a-copy\n",
      "  df[\"IsUsable\"][df[\"IsUsable\"] == \" \"] = 0\n",
      "C:\\Users\\ly37xoco\\AppData\\Local\\Temp\\ipykernel_15912\\3385958263.py:7: FutureWarning: ChainedAssignmentError: behaviour will change in pandas 3.0!\n",
      "You are setting values through chained assignment. Currently this works in certain cases, but when using Copy-on-Write (which will become the default behaviour in pandas 3.0) this will never work to update the original DataFrame or Series, because the intermediate object on which we are setting values will behave as a copy.\n",
      "A typical example is when you are setting values in a column of a DataFrame, like:\n",
      "\n",
      "df[\"col\"][row_indexer] = value\n",
      "\n",
      "Use `df.loc[row_indexer, \"col\"] = values` instead, to perform the assignment in a single step and ensure this keeps updating the original `df`.\n",
      "\n",
      "See the caveats in the documentation: https://pandas.pydata.org/pandas-docs/stable/user_guide/indexing.html#returning-a-view-versus-a-copy\n",
      "\n",
      "  df[\"IsUsable\"][df[\"IsUsable\"] < 1] = 0\n",
      "C:\\Users\\ly37xoco\\AppData\\Local\\Temp\\ipykernel_15912\\3385958263.py:7: SettingWithCopyWarning: \n",
      "A value is trying to be set on a copy of a slice from a DataFrame\n",
      "\n",
      "See the caveats in the documentation: https://pandas.pydata.org/pandas-docs/stable/user_guide/indexing.html#returning-a-view-versus-a-copy\n",
      "  df[\"IsUsable\"][df[\"IsUsable\"] < 1] = 0\n"
     ]
    }
   ],
   "execution_count": 4
  },
  {
   "metadata": {
    "ExecuteTime": {
     "end_time": "2025-01-10T08:52:15.278710Z",
     "start_time": "2025-01-10T08:52:15.271043Z"
    }
   },
   "cell_type": "code",
   "source": "df[\"IsUsable\"].value_counts()",
   "id": "2d3754753503df8a",
   "outputs": [
    {
     "data": {
      "text/plain": [
       "IsUsable\n",
       "1.0    5659\n",
       "0.0    4115\n",
       "Name: count, dtype: int64"
      ]
     },
     "execution_count": 5,
     "metadata": {},
     "output_type": "execute_result"
    }
   ],
   "execution_count": 5
  },
  {
   "metadata": {
    "ExecuteTime": {
     "end_time": "2025-01-10T08:52:16.109284Z",
     "start_time": "2025-01-10T08:52:16.106720Z"
    }
   },
   "cell_type": "code",
   "source": [
    "# rename to is_usable\n",
    "df.rename(columns={\"IsUsable\": \"is_usable\"}, inplace=True)"
   ],
   "id": "fc37e5c745001a78",
   "outputs": [],
   "execution_count": 6
  },
  {
   "metadata": {},
   "cell_type": "markdown",
   "source": "### create flag columns",
   "id": "daf36b821d84f912"
  },
  {
   "metadata": {
    "ExecuteTime": {
     "end_time": "2025-01-10T08:52:20.179670Z",
     "start_time": "2025-01-10T08:52:20.176011Z"
    }
   },
   "cell_type": "code",
   "source": [
    "'''\n",
    "columns to be created:\n",
    "- artifact_detected\n",
    "- severe_movement\n",
    "- visibility_issues\n",
    "- accessory_artifact\n",
    "- bolus_present_initially\n",
    "- wrong_perspective\n",
    "- bad_view\n",
    "'''\n",
    "# create cols\n",
    "df[\"artifact_detected\"] = 0\n",
    "df[\"severe_movement\"] = 0\n",
    "df[\"visibility_issues\"] = 0\n",
    "df[\"accessory_artifact\"] = 0\n",
    "df[\"bolus_present_initially\"] = 0\n"
   ],
   "id": "c921886fc567b059",
   "outputs": [],
   "execution_count": 7
  },
  {
   "metadata": {},
   "cell_type": "markdown",
   "source": "### process comment column",
   "id": "522302719e509c01"
  },
  {
   "metadata": {
    "ExecuteTime": {
     "end_time": "2025-01-10T08:52:21.891315Z",
     "start_time": "2025-01-10T08:52:21.880512Z"
    }
   },
   "cell_type": "code",
   "source": "df[\"Comment\"].value_counts()",
   "id": "83c0507f984a9b71",
   "outputs": [
    {
     "data": {
      "text/plain": [
       "Comment\n",
       "2       2901\n",
       "3       1151\n",
       "51       808\n",
       "4        469\n",
       "51,3     332\n",
       "        ... \n",
       "5,4        1\n",
       "35         1\n",
       "           1\n",
       "1,4        1\n",
       "20         1\n",
       "Name: count, Length: 67, dtype: int64"
      ]
     },
     "execution_count": 8,
     "metadata": {},
     "output_type": "execute_result"
    }
   ],
   "execution_count": 8
  },
  {
   "metadata": {
    "ExecuteTime": {
     "end_time": "2025-01-10T08:52:28.761292Z",
     "start_time": "2025-01-10T08:52:28.698167Z"
    }
   },
   "cell_type": "code",
   "source": [
    "'''\n",
    "comments and their meaning:\n",
    "1-barely visible\t -> visibility_issues\n",
    "2-severe movement (21-forward) -> severe_movement\n",
    "3-bolus present\t\t  -> bolus_present_initially\n",
    "4-patient artifact\t  -> artifact_detected\n",
    "5-accessory artifact (51-glasses, 50-earrings) \t-> accessory_artifact\n",
    "7-badview\t\t-> bad_view\n",
    "8-wrongperspective\t\t-> wrong_perspective\n",
    "\"software_artifact\" -> software_artifact\n",
    "\"bolus present\" -> bolus_present_initially\n",
    "\"image artifact\" -> software_artifact\n",
    "\"barely visible\" -> visibility_issues\n",
    "\"view\" -> bad_view\n",
    "\"movement\" -> severe_movement\n",
    "\"severe movement\" -> severe_movement\n",
    "\"view?, artifact=\" -> artifact_detected and bad_view\n",
    "\"barely visible, start missing\" -> visibility_issues\n",
    "\"color?\" -> software_artifact\n",
    "\"artefact_tocheck\" -> software_artifact\n",
    "\"orientation\" -> wrong_perspective\n",
    "\"bolus present, no swallow\" -> bolus_present_initially\n",
    "\"perspective\" -> wrong_perspective\n",
    "\"barely visible, camera movement\" -> visibility_issues and severe_movement\n",
    "\"5,hand\" -> accessory_artifact\n",
    "\"artifact\" -> software_artifact\n",
    "\n",
    "\n",
    "- value in cells can be list of values, f.e. possible values are 51,3 or 5 or 51,50,5 or ...\n",
    "- comments are not just number or list of numbers, but also text or list of text or list of text and number\n",
    "-\n",
    "'''\n",
    "# please now create the columns based on the values i have written above\n",
    "# Convert all values to strings and split by comma\n",
    "df[\"Comment\"] = df[\"Comment\"].astype(str).str.split(\",\")\n",
    "\n",
    "# Create the columns based on the values\n",
    "df[\"visibility_issues\"] = df[\"Comment\"].apply(lambda x: 1 if \"1\" in x else 0)\n",
    "df[\"severe_movement\"] = df[\"Comment\"].apply(lambda x: 1 if \"2\" in x or \"21\" in x else 0)\n",
    "df[\"bolus_present_initially\"] = df[\"Comment\"].apply(lambda x: 1 if \"3\" in x or \"bolus present\" in x or \"bolus present, no swallow\" in x else 0)\n",
    "df[\"artifact_detected\"] = df[\"Comment\"].apply(lambda x: 1 if \"4\" in x or \"view?, artifact=\" in x else 0)\n",
    "df[\"accessory_artifact\"] = df[\"Comment\"].apply(lambda x: 1 if \"5\" in x or \"51\" in x or \"50\" in x else 0)\n",
    "df[\"bad_view\"] = df[\"Comment\"].apply(lambda x: 1 if \"7\" in x or \"view\" in x or \"view?, artifact=\" in x else 0)\n",
    "df[\"wrong_perspective\"] = df[\"Comment\"].apply(lambda x: 1 if \"8\" in x or \"orientation\" in x or \"perspective\" in x else 0)\n",
    "df[\"software_artifact\"] = df[\"Comment\"].apply(lambda x: 1 if \"software_artifact\" in x or \"image artifact\" in x or \"color?\" in x or \"artefact_tocheck\" in x or \"artifact\" in x else 0)\n"
   ],
   "id": "cd4b0078340e7776",
   "outputs": [],
   "execution_count": 9
  },
  {
   "metadata": {
    "ExecuteTime": {
     "end_time": "2025-01-10T08:52:29.469830Z",
     "start_time": "2025-01-10T08:52:29.449739Z"
    }
   },
   "cell_type": "code",
   "source": "df",
   "id": "95308a43ad7d3c36",
   "outputs": [
    {
     "data": {
      "text/plain": [
       "       PatientID            ParsedFullVideoID  is_usable           Comment  \\\n",
       "1           46.0    Pt46_Visit1_fixed_000.mp4        1.0             [nan]   \n",
       "2           46.0    Pt46_Visit1_fixed_001.mp4        1.0             [nan]   \n",
       "3           46.0    Pt46_Visit1_fixed_002.mp4        0.0  [barely visible]   \n",
       "4           46.0    Pt46_Visit1_fixed_003.mp4        1.0             [nan]   \n",
       "5           46.0    Pt46_Visit1_fixed_004.mp4        0.0  [barely visible]   \n",
       "...          ...                          ...        ...               ...   \n",
       "10943     9931.0  Pt9931_Visit1_fixed_003.mp4        0.0               [2]   \n",
       "10944     9931.0  Pt9931_Visit1_fixed_004.mp4        1.0             [nan]   \n",
       "10945     9931.0  Pt9931_Visit1_fixed_005.mp4        0.0               [2]   \n",
       "10946     9931.0  Pt9931_Visit1_fixed_006.mp4        1.0             [nan]   \n",
       "10947     9931.0  Pt9931_Visit1_fixed_007.mp4        1.0             [nan]   \n",
       "\n",
       "      VideoType  PatientArtifact accessory artifact  IsCRF FullVideoID  \\\n",
       "1       swallow              NaN                NaN  False        Pt46   \n",
       "2       swallow              NaN                NaN  False        Pt46   \n",
       "3       swallow              NaN                NaN  False        Pt46   \n",
       "4       swallow              NaN                NaN  False        Pt46   \n",
       "5       swallow              NaN                NaN  False        Pt46   \n",
       "...         ...              ...                ...    ...         ...   \n",
       "10943   swallow              NaN                NaN  False      Pt9931   \n",
       "10944   swallow              NaN                NaN  False      Pt9931   \n",
       "10945   swallow              NaN                NaN  False      Pt9931   \n",
       "10946   swallow              NaN                NaN  False      Pt9931   \n",
       "10947   swallow              NaN                NaN  False      Pt9931   \n",
       "\n",
       "       ExtractedSwallowID  ...  csv_EventDescription  csv_Comment  \\\n",
       "1                     0.0  ...               Swallow          NaN   \n",
       "2                     1.0  ...               Swallow          NaN   \n",
       "3                     2.0  ...               Swallow          NaN   \n",
       "4                     3.0  ...               Swallow          NaN   \n",
       "5                     4.0  ...               Swallow          NaN   \n",
       "...                   ...  ...                   ...          ...   \n",
       "10943                 3.0  ...               Swallow          NaN   \n",
       "10944                 4.0  ...               Swallow          NaN   \n",
       "10945                 5.0  ...               Swallow          NaN   \n",
       "10946                 6.0  ...               Swallow          NaN   \n",
       "10947                 7.0  ...               Swallow          NaN   \n",
       "\n",
       "       artifact_detected  severe_movement  visibility_issues  \\\n",
       "1                      0                0                  0   \n",
       "2                      0                0                  0   \n",
       "3                      0                0                  0   \n",
       "4                      0                0                  0   \n",
       "5                      0                0                  0   \n",
       "...                  ...              ...                ...   \n",
       "10943                  0                1                  0   \n",
       "10944                  0                0                  0   \n",
       "10945                  0                1                  0   \n",
       "10946                  0                0                  0   \n",
       "10947                  0                0                  0   \n",
       "\n",
       "      accessory_artifact bolus_present_initially bad_view  wrong_perspective  \\\n",
       "1                      0                       0        0                  0   \n",
       "2                      0                       0        0                  0   \n",
       "3                      0                       0        0                  0   \n",
       "4                      0                       0        0                  0   \n",
       "5                      0                       0        0                  0   \n",
       "...                  ...                     ...      ...                ...   \n",
       "10943                  0                       0        0                  0   \n",
       "10944                  0                       0        0                  0   \n",
       "10945                  0                       0        0                  0   \n",
       "10946                  0                       0        0                  0   \n",
       "10947                  0                       0        0                  0   \n",
       "\n",
       "       software_artifact  \n",
       "1                      0  \n",
       "2                      0  \n",
       "3                      0  \n",
       "4                      0  \n",
       "5                      0  \n",
       "...                  ...  \n",
       "10943                  0  \n",
       "10944                  0  \n",
       "10945                  0  \n",
       "10946                  0  \n",
       "10947                  0  \n",
       "\n",
       "[9824 rows x 26 columns]"
      ],
      "text/html": [
       "<div>\n",
       "<style scoped>\n",
       "    .dataframe tbody tr th:only-of-type {\n",
       "        vertical-align: middle;\n",
       "    }\n",
       "\n",
       "    .dataframe tbody tr th {\n",
       "        vertical-align: top;\n",
       "    }\n",
       "\n",
       "    .dataframe thead th {\n",
       "        text-align: right;\n",
       "    }\n",
       "</style>\n",
       "<table border=\"1\" class=\"dataframe\">\n",
       "  <thead>\n",
       "    <tr style=\"text-align: right;\">\n",
       "      <th></th>\n",
       "      <th>PatientID</th>\n",
       "      <th>ParsedFullVideoID</th>\n",
       "      <th>is_usable</th>\n",
       "      <th>Comment</th>\n",
       "      <th>VideoType</th>\n",
       "      <th>PatientArtifact</th>\n",
       "      <th>accessory artifact</th>\n",
       "      <th>IsCRF</th>\n",
       "      <th>FullVideoID</th>\n",
       "      <th>ExtractedSwallowID</th>\n",
       "      <th>...</th>\n",
       "      <th>csv_EventDescription</th>\n",
       "      <th>csv_Comment</th>\n",
       "      <th>artifact_detected</th>\n",
       "      <th>severe_movement</th>\n",
       "      <th>visibility_issues</th>\n",
       "      <th>accessory_artifact</th>\n",
       "      <th>bolus_present_initially</th>\n",
       "      <th>bad_view</th>\n",
       "      <th>wrong_perspective</th>\n",
       "      <th>software_artifact</th>\n",
       "    </tr>\n",
       "  </thead>\n",
       "  <tbody>\n",
       "    <tr>\n",
       "      <th>1</th>\n",
       "      <td>46.0</td>\n",
       "      <td>Pt46_Visit1_fixed_000.mp4</td>\n",
       "      <td>1.0</td>\n",
       "      <td>[nan]</td>\n",
       "      <td>swallow</td>\n",
       "      <td>NaN</td>\n",
       "      <td>NaN</td>\n",
       "      <td>False</td>\n",
       "      <td>Pt46</td>\n",
       "      <td>0.0</td>\n",
       "      <td>...</td>\n",
       "      <td>Swallow</td>\n",
       "      <td>NaN</td>\n",
       "      <td>0</td>\n",
       "      <td>0</td>\n",
       "      <td>0</td>\n",
       "      <td>0</td>\n",
       "      <td>0</td>\n",
       "      <td>0</td>\n",
       "      <td>0</td>\n",
       "      <td>0</td>\n",
       "    </tr>\n",
       "    <tr>\n",
       "      <th>2</th>\n",
       "      <td>46.0</td>\n",
       "      <td>Pt46_Visit1_fixed_001.mp4</td>\n",
       "      <td>1.0</td>\n",
       "      <td>[nan]</td>\n",
       "      <td>swallow</td>\n",
       "      <td>NaN</td>\n",
       "      <td>NaN</td>\n",
       "      <td>False</td>\n",
       "      <td>Pt46</td>\n",
       "      <td>1.0</td>\n",
       "      <td>...</td>\n",
       "      <td>Swallow</td>\n",
       "      <td>NaN</td>\n",
       "      <td>0</td>\n",
       "      <td>0</td>\n",
       "      <td>0</td>\n",
       "      <td>0</td>\n",
       "      <td>0</td>\n",
       "      <td>0</td>\n",
       "      <td>0</td>\n",
       "      <td>0</td>\n",
       "    </tr>\n",
       "    <tr>\n",
       "      <th>3</th>\n",
       "      <td>46.0</td>\n",
       "      <td>Pt46_Visit1_fixed_002.mp4</td>\n",
       "      <td>0.0</td>\n",
       "      <td>[barely visible]</td>\n",
       "      <td>swallow</td>\n",
       "      <td>NaN</td>\n",
       "      <td>NaN</td>\n",
       "      <td>False</td>\n",
       "      <td>Pt46</td>\n",
       "      <td>2.0</td>\n",
       "      <td>...</td>\n",
       "      <td>Swallow</td>\n",
       "      <td>NaN</td>\n",
       "      <td>0</td>\n",
       "      <td>0</td>\n",
       "      <td>0</td>\n",
       "      <td>0</td>\n",
       "      <td>0</td>\n",
       "      <td>0</td>\n",
       "      <td>0</td>\n",
       "      <td>0</td>\n",
       "    </tr>\n",
       "    <tr>\n",
       "      <th>4</th>\n",
       "      <td>46.0</td>\n",
       "      <td>Pt46_Visit1_fixed_003.mp4</td>\n",
       "      <td>1.0</td>\n",
       "      <td>[nan]</td>\n",
       "      <td>swallow</td>\n",
       "      <td>NaN</td>\n",
       "      <td>NaN</td>\n",
       "      <td>False</td>\n",
       "      <td>Pt46</td>\n",
       "      <td>3.0</td>\n",
       "      <td>...</td>\n",
       "      <td>Swallow</td>\n",
       "      <td>NaN</td>\n",
       "      <td>0</td>\n",
       "      <td>0</td>\n",
       "      <td>0</td>\n",
       "      <td>0</td>\n",
       "      <td>0</td>\n",
       "      <td>0</td>\n",
       "      <td>0</td>\n",
       "      <td>0</td>\n",
       "    </tr>\n",
       "    <tr>\n",
       "      <th>5</th>\n",
       "      <td>46.0</td>\n",
       "      <td>Pt46_Visit1_fixed_004.mp4</td>\n",
       "      <td>0.0</td>\n",
       "      <td>[barely visible]</td>\n",
       "      <td>swallow</td>\n",
       "      <td>NaN</td>\n",
       "      <td>NaN</td>\n",
       "      <td>False</td>\n",
       "      <td>Pt46</td>\n",
       "      <td>4.0</td>\n",
       "      <td>...</td>\n",
       "      <td>Swallow</td>\n",
       "      <td>NaN</td>\n",
       "      <td>0</td>\n",
       "      <td>0</td>\n",
       "      <td>0</td>\n",
       "      <td>0</td>\n",
       "      <td>0</td>\n",
       "      <td>0</td>\n",
       "      <td>0</td>\n",
       "      <td>0</td>\n",
       "    </tr>\n",
       "    <tr>\n",
       "      <th>...</th>\n",
       "      <td>...</td>\n",
       "      <td>...</td>\n",
       "      <td>...</td>\n",
       "      <td>...</td>\n",
       "      <td>...</td>\n",
       "      <td>...</td>\n",
       "      <td>...</td>\n",
       "      <td>...</td>\n",
       "      <td>...</td>\n",
       "      <td>...</td>\n",
       "      <td>...</td>\n",
       "      <td>...</td>\n",
       "      <td>...</td>\n",
       "      <td>...</td>\n",
       "      <td>...</td>\n",
       "      <td>...</td>\n",
       "      <td>...</td>\n",
       "      <td>...</td>\n",
       "      <td>...</td>\n",
       "      <td>...</td>\n",
       "      <td>...</td>\n",
       "    </tr>\n",
       "    <tr>\n",
       "      <th>10943</th>\n",
       "      <td>9931.0</td>\n",
       "      <td>Pt9931_Visit1_fixed_003.mp4</td>\n",
       "      <td>0.0</td>\n",
       "      <td>[2]</td>\n",
       "      <td>swallow</td>\n",
       "      <td>NaN</td>\n",
       "      <td>NaN</td>\n",
       "      <td>False</td>\n",
       "      <td>Pt9931</td>\n",
       "      <td>3.0</td>\n",
       "      <td>...</td>\n",
       "      <td>Swallow</td>\n",
       "      <td>NaN</td>\n",
       "      <td>0</td>\n",
       "      <td>1</td>\n",
       "      <td>0</td>\n",
       "      <td>0</td>\n",
       "      <td>0</td>\n",
       "      <td>0</td>\n",
       "      <td>0</td>\n",
       "      <td>0</td>\n",
       "    </tr>\n",
       "    <tr>\n",
       "      <th>10944</th>\n",
       "      <td>9931.0</td>\n",
       "      <td>Pt9931_Visit1_fixed_004.mp4</td>\n",
       "      <td>1.0</td>\n",
       "      <td>[nan]</td>\n",
       "      <td>swallow</td>\n",
       "      <td>NaN</td>\n",
       "      <td>NaN</td>\n",
       "      <td>False</td>\n",
       "      <td>Pt9931</td>\n",
       "      <td>4.0</td>\n",
       "      <td>...</td>\n",
       "      <td>Swallow</td>\n",
       "      <td>NaN</td>\n",
       "      <td>0</td>\n",
       "      <td>0</td>\n",
       "      <td>0</td>\n",
       "      <td>0</td>\n",
       "      <td>0</td>\n",
       "      <td>0</td>\n",
       "      <td>0</td>\n",
       "      <td>0</td>\n",
       "    </tr>\n",
       "    <tr>\n",
       "      <th>10945</th>\n",
       "      <td>9931.0</td>\n",
       "      <td>Pt9931_Visit1_fixed_005.mp4</td>\n",
       "      <td>0.0</td>\n",
       "      <td>[2]</td>\n",
       "      <td>swallow</td>\n",
       "      <td>NaN</td>\n",
       "      <td>NaN</td>\n",
       "      <td>False</td>\n",
       "      <td>Pt9931</td>\n",
       "      <td>5.0</td>\n",
       "      <td>...</td>\n",
       "      <td>Swallow</td>\n",
       "      <td>NaN</td>\n",
       "      <td>0</td>\n",
       "      <td>1</td>\n",
       "      <td>0</td>\n",
       "      <td>0</td>\n",
       "      <td>0</td>\n",
       "      <td>0</td>\n",
       "      <td>0</td>\n",
       "      <td>0</td>\n",
       "    </tr>\n",
       "    <tr>\n",
       "      <th>10946</th>\n",
       "      <td>9931.0</td>\n",
       "      <td>Pt9931_Visit1_fixed_006.mp4</td>\n",
       "      <td>1.0</td>\n",
       "      <td>[nan]</td>\n",
       "      <td>swallow</td>\n",
       "      <td>NaN</td>\n",
       "      <td>NaN</td>\n",
       "      <td>False</td>\n",
       "      <td>Pt9931</td>\n",
       "      <td>6.0</td>\n",
       "      <td>...</td>\n",
       "      <td>Swallow</td>\n",
       "      <td>NaN</td>\n",
       "      <td>0</td>\n",
       "      <td>0</td>\n",
       "      <td>0</td>\n",
       "      <td>0</td>\n",
       "      <td>0</td>\n",
       "      <td>0</td>\n",
       "      <td>0</td>\n",
       "      <td>0</td>\n",
       "    </tr>\n",
       "    <tr>\n",
       "      <th>10947</th>\n",
       "      <td>9931.0</td>\n",
       "      <td>Pt9931_Visit1_fixed_007.mp4</td>\n",
       "      <td>1.0</td>\n",
       "      <td>[nan]</td>\n",
       "      <td>swallow</td>\n",
       "      <td>NaN</td>\n",
       "      <td>NaN</td>\n",
       "      <td>False</td>\n",
       "      <td>Pt9931</td>\n",
       "      <td>7.0</td>\n",
       "      <td>...</td>\n",
       "      <td>Swallow</td>\n",
       "      <td>NaN</td>\n",
       "      <td>0</td>\n",
       "      <td>0</td>\n",
       "      <td>0</td>\n",
       "      <td>0</td>\n",
       "      <td>0</td>\n",
       "      <td>0</td>\n",
       "      <td>0</td>\n",
       "      <td>0</td>\n",
       "    </tr>\n",
       "  </tbody>\n",
       "</table>\n",
       "<p>9824 rows × 26 columns</p>\n",
       "</div>"
      ]
     },
     "execution_count": 10,
     "metadata": {},
     "output_type": "execute_result"
    }
   ],
   "execution_count": 10
  },
  {
   "metadata": {
    "ExecuteTime": {
     "end_time": "2025-01-10T08:52:30.830066Z",
     "start_time": "2025-01-10T08:52:30.817771Z"
    }
   },
   "cell_type": "code",
   "source": [
    "# show rows where Comment is  empty ([nan] is empty) and where the sum of all flags is 0\n",
    "df[(df[\"Comment\"] == \"[nan]\") & (df[[\"visibility_issues\", \"severe_movement\", \"bolus_present_initially\", \"artifact_detected\", \"accessory_artifact\", \"bad_view\", \"wrong_perspective\", \"software_artifact\"]].sum(axis=1) == 0)]"
   ],
   "id": "b7877602eb1d0d0f",
   "outputs": [
    {
     "data": {
      "text/plain": [
       "Empty DataFrame\n",
       "Columns: [PatientID, ParsedFullVideoID, is_usable, Comment, VideoType, PatientArtifact, accessory artifact, IsCRF, FullVideoID, ExtractedSwallowID, FrameCount, FPS, Duration, csv_FromFrame, csv_ToFrame, csv_Paradigm, csv_EventDescription, csv_Comment, artifact_detected, severe_movement, visibility_issues, accessory_artifact, bolus_present_initially, bad_view, wrong_perspective, software_artifact]\n",
       "Index: []\n",
       "\n",
       "[0 rows x 26 columns]"
      ],
      "text/html": [
       "<div>\n",
       "<style scoped>\n",
       "    .dataframe tbody tr th:only-of-type {\n",
       "        vertical-align: middle;\n",
       "    }\n",
       "\n",
       "    .dataframe tbody tr th {\n",
       "        vertical-align: top;\n",
       "    }\n",
       "\n",
       "    .dataframe thead th {\n",
       "        text-align: right;\n",
       "    }\n",
       "</style>\n",
       "<table border=\"1\" class=\"dataframe\">\n",
       "  <thead>\n",
       "    <tr style=\"text-align: right;\">\n",
       "      <th></th>\n",
       "      <th>PatientID</th>\n",
       "      <th>ParsedFullVideoID</th>\n",
       "      <th>is_usable</th>\n",
       "      <th>Comment</th>\n",
       "      <th>VideoType</th>\n",
       "      <th>PatientArtifact</th>\n",
       "      <th>accessory artifact</th>\n",
       "      <th>IsCRF</th>\n",
       "      <th>FullVideoID</th>\n",
       "      <th>ExtractedSwallowID</th>\n",
       "      <th>...</th>\n",
       "      <th>csv_EventDescription</th>\n",
       "      <th>csv_Comment</th>\n",
       "      <th>artifact_detected</th>\n",
       "      <th>severe_movement</th>\n",
       "      <th>visibility_issues</th>\n",
       "      <th>accessory_artifact</th>\n",
       "      <th>bolus_present_initially</th>\n",
       "      <th>bad_view</th>\n",
       "      <th>wrong_perspective</th>\n",
       "      <th>software_artifact</th>\n",
       "    </tr>\n",
       "  </thead>\n",
       "  <tbody>\n",
       "  </tbody>\n",
       "</table>\n",
       "<p>0 rows × 26 columns</p>\n",
       "</div>"
      ]
     },
     "execution_count": 11,
     "metadata": {},
     "output_type": "execute_result"
    }
   ],
   "execution_count": 11
  },
  {
   "metadata": {
    "ExecuteTime": {
     "end_time": "2025-01-10T08:52:39.045966Z",
     "start_time": "2025-01-10T08:52:39.038865Z"
    }
   },
   "cell_type": "code",
   "source": "df[\"artifact_detected\"].value_counts()",
   "id": "2b3d858ef8c8b3b2",
   "outputs": [
    {
     "data": {
      "text/plain": [
       "artifact_detected\n",
       "0    8776\n",
       "1    1048\n",
       "Name: count, dtype: int64"
      ]
     },
     "execution_count": 12,
     "metadata": {},
     "output_type": "execute_result"
    }
   ],
   "execution_count": 12
  },
  {
   "metadata": {
    "ExecuteTime": {
     "end_time": "2025-01-10T08:52:39.843817Z",
     "start_time": "2025-01-10T08:52:39.840614Z"
    }
   },
   "cell_type": "code",
   "source": "df[\"accessory_artifact\"].value_counts()",
   "id": "3c2905728fb3733a",
   "outputs": [
    {
     "data": {
      "text/plain": [
       "accessory_artifact\n",
       "0    7899\n",
       "1    1925\n",
       "Name: count, dtype: int64"
      ]
     },
     "execution_count": 13,
     "metadata": {},
     "output_type": "execute_result"
    }
   ],
   "execution_count": 13
  },
  {
   "metadata": {},
   "cell_type": "markdown",
   "source": "### process additionally PatientArtifact col and accessory artifact col",
   "id": "61e8056730bcd48"
  },
  {
   "metadata": {
    "ExecuteTime": {
     "end_time": "2025-01-10T08:52:42.580822Z",
     "start_time": "2025-01-10T08:52:42.568528Z"
    }
   },
   "cell_type": "code",
   "source": [
    "'''\n",
    "PatientArtifact:\n",
    "1 -> artifact_detected\n",
    "\n",
    "AccessoryArtifact:\n",
    "glasses -> accessory_artifact\n",
    "'''\n",
    "# if PatientArtifact is 1, set artifact_detected to 1, if glasses in AccessoryArtifact, set accessory_artifact to 1\n",
    "df[\"PatientArtifact\"] = df[\"PatientArtifact\"].astype(str)\n",
    "df[\"accessory artifact\"] = df[\"accessory artifact\"].astype(str)\n",
    "\n",
    "df[\"artifact_detected\"] = df[\"artifact_detected\"] | df[\"PatientArtifact\"].apply(lambda x: 1 if \"1\" in x else 0)\n",
    "df[\"accessory_artifact\"] = df[\"accessory_artifact\"] | df[\"accessory artifact\"].apply(lambda x: 1 if \"glasses\" in x else 0)"
   ],
   "id": "5e3096dde525770f",
   "outputs": [],
   "execution_count": 14
  },
  {
   "metadata": {
    "ExecuteTime": {
     "end_time": "2025-01-10T08:52:43.667760Z",
     "start_time": "2025-01-10T08:52:43.661124Z"
    }
   },
   "cell_type": "code",
   "source": "df[\"artifact_detected\"].value_counts()",
   "id": "fe285bcf3b74119",
   "outputs": [
    {
     "data": {
      "text/plain": [
       "artifact_detected\n",
       "0    8745\n",
       "1    1079\n",
       "Name: count, dtype: int64"
      ]
     },
     "execution_count": 15,
     "metadata": {},
     "output_type": "execute_result"
    }
   ],
   "execution_count": 15
  },
  {
   "metadata": {
    "ExecuteTime": {
     "end_time": "2025-01-10T08:52:44.797904Z",
     "start_time": "2025-01-10T08:52:44.786243Z"
    }
   },
   "cell_type": "code",
   "source": "df[\"accessory_artifact\"].value_counts()",
   "id": "17dd1ca3f3f5ca59",
   "outputs": [
    {
     "data": {
      "text/plain": [
       "accessory_artifact\n",
       "0    7894\n",
       "1    1930\n",
       "Name: count, dtype: int64"
      ]
     },
     "execution_count": 16,
     "metadata": {},
     "output_type": "execute_result"
    }
   ],
   "execution_count": 16
  },
  {
   "metadata": {
    "ExecuteTime": {
     "end_time": "2025-01-10T08:52:49.769934Z",
     "start_time": "2025-01-10T08:52:49.766416Z"
    }
   },
   "cell_type": "code",
   "source": "",
   "id": "3f13cb9ee66edf06",
   "outputs": [],
   "execution_count": null
  },
  {
   "metadata": {
    "ExecuteTime": {
     "end_time": "2025-01-10T08:52:50.541691Z",
     "start_time": "2025-01-10T08:52:50.539723Z"
    }
   },
   "cell_type": "code",
   "source": "",
   "id": "ab997de467ade8cf",
   "outputs": [],
   "execution_count": null
  },
  {
   "metadata": {},
   "cell_type": "markdown",
   "source": "# Flag Statistics",
   "id": "a404a86d94e26c09"
  },
  {
   "metadata": {
    "ExecuteTime": {
     "end_time": "2025-01-10T08:52:51.608914Z",
     "start_time": "2025-01-10T08:52:51.598933Z"
    }
   },
   "cell_type": "code",
   "source": "",
   "id": "1bb5e7e5c9bbf40d",
   "outputs": [],
   "execution_count": null
  },
  {
   "metadata": {
    "ExecuteTime": {
     "end_time": "2025-01-10T08:52:52.370674Z",
     "start_time": "2025-01-10T08:52:52.362936Z"
    }
   },
   "cell_type": "code",
   "source": "df.columns",
   "id": "73321ff11618d1c2",
   "outputs": [
    {
     "data": {
      "text/plain": [
       "Index(['PatientID', 'ParsedFullVideoID', 'is_usable', 'Comment', 'VideoType',\n",
       "       'PatientArtifact', 'accessory artifact', 'IsCRF', 'FullVideoID',\n",
       "       'ExtractedSwallowID', 'FrameCount', 'FPS', 'Duration', 'csv_FromFrame',\n",
       "       'csv_ToFrame', 'csv_Paradigm', 'csv_EventDescription', 'csv_Comment',\n",
       "       'artifact_detected', 'severe_movement', 'visibility_issues',\n",
       "       'accessory_artifact', 'bolus_present_initially', 'bad_view',\n",
       "       'wrong_perspective', 'software_artifact'],\n",
       "      dtype='object')"
      ]
     },
     "execution_count": 17,
     "metadata": {},
     "output_type": "execute_result"
    }
   ],
   "execution_count": 17
  },
  {
   "metadata": {
    "ExecuteTime": {
     "end_time": "2025-01-10T08:52:53.101418Z",
     "start_time": "2025-01-10T08:52:53.092229Z"
    }
   },
   "cell_type": "code",
   "source": "df[\"visibility_issues\"].value_counts()",
   "id": "882d702f9910ccce",
   "outputs": [
    {
     "data": {
      "text/plain": [
       "visibility_issues\n",
       "0    9555\n",
       "1     269\n",
       "Name: count, dtype: int64"
      ]
     },
     "execution_count": 18,
     "metadata": {},
     "output_type": "execute_result"
    }
   ],
   "execution_count": 18
  },
  {
   "metadata": {
    "ExecuteTime": {
     "end_time": "2025-01-10T08:52:56.511319Z",
     "start_time": "2025-01-10T08:52:56.504928Z"
    }
   },
   "cell_type": "code",
   "source": "df[\"severe_movement\"].value_counts()",
   "id": "9a3d3438efb42cb4",
   "outputs": [
    {
     "data": {
      "text/plain": [
       "severe_movement\n",
       "0    6877\n",
       "1    2947\n",
       "Name: count, dtype: int64"
      ]
     },
     "execution_count": 19,
     "metadata": {},
     "output_type": "execute_result"
    }
   ],
   "execution_count": 19
  },
  {
   "metadata": {
    "ExecuteTime": {
     "end_time": "2025-01-10T08:52:59.002539Z",
     "start_time": "2025-01-10T08:52:58.988224Z"
    }
   },
   "cell_type": "code",
   "source": "df[\"bolus_present_initially\"].value_counts()",
   "id": "19fb51e184382459",
   "outputs": [
    {
     "data": {
      "text/plain": [
       "bolus_present_initially\n",
       "0    7603\n",
       "1    2221\n",
       "Name: count, dtype: int64"
      ]
     },
     "execution_count": 20,
     "metadata": {},
     "output_type": "execute_result"
    }
   ],
   "execution_count": 20
  },
  {
   "metadata": {
    "ExecuteTime": {
     "end_time": "2025-01-10T08:53:00.672176Z",
     "start_time": "2025-01-10T08:53:00.661389Z"
    }
   },
   "cell_type": "code",
   "source": "df[\"artifact_detected\"].value_counts()",
   "id": "e905ad6efb47bd3",
   "outputs": [
    {
     "data": {
      "text/plain": [
       "artifact_detected\n",
       "0    8745\n",
       "1    1079\n",
       "Name: count, dtype: int64"
      ]
     },
     "execution_count": 21,
     "metadata": {},
     "output_type": "execute_result"
    }
   ],
   "execution_count": 21
  },
  {
   "metadata": {
    "ExecuteTime": {
     "end_time": "2025-01-10T08:53:04.541265Z",
     "start_time": "2025-01-10T08:53:04.536367Z"
    }
   },
   "cell_type": "code",
   "source": "df[\"accessory_artifact\"].value_counts()",
   "id": "5d2ddd9ef80c4557",
   "outputs": [
    {
     "data": {
      "text/plain": [
       "accessory_artifact\n",
       "0    7894\n",
       "1    1930\n",
       "Name: count, dtype: int64"
      ]
     },
     "execution_count": 22,
     "metadata": {},
     "output_type": "execute_result"
    }
   ],
   "execution_count": 22
  },
  {
   "metadata": {
    "ExecuteTime": {
     "end_time": "2025-01-10T08:53:08.352400Z",
     "start_time": "2025-01-10T08:53:08.342692Z"
    }
   },
   "cell_type": "code",
   "source": "df[\"bad_view\"].value_counts()",
   "id": "de5b47b927451ec",
   "outputs": [
    {
     "data": {
      "text/plain": [
       "bad_view\n",
       "0    9661\n",
       "1     163\n",
       "Name: count, dtype: int64"
      ]
     },
     "execution_count": 23,
     "metadata": {},
     "output_type": "execute_result"
    }
   ],
   "execution_count": 23
  },
  {
   "metadata": {
    "ExecuteTime": {
     "end_time": "2025-01-10T08:53:09.335329Z",
     "start_time": "2025-01-10T08:53:09.325923Z"
    }
   },
   "cell_type": "code",
   "source": "df[\"wrong_perspective\"].value_counts()",
   "id": "9057417d2d670a5a",
   "outputs": [
    {
     "data": {
      "text/plain": [
       "wrong_perspective\n",
       "0    9510\n",
       "1     314\n",
       "Name: count, dtype: int64"
      ]
     },
     "execution_count": 24,
     "metadata": {},
     "output_type": "execute_result"
    }
   ],
   "execution_count": 24
  },
  {
   "metadata": {
    "ExecuteTime": {
     "end_time": "2025-01-10T08:53:10.979356Z",
     "start_time": "2025-01-10T08:53:10.969640Z"
    }
   },
   "cell_type": "code",
   "source": "df[\"software_artifact\"].value_counts()",
   "id": "2f24b8bfe4cfd914",
   "outputs": [
    {
     "data": {
      "text/plain": [
       "software_artifact\n",
       "0    9659\n",
       "1     165\n",
       "Name: count, dtype: int64"
      ]
     },
     "execution_count": 25,
     "metadata": {},
     "output_type": "execute_result"
    }
   ],
   "execution_count": 25
  },
  {
   "metadata": {
    "ExecuteTime": {
     "end_time": "2025-01-10T08:53:12.467635Z",
     "start_time": "2025-01-10T08:53:12.458325Z"
    }
   },
   "cell_type": "code",
   "source": "df[\"is_usable\"].value_counts()",
   "id": "a492166303aa5203",
   "outputs": [
    {
     "data": {
      "text/plain": [
       "is_usable\n",
       "1.0    5659\n",
       "0.0    4115\n",
       "Name: count, dtype: int64"
      ]
     },
     "execution_count": 26,
     "metadata": {},
     "output_type": "execute_result"
    }
   ],
   "execution_count": 26
  },
  {
   "metadata": {
    "ExecuteTime": {
     "end_time": "2025-01-10T08:53:58.925043Z",
     "start_time": "2025-01-10T08:53:58.916451Z"
    }
   },
   "cell_type": "code",
   "source": [
    "# count of videos where is usable is 1 and the sum of all flags is 0\n",
    "df[(df[\"is_usable\"] == 1) & (df[[\"visibility_issues\", \"severe_movement\", \"bad_view\", \"wrong_perspective\", \"software_artifact\"]].sum(axis=1) == 0)].shape"
   ],
   "id": "3cd24be8671e304e",
   "outputs": [
    {
     "data": {
      "text/plain": [
       "(5623, 26)"
      ]
     },
     "execution_count": 28,
     "metadata": {},
     "output_type": "execute_result"
    }
   ],
   "execution_count": 28
  },
  {
   "metadata": {
    "ExecuteTime": {
     "end_time": "2025-01-10T08:54:01.880170Z",
     "start_time": "2025-01-10T08:54:01.871608Z"
    }
   },
   "cell_type": "code",
   "source": [
    "# count of videos where is usable is 1 and the sum of all flags is 0\n",
    "df[(df[\"is_usable\"] == 1) & (df[[\"visibility_issues\", \"severe_movement\", \"bolus_present_initially\", \"artifact_detected\", \"accessory_artifact\", \"bad_view\", \"wrong_perspective\", \"software_artifact\"]].sum(axis=1) == 0)].shape"
   ],
   "id": "c905c0ecc3c7767e",
   "outputs": [
    {
     "data": {
      "text/plain": [
       "(1884, 26)"
      ]
     },
     "execution_count": 29,
     "metadata": {},
     "output_type": "execute_result"
    }
   ],
   "execution_count": 29
  },
  {
   "metadata": {
    "ExecuteTime": {
     "end_time": "2025-01-10T08:54:04.075493Z",
     "start_time": "2025-01-10T08:54:04.072056Z"
    }
   },
   "cell_type": "code",
   "source": [
    "# also show in percent\n",
    "df[\"visibility_issues\"].value_counts(normalize=True)"
   ],
   "id": "a788146ff932cd80",
   "outputs": [
    {
     "data": {
      "text/plain": [
       "visibility_issues\n",
       "0    0.972618\n",
       "1    0.027382\n",
       "Name: proportion, dtype: float64"
      ]
     },
     "execution_count": 30,
     "metadata": {},
     "output_type": "execute_result"
    }
   ],
   "execution_count": 30
  },
  {
   "metadata": {},
   "cell_type": "markdown",
   "source": "# Bar Plot of Flags",
   "id": "dab4c1798845b11c"
  },
  {
   "metadata": {
    "ExecuteTime": {
     "end_time": "2025-01-10T08:54:11.336091Z",
     "start_time": "2025-01-10T08:54:11.317767Z"
    }
   },
   "cell_type": "code",
   "source": [
    "'''\n",
    "i want to create graphs that show how often we have a flag type (all 9) for all videos\n",
    "'''\n",
    "# create a new df with the sum of all flags\n",
    "#create column is not usable as inverse of is_usable\n",
    "df[\"is_not_usable\"] = 1 - df[\"is_usable\"]\n",
    "df[\"is_not_usable\"] = df[\"is_not_usable\"].astype(bool)\n",
    "# create column \"other\" for videos that are not usable and have no flags\n",
    "df[\"other\"] = df[\"is_not_usable\"] & (df[[\"visibility_issues\", \"severe_movement\", \"bolus_present_initially\", \"artifact_detected\", \"accessory_artifact\", \"bad_view\", \"wrong_perspective\", \"software_artifact\"]].sum(axis=1) == 0)\n",
    "df_flags = df[[\"is_not_usable\", \"visibility_issues\", \"severe_movement\", \"bolus_present_initially\", \"artifact_detected\", \"accessory_artifact\", \"bad_view\", \"wrong_perspective\", \"software_artifact\", \"other\"]].sum()\n",
    "df_flags"
   ],
   "id": "57c7ab2650621b84",
   "outputs": [
    {
     "data": {
      "text/plain": [
       "is_not_usable              4165\n",
       "visibility_issues           269\n",
       "severe_movement            2947\n",
       "bolus_present_initially    2221\n",
       "artifact_detected          1079\n",
       "accessory_artifact         1930\n",
       "bad_view                    163\n",
       "wrong_perspective           314\n",
       "software_artifact           165\n",
       "other                       192\n",
       "dtype: int64"
      ]
     },
     "execution_count": 31,
     "metadata": {},
     "output_type": "execute_result"
    }
   ],
   "execution_count": 31
  },
  {
   "metadata": {
    "ExecuteTime": {
     "end_time": "2025-01-10T08:54:22.647159Z",
     "start_time": "2025-01-10T08:54:22.514450Z"
    }
   },
   "cell_type": "code",
   "source": [
    "# create a bar plot\n",
    "import matplotlib.pyplot as plt\n",
    "import seaborn as sns\n",
    "plt.figure(figsize=(20,10))\n",
    "sns.barplot(x=df_flags.index, y=df_flags.values)\n",
    "# add y label: swallow videos\n",
    "plt.ylabel(\"Swallow Videos\")\n",
    "# add title: Flags in Usable Videos\n",
    "plt.title(\"Flags in All Videos\")\n",
    "plt.show()\n"
   ],
   "id": "d2a424326c615dbf",
   "outputs": [
    {
     "data": {
      "text/plain": [
       "<Figure size 2000x1000 with 1 Axes>"
      ],
      "image/png": "[encoded data removed]"
     },
     "metadata": {},
     "output_type": "display_data"
    }
   ],
   "execution_count": 32
  },
  {
   "metadata": {},
   "cell_type": "markdown",
   "source": "# Bar Plot of flags with usable videos",
   "id": "1729f07446134ae3"
  },
  {
   "metadata": {
    "ExecuteTime": {
     "end_time": "2025-01-10T08:54:29.295225Z",
     "start_time": "2025-01-10T08:54:29.194789Z"
    }
   },
   "cell_type": "code",
   "source": [
    "\n",
    "df_flags_usable = df[df[\"is_usable\"] == 1]\n",
    "# create column \"no flags\" for videos that are usable and have no flags\n",
    "df_flags_usable[\"perfect\"] = (df_flags_usable[[\"visibility_issues\", \"severe_movement\", \"bolus_present_initially\", \"artifact_detected\", \"accessory_artifact\", \"bad_view\", \"wrong_perspective\", \"software_artifact\"]].sum(axis=1) == 0)\n",
    "df_flags_usable = df_flags_usable[[\"is_usable\", \"perfect\", \"bolus_present_initially\", \"artifact_detected\", \"accessory_artifact\"]].sum()\n",
    "plt.figure(figsize=(20,10))\n",
    "sns.barplot(x=df_flags_usable.index, y=df_flags_usable.values)\n",
    "# add y label: swallow videos\n",
    "plt.ylabel(\"Swallow Videos\")\n",
    "# add title: Flags in Usable Videos\n",
    "plt.title(\"Flags in Usable Videos\")\n",
    "plt.show()"
   ],
   "id": "71c4c6e1250c0862",
   "outputs": [
    {
     "name": "stderr",
     "output_type": "stream",
     "text": [
      "C:\\Users\\ly37xoco\\AppData\\Local\\Temp\\ipykernel_15912\\2403801202.py:3: SettingWithCopyWarning: \n",
      "A value is trying to be set on a copy of a slice from a DataFrame.\n",
      "Try using .loc[row_indexer,col_indexer] = value instead\n",
      "\n",
      "See the caveats in the documentation: https://pandas.pydata.org/pandas-docs/stable/user_guide/indexing.html#returning-a-view-versus-a-copy\n",
      "  df_flags_usable[\"perfect\"] = (df_flags_usable[[\"visibility_issues\", \"severe_movement\", \"bolus_present_initially\", \"artifact_detected\", \"accessory_artifact\", \"bad_view\", \"wrong_perspective\", \"software_artifact\"]].sum(axis=1) == 0)\n"
     ]
    },
    {
     "data": {
      "text/plain": [
       "<Figure size 2000x1000 with 1 Axes>"
      ],
      "image/png": "[encoded data removed]"
     },
     "metadata": {},
     "output_type": "display_data"
    }
   ],
   "execution_count": 33
  },
  {
   "metadata": {
    "ExecuteTime": {
     "end_time": "2025-01-10T08:54:33.774991Z",
     "start_time": "2025-01-10T08:54:33.770385Z"
    }
   },
   "cell_type": "code",
   "source": "df_flags_usable",
   "id": "c1e65ae4bd8d123a",
   "outputs": [
    {
     "data": {
      "text/plain": [
       "is_usable                  5659.0\n",
       "perfect                    1884.0\n",
       "bolus_present_initially    2088.0\n",
       "artifact_detected          1043.0\n",
       "accessory_artifact         1825.0\n",
       "dtype: float64"
      ]
     },
     "execution_count": 34,
     "metadata": {},
     "output_type": "execute_result"
    }
   ],
   "execution_count": 34
  },
  {
   "metadata": {
    "ExecuteTime": {
     "end_time": "2025-01-10T08:54:34.462058Z",
     "start_time": "2025-01-10T08:54:34.457131Z"
    }
   },
   "cell_type": "code",
   "source": "df.columns",
   "id": "96ea1b1d0b81008d",
   "outputs": [
    {
     "data": {
      "text/plain": [
       "Index(['PatientID', 'ParsedFullVideoID', 'is_usable', 'Comment', 'VideoType',\n",
       "       'PatientArtifact', 'accessory artifact', 'IsCRF', 'FullVideoID',\n",
       "       'ExtractedSwallowID', 'FrameCount', 'FPS', 'Duration', 'csv_FromFrame',\n",
       "       'csv_ToFrame', 'csv_Paradigm', 'csv_EventDescription', 'csv_Comment',\n",
       "       'artifact_detected', 'severe_movement', 'visibility_issues',\n",
       "       'accessory_artifact', 'bolus_present_initially', 'bad_view',\n",
       "       'wrong_perspective', 'software_artifact', 'is_not_usable', 'other'],\n",
       "      dtype='object')"
      ]
     },
     "execution_count": 35,
     "metadata": {},
     "output_type": "execute_result"
    }
   ],
   "execution_count": 35
  },
  {
   "metadata": {
    "ExecuteTime": {
     "end_time": "2025-01-08T09:01:02.938067Z",
     "start_time": "2025-01-08T09:01:02.848279Z"
    }
   },
   "cell_type": "code",
   "source": [
    "# save the processed data\n",
    "columns_needed = [\"PatientID\", \"ParsedFullVideoID\", \"VideoType\", \"is_usable\", \"artifact_detected\", \"severe_movement\", \"visibility_issues\", \"accessory_artifact\", \"bolus_present_initially\", \"wrong_perspective\", \"bad_view\", \"software_artifact\", \"ExtractedSwallowID\", \"FrameCount\", \"FPS\", \"Duration\", ]\n",
    "df_export = df[columns_needed]\n",
    "df_export.to_csv(\"melda_swallow_annotations_final.csv\", index=False)"
   ],
   "id": "e3b065d935298480",
   "outputs": [],
   "execution_count": 112
  },
  {
   "metadata": {
    "ExecuteTime": {
     "end_time": "2025-01-10T08:51:26.942145Z",
     "start_time": "2025-01-10T08:51:26.939010Z"
    }
   },
   "cell_type": "code",
   "source": "df.shape[0]",
   "id": "6a6d5efd5dd41f28",
   "outputs": [
    {
     "data": {
      "text/plain": [
       "9824"
      ]
     },
     "execution_count": 48,
     "metadata": {},
     "output_type": "execute_result"
    }
   ],
   "execution_count": 48
  },
  {
   "metadata": {},
   "cell_type": "markdown",
   "source": "### patient analysis",
   "id": "7748478c5cc45356"
  },
  {
   "metadata": {
    "ExecuteTime": {
     "end_time": "2025-01-10T09:03:23.597960Z",
     "start_time": "2025-01-10T09:03:23.487667Z"
    }
   },
   "cell_type": "code",
   "source": [
    "# for videos that are usable, plot x: number of videos per patient, y: number of patients with that number of videos\n",
    "df_usable = df[(df[\"is_usable\"] == 1) & (df[[\"visibility_issues\", \"severe_movement\", \"bad_view\", \"wrong_perspective\", \"software_artifact\"]].sum(axis=1) == 0)]\n",
    "df_patients = df_usable.groupby(\"PatientID\").size().reset_index(name='counts')\n",
    "#histogram with bins that are video conuts in 5 steps\n",
    "import matplotlib.pyplot as plt\n",
    "plt.rcParams.update({'font.size': 20})\n",
    "plt.figure(figsize=(20,10))\n",
    "plt.hist(df_patients[\"counts\"], bins=range(0, 100, 5))\n",
    "plt.xlabel(\"Number of Videos\")\n",
    "plt.ylabel(\"Number of Patients\")\n",
    "plt.title(\"Number of 'usable' Videos per Patient (bin=5)\")\n",
    "plt.show()\n"
   ],
   "id": "b71a85654d934f73",
   "outputs": [
    {
     "data": {
      "text/plain": [
       "<Figure size 2000x1000 with 1 Axes>"
      ],
      "image/png": "[encoded data removed]"
     },
     "metadata": {},
     "output_type": "display_data"
    }
   ],
   "execution_count": 52
  },
  {
   "metadata": {
    "ExecuteTime": {
     "end_time": "2025-01-10T08:55:20.143062Z",
     "start_time": "2025-01-10T08:55:20.136115Z"
    }
   },
   "cell_type": "code",
   "source": [
    "# how many unique patients do we have\n",
    "df[\"PatientID\"].nunique()"
   ],
   "id": "903534c2c9455917",
   "outputs": [
    {
     "data": {
      "text/plain": [
       "277"
      ]
     },
     "execution_count": 37,
     "metadata": {},
     "output_type": "execute_result"
    }
   ],
   "execution_count": 37
  },
  {
   "metadata": {
    "ExecuteTime": {
     "end_time": "2025-01-10T09:05:34.205255Z",
     "start_time": "2025-01-10T09:05:34.198665Z"
    }
   },
   "cell_type": "code",
   "source": "df_patients.shape[0]",
   "id": "d24bf09d1a5d6cb",
   "outputs": [
    {
     "data": {
      "text/plain": [
       "262"
      ]
     },
     "execution_count": 55,
     "metadata": {},
     "output_type": "execute_result"
    }
   ],
   "execution_count": 55
  },
  {
   "metadata": {
    "ExecuteTime": {
     "end_time": "2025-01-10T09:05:40.820360Z",
     "start_time": "2025-01-10T09:05:40.811837Z"
    }
   },
   "cell_type": "code",
   "source": "df_patients[\"counts\"].describe()",
   "id": "1c3c1ed18d29d52a",
   "outputs": [
    {
     "data": {
      "text/plain": [
       "count    262.000000\n",
       "mean      21.461832\n",
       "std       16.066089\n",
       "min        1.000000\n",
       "25%       10.250000\n",
       "50%       19.000000\n",
       "75%       28.000000\n",
       "max       93.000000\n",
       "Name: counts, dtype: float64"
      ]
     },
     "execution_count": 56,
     "metadata": {},
     "output_type": "execute_result"
    }
   ],
   "execution_count": 56
  },
  {
   "metadata": {
    "ExecuteTime": {
     "end_time": "2025-01-10T09:03:29.137852Z",
     "start_time": "2025-01-10T09:03:29.031485Z"
    }
   },
   "cell_type": "code",
   "source": [
    "# for videos that are usable, plot x: number of videos per patient, y: number of patients with that number of videos\n",
    "df_usable_perfect = df[(df[\"is_usable\"] == 1) & (df[[\"visibility_issues\", \"severe_movement\", \"bad_view\", \"wrong_perspective\", \"software_artifact\", \"bolus_present_initially\", \"accessory_artifact\", \"artifact_detected\"]].sum(axis=1) == 0)]\n",
    "df_patients_perfect = df_usable_perfect.groupby(\"PatientID\").size().reset_index(name='counts')\n",
    "#histogram with bins that are video conuts in 5 steps\n",
    "import matplotlib.pyplot as plt\n",
    "plt.figure(figsize=(20,10))\n",
    "plt.hist(df_patients_perfect[\"counts\"], bins=range(0, 100, 5))\n",
    "plt.xlabel(\"Number of Videos\")\n",
    "plt.ylabel(\"Number of Patients\")\n",
    "plt.title(\"Number of 'usable perfect' Videos per Patient (bin=5)\")\n",
    "plt.show()\n"
   ],
   "id": "4a2bd35baebe430e",
   "outputs": [
    {
     "data": {
      "text/plain": [
       "<Figure size 2000x1000 with 1 Axes>"
      ],
      "image/png": "[encoded data removed]"
     },
     "metadata": {},
     "output_type": "display_data"
    }
   ],
   "execution_count": 53
  },
  {
   "metadata": {
    "ExecuteTime": {
     "end_time": "2025-01-10T08:56:46.511284Z",
     "start_time": "2025-01-10T08:56:46.504518Z"
    }
   },
   "cell_type": "code",
   "source": [
    "# how many unique patients do we have\n",
    "df_usable_perfect[\"PatientID\"].nunique()"
   ],
   "id": "4c21d6fa7b5883ee",
   "outputs": [
    {
     "data": {
      "text/plain": [
       "165"
      ]
     },
     "execution_count": 40,
     "metadata": {},
     "output_type": "execute_result"
    }
   ],
   "execution_count": 40
  },
  {
   "metadata": {
    "ExecuteTime": {
     "end_time": "2025-01-10T08:56:49.300471Z",
     "start_time": "2025-01-10T08:56:49.294154Z"
    }
   },
   "cell_type": "code",
   "source": "df_usable_perfect.shape[0]",
   "id": "c3f2375833ad346b",
   "outputs": [
    {
     "data": {
      "text/plain": [
       "1884"
      ]
     },
     "execution_count": 41,
     "metadata": {},
     "output_type": "execute_result"
    }
   ],
   "execution_count": 41
  },
  {
   "metadata": {
    "ExecuteTime": {
     "end_time": "2025-01-10T08:57:48.605863Z",
     "start_time": "2025-01-10T08:57:48.599603Z"
    }
   },
   "cell_type": "code",
   "source": "df_patients_perfect[\"counts\"].describe()",
   "id": "340ed003a1883a04",
   "outputs": [
    {
     "data": {
      "text/plain": [
       "count    165.000000\n",
       "mean      11.418182\n",
       "std       10.990058\n",
       "min        1.000000\n",
       "25%        3.000000\n",
       "50%        9.000000\n",
       "75%       17.000000\n",
       "max       77.000000\n",
       "Name: counts, dtype: float64"
      ]
     },
     "execution_count": 42,
     "metadata": {},
     "output_type": "execute_result"
    }
   ],
   "execution_count": 42
  },
  {
   "metadata": {},
   "cell_type": "code",
   "outputs": [],
   "execution_count": null,
   "source": "",
   "id": "2163fcc09ff9ac3e"
  }
 ],
 "metadata": {
  "kernelspec": {
   "display_name": "Python 3",
   "language": "python",
   "name": "python3"
  },
  "language_info": {
   "codemirror_mode": {
    "name": "ipython",
    "version": 2
   },
   "file_extension": ".py",
   "mimetype": "text/x-python",
   "name": "python",
   "nbconvert_exporter": "python",
   "pygments_lexer": "ipython2",
   "version": "2.7.6"
  }
 },
 "nbformat": 4,
 "nbformat_minor": 5
}

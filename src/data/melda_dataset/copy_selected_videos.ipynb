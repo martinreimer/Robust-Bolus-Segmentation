{
 "cells": [
  {
   "metadata": {},
   "cell_type": "markdown",
   "source": [
    "- Selects Videos of interest: only usable+perfect videos, up to 3 videos per patient.\n",
    "- Copies video files from a source directory (`dataset_path`) to a target directory (`target_path`) based on the 'ParsedFullVideoID' column in the DataFrame.\n",
    "- Exports the updated DataFrame to a CSV file in the target directory."
   ],
   "id": "1d20708dc61e0909"
  },
  {
   "metadata": {},
   "cell_type": "code",
   "source": [
    "import os\n",
    "import shutil\n",
    "import pandas as pd\n",
    "from tqdm import tqdm"
   ],
   "id": "a99d16dc368f214b",
   "outputs": [],
   "execution_count": null
  },
  {
   "metadata": {},
   "cell_type": "code",
   "source": [
    "csv_path = r\"melda_swallow_annotations_final.csv\"\n",
    "dataset_path = r\"\\\\fauad.fau.de\\shares\\ANKI\\Projects\\Swallowing\\Data\\from_Melda\"\n",
    "target_path = r\"\\\\fauad.fau.de\\shares\\ANKI\\Projects\\Swallowing\\Data\\dataset_martin\\Melda\"\n"
   ],
   "id": "2ad2527cbae6eabc",
   "outputs": [],
   "execution_count": null
  },
  {
   "metadata": {},
   "cell_type": "code",
   "source": [
    "df = pd.read_csv(csv_path)\n",
    "df.describe()"
   ],
   "id": "47eb6f14842193aa",
   "outputs": [],
   "execution_count": null
  },
  {
   "metadata": {},
   "cell_type": "markdown",
   "source": "### select data to use",
   "id": "83a777876f636e6a"
  },
  {
   "metadata": {},
   "cell_type": "code",
   "source": [
    "# only use perfect videos\n",
    "df = df[(df[\"is_usable\"] == 1) & (df[[\"visibility_issues\", \"severe_movement\", \"bad_view\", \"wrong_perspective\", \"software_artifact\", \"bolus_present_initially\", \"accessory_artifact\", \"artifact_detected\"]].sum(axis=1) == 0)]\n",
    "df.describe()"
   ],
   "id": "41ccdb0f0f1c3e11",
   "outputs": [],
   "execution_count": null
  },
  {
   "metadata": {},
   "cell_type": "code",
   "source": [
    "# group by patient id\n",
    "df.groupby(\"PatientID\").size()"
   ],
   "id": "cb13b1aba3d589b",
   "outputs": [],
   "execution_count": null
  },
  {
   "metadata": {},
   "cell_type": "code",
   "source": [
    "# randomly select up to 3 videos per patient\n",
    "df = df.groupby(\"PatientID\").head(3)"
   ],
   "id": "5329dd78a59780a8",
   "outputs": [],
   "execution_count": null
  },
  {
   "metadata": {},
   "cell_type": "code",
   "source": "df",
   "id": "88aa6081a055c6a9",
   "outputs": [],
   "execution_count": null
  },
  {
   "metadata": {},
   "cell_type": "code",
   "source": [
    "# Convert PatientID column to int and then to string\n",
    "df['PatientID'] = df['PatientID'].apply(lambda x: str(int(x.split(',')[0])) if isinstance(x, str) else str(int(str(x).split('.')[0])))\n",
    "\n",
    "# Ensure the target directory exists\n",
    "if not os.path.exists(target_path):\n",
    "    os.makedirs(target_path)\n",
    "\n",
    "# Copy videos to target directory\n",
    "for i, row in df.iterrows():\n",
    "    video_id = row['ParsedFullVideoID']\n",
    "    patient_id = row['PatientID']\n",
    "    print(f\"Copying video {video_id}...\")\n",
    "    source_video = os.path.join(dataset_path, patient_id, video_id)\n",
    "    target_video = os.path.join(target_path, video_id)\n",
    "\n",
    "    # Check if the video exists before copying\n",
    "    if os.path.exists(source_video):\n",
    "        print(\"Video exists. Copying...\")\n",
    "        shutil.copy(source_video, target_video)\n",
    "\n",
    "# Export the DataFrame to CSV in the target folder\n",
    "df.to_csv(os.path.join(target_path, 'exported_videos.csv'), index=False)\n",
    "\n",
    "print(\"Videos copied and DataFrame exported successfully.\")"
   ],
   "id": "5715d2c52d4662e2",
   "outputs": [],
   "execution_count": null
  },
  {
   "metadata": {},
   "cell_type": "code",
   "source": "",
   "id": "d11108ba6765ef5f",
   "outputs": [],
   "execution_count": null
  }
 ],
 "metadata": {
  "kernelspec": {
   "display_name": "Python 3",
   "language": "python",
   "name": "python3"
  },
  "language_info": {
   "codemirror_mode": {
    "name": "ipython",
    "version": 2
   },
   "file_extension": ".py",
   "mimetype": "text/x-python",
   "name": "python",
   "nbconvert_exporter": "python",
   "pygments_lexer": "ipython2",
   "version": "2.7.6"
  }
 },
 "nbformat": 4,
 "nbformat_minor": 5
}

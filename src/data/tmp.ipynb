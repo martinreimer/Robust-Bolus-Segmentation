{
 "cells": [
  {
   "cell_type": "code",
   "id": "initial_id",
   "metadata": {
    "collapsed": true,
    "jupyter": {
     "is_executing": true
    }
   },
   "source": "import pandas as pd",
   "outputs": [],
   "execution_count": null
  },
  {
   "metadata": {},
   "cell_type": "code",
   "outputs": [],
   "execution_count": null,
   "source": "",
   "id": "e58c4f77c6d4a2ec"
  },
  {
   "metadata": {
    "jupyter": {
     "is_executing": true
    }
   },
   "cell_type": "code",
   "source": [
    "# Load into DataFrame\n",
    "from io import StringIO\n",
    "import pandas as pd\n",
    "csv_path = r\"D:\\Martin\\thesis\\data\\video_notes.csv\"\n",
    "df = pd.read_csv(csv_path)\n",
    "\n",
    "# Strip any leading/trailing whitespace\n",
    "df['video_id'] = df['video_id'].str.strip()\n",
    "\n",
    "# Extract patient ID as everything before \"_V\"\n",
    "df['patient_id'] = df['video_id'].str.extract(r'^.*?([A-Za-z]*\\d+)_V', expand=False)\n",
    "df"
   ],
   "id": "d18f273457423560",
   "outputs": [],
   "execution_count": null
  },
  {
   "metadata": {},
   "cell_type": "code",
   "outputs": [],
   "execution_count": null,
   "source": "",
   "id": "2ac869fed36c77af"
  },
  {
   "metadata": {},
   "cell_type": "code",
   "outputs": [],
   "execution_count": null,
   "source": "",
   "id": "e8a36b48b9b456e0"
  }
 ],
 "metadata": {
  "kernelspec": {
   "display_name": "Python 3",
   "language": "python",
   "name": "python3"
  },
  "language_info": {
   "codemirror_mode": {
    "name": "ipython",
    "version": 2
   },
   "file_extension": ".py",
   "mimetype": "text/x-python",
   "name": "python",
   "nbconvert_exporter": "python",
   "pygments_lexer": "ipython2",
   "version": "2.7.6"
  }
 },
 "nbformat": 4,
 "nbformat_minor": 5
}

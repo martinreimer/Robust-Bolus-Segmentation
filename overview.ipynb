{
 "cells": [
  {
   "cell_type": "code",
   "execution_count": null,
   "id": "initial_id",
   "metadata": {
    "collapsed": true
   },
   "outputs": [],
   "source": [
    ""
   ]
  },
  {
   "metadata": {},
   "cell_type": "markdown",
   "source": "",
   "id": "5a790bb6f401b6f5"
  },
  {
   "metadata": {},
   "cell_type": "markdown",
   "source": "",
   "id": "be14ef5403f1e230"
  },
  {
   "metadata": {},
   "cell_type": "markdown",
   "source": [
    "# from Leonard\n",
    "- normal swallowing dataset\n",
    "- not clear what is the data to be used -> also no patient information\n",
    "- prob. not useful for final dataset, just experimenting\n",
    "Folder structure:\n",
    "- ForeBack folder\n",
    "   - mp4 files and some have .mask files as well\n",
    "  - 800 files\n",
    "- Normals folder\n",
    "    - mp4 files and some have .mask files as well\n",
    "    - 70 files\n",
    "    - readme file:\n",
    "        -  Here's a link to the young normal fluoros.  Typically include a 1ml, 3ml 3-5 paste and 20+ml bolus.......some have another 1ml.  Subjects are also saying vowel sounds at the end......think it's obvious these aren't swallows! Hope they're helpful....let me know if you have questions.\n",
    "- Normals_elderly folder\n",
    "   - avi files and some mp4 files\n",
    "   - 70 files\n",
    "- Swallow_Events folder\n",
    "   - mp4 files and some have .mask files as well\n",
    "   - 1,300 files\n",
    "- video_frame_list.xlsx\n",
    "\n",
    "\n",
    "\n"
   ],
   "id": "b82145553a38fecc"
  },
  {
   "metadata": {},
   "cell_type": "code",
   "outputs": [],
   "execution_count": null,
   "source": "",
   "id": "4063341815a54ae5"
  },
  {
   "metadata": {},
   "cell_type": "code",
   "outputs": [],
   "execution_count": null,
   "source": "",
   "id": "b14917bec8ac0df0"
  },
  {
   "metadata": {},
   "cell_type": "markdown",
   "source": [
    "# from_Kopp\n",
    "TODO:\n",
    "- [ ] analyze how many patients we have\n",
    "- [ ] find way to identify right perspective (UNET)\n",
    "-\n",
    "- nice disphyagia dataset with patient information\n",
    "- difficult data since swallows are not cut\n",
    "- lots of perspectives (up to 20)-> only one needed -> needs to be identified\n",
    "- kind of messy\n",
    "- different perspectives usually per patient: lateral, frontal, zoomed in lateral and movement doing scan\n",
    "- observation: per patient we have multiple perspectives (in seperate folders) with one video per perspective; mostly the first folder (ordered by asc) has the correct perspective we need. So one could try just parsing the first folder of each patient; for better results one could also run Classification CNN on the first frame of each video to identify the correct perspective and choose the one with highest classfication score\n",
    "- per patient, per video, we have multiple perspectives: in a perspective we can have a a dicom video or lots of dicom frames\n",
    "    - use video frames folder\n",
    "Folder structure:\n",
    "- patient id dcm folders\n",
    "   - 560 patient identifiers\n",
    "  - every patient folder can have multiple subfolders/videos with dcm file\n",
    "- Diagnosen und Prozeduren folder\n",
    "   - Diagnosen_psuedonymisiert.csv\n",
    "      -  Columns: PATIENT_ID\tFALL_ID\tICD_CODE\tDIAGNOSE_DATUM\tGEWISSHEIT_ID\n",
    "      - 3,742 rows\n",
    "  - Prozeduren_pseudonymisiert.csv\n",
    "      - Columns: PATIENT_ID\tFALL_ID\tOPS_CODE PROZEDUR_DATUM\n",
    "      - 1,523 rows\n",
    "- extracted_videos_and_images folder\n",
    "   - extracted mp4 files from dcm files per video id\n",
    "- Kopp_Data_Overview.xlsx\n",
    "   - columns:\n",
    "      - Birth Year\n",
    "      - Age\n",
    "      - Sex\n",
    "      - Manufacturer\n",
    "      - Manufacturer's Model Name\n",
    "      - Device Serial Number\n",
    "      - Image/ Video Identifier\n",
    "      - Comments about the Image/ Video\n",
    "    -  3,018 rows\n",
    "    - prob. just extracted info from dicom files\n",
    "- README.md\n",
    "   - mentions test sample ids"
   ],
   "id": "cf33cb62e9dca013"
  },
  {
   "metadata": {
    "ExecuteTime": {
     "end_time": "2024-11-24T15:10:03.355944Z",
     "start_time": "2024-11-24T15:10:02.819867Z"
    }
   },
   "cell_type": "code",
   "source": [
    "# from koop\n",
    "\n",
    "import pandas as pd\n",
    "\n",
    "path = r\"\\\\fauad.fau.de\\shares\\ANKI\\Projects\\Swallowing\\Data\\from_Kopp\\Kopp_Data_Overview.xlsx\"\n",
    "# load the data\n",
    "df_kopp = pd.read_excel(path)\n",
    "df_kopp.head()"
   ],
   "id": "6741df44f8b2abbf",
   "outputs": [
    {
     "data": {
      "text/plain": [
       "        PatID  Acquisition Date  Accession Number  \\\n",
       "0  1000159621          20140701  3269432939558174   \n",
       "1  1000159621          20140701  3269432939558174   \n",
       "2  1005454012          20110208  2366879155568522   \n",
       "3  1005454012          20110208  2366879155568522   \n",
       "4  1005454012          20110208  2366879155568522   \n",
       "\n",
       "  Protocol Name_Acquisition Number  \\\n",
       "0                        Oesoph._1   \n",
       "1                        Oesoph._2   \n",
       "2                        Oesoph._1   \n",
       "3                        Oesoph._2   \n",
       "4                        Oesoph._4   \n",
       "\n",
       "                                    SOP Instance UID  Birth Year   Age Sex  \\\n",
       "0  1.2.276.0.76.3.1.56.5.6.1.31078117531770503303...        1945  068Y   M   \n",
       "1  1.2.276.0.76.3.1.56.5.6.1.32279215018154090168...        1945  068Y   M   \n",
       "2  1.2.276.0.76.3.1.56.5.6.1.97540909922323301728...        1951  059Y   M   \n",
       "3  1.2.276.0.76.3.1.56.5.6.1.26312558241286149973...        1951  059Y   M   \n",
       "4  1.2.276.0.76.3.1.56.5.6.1.16702611579908065606...        1951  059Y   M   \n",
       "\n",
       "  Manufacturer Manufacturer's Model Name  Device Serial Number  \\\n",
       "0      Siemens               AXIOM-Artis                 57031   \n",
       "1      Siemens               AXIOM-Artis                 57031   \n",
       "2      Siemens               AXIOM-Artis                 57031   \n",
       "3      Siemens               AXIOM-Artis                 57031   \n",
       "4      Siemens               AXIOM-Artis                 57031   \n",
       "\n",
       "  Image/ Video Identifier Comments about the Image/ Video  \n",
       "0            1000159621_1                             NaN  \n",
       "1            1000159621_2                             NaN  \n",
       "2            1005454012_1                             NaN  \n",
       "3            1005454012_2                             NaN  \n",
       "4            1005454012_3                             NaN  "
      ],
      "text/html": [
       "<div>\n",
       "<style scoped>\n",
       "    .dataframe tbody tr th:only-of-type {\n",
       "        vertical-align: middle;\n",
       "    }\n",
       "\n",
       "    .dataframe tbody tr th {\n",
       "        vertical-align: top;\n",
       "    }\n",
       "\n",
       "    .dataframe thead th {\n",
       "        text-align: right;\n",
       "    }\n",
       "</style>\n",
       "<table border=\"1\" class=\"dataframe\">\n",
       "  <thead>\n",
       "    <tr style=\"text-align: right;\">\n",
       "      <th></th>\n",
       "      <th>PatID</th>\n",
       "      <th>Acquisition Date</th>\n",
       "      <th>Accession Number</th>\n",
       "      <th>Protocol Name_Acquisition Number</th>\n",
       "      <th>SOP Instance UID</th>\n",
       "      <th>Birth Year</th>\n",
       "      <th>Age</th>\n",
       "      <th>Sex</th>\n",
       "      <th>Manufacturer</th>\n",
       "      <th>Manufacturer's Model Name</th>\n",
       "      <th>Device Serial Number</th>\n",
       "      <th>Image/ Video Identifier</th>\n",
       "      <th>Comments about the Image/ Video</th>\n",
       "    </tr>\n",
       "  </thead>\n",
       "  <tbody>\n",
       "    <tr>\n",
       "      <th>0</th>\n",
       "      <td>1000159621</td>\n",
       "      <td>20140701</td>\n",
       "      <td>3269432939558174</td>\n",
       "      <td>Oesoph._1</td>\n",
       "      <td>1.2.276.0.76.3.1.56.5.6.1.31078117531770503303...</td>\n",
       "      <td>1945</td>\n",
       "      <td>068Y</td>\n",
       "      <td>M</td>\n",
       "      <td>Siemens</td>\n",
       "      <td>AXIOM-Artis</td>\n",
       "      <td>57031</td>\n",
       "      <td>1000159621_1</td>\n",
       "      <td>NaN</td>\n",
       "    </tr>\n",
       "    <tr>\n",
       "      <th>1</th>\n",
       "      <td>1000159621</td>\n",
       "      <td>20140701</td>\n",
       "      <td>3269432939558174</td>\n",
       "      <td>Oesoph._2</td>\n",
       "      <td>1.2.276.0.76.3.1.56.5.6.1.32279215018154090168...</td>\n",
       "      <td>1945</td>\n",
       "      <td>068Y</td>\n",
       "      <td>M</td>\n",
       "      <td>Siemens</td>\n",
       "      <td>AXIOM-Artis</td>\n",
       "      <td>57031</td>\n",
       "      <td>1000159621_2</td>\n",
       "      <td>NaN</td>\n",
       "    </tr>\n",
       "    <tr>\n",
       "      <th>2</th>\n",
       "      <td>1005454012</td>\n",
       "      <td>20110208</td>\n",
       "      <td>2366879155568522</td>\n",
       "      <td>Oesoph._1</td>\n",
       "      <td>1.2.276.0.76.3.1.56.5.6.1.97540909922323301728...</td>\n",
       "      <td>1951</td>\n",
       "      <td>059Y</td>\n",
       "      <td>M</td>\n",
       "      <td>Siemens</td>\n",
       "      <td>AXIOM-Artis</td>\n",
       "      <td>57031</td>\n",
       "      <td>1005454012_1</td>\n",
       "      <td>NaN</td>\n",
       "    </tr>\n",
       "    <tr>\n",
       "      <th>3</th>\n",
       "      <td>1005454012</td>\n",
       "      <td>20110208</td>\n",
       "      <td>2366879155568522</td>\n",
       "      <td>Oesoph._2</td>\n",
       "      <td>1.2.276.0.76.3.1.56.5.6.1.26312558241286149973...</td>\n",
       "      <td>1951</td>\n",
       "      <td>059Y</td>\n",
       "      <td>M</td>\n",
       "      <td>Siemens</td>\n",
       "      <td>AXIOM-Artis</td>\n",
       "      <td>57031</td>\n",
       "      <td>1005454012_2</td>\n",
       "      <td>NaN</td>\n",
       "    </tr>\n",
       "    <tr>\n",
       "      <th>4</th>\n",
       "      <td>1005454012</td>\n",
       "      <td>20110208</td>\n",
       "      <td>2366879155568522</td>\n",
       "      <td>Oesoph._4</td>\n",
       "      <td>1.2.276.0.76.3.1.56.5.6.1.16702611579908065606...</td>\n",
       "      <td>1951</td>\n",
       "      <td>059Y</td>\n",
       "      <td>M</td>\n",
       "      <td>Siemens</td>\n",
       "      <td>AXIOM-Artis</td>\n",
       "      <td>57031</td>\n",
       "      <td>1005454012_3</td>\n",
       "      <td>NaN</td>\n",
       "    </tr>\n",
       "  </tbody>\n",
       "</table>\n",
       "</div>"
      ]
     },
     "execution_count": 6,
     "metadata": {},
     "output_type": "execute_result"
    }
   ],
   "execution_count": 6
  },
  {
   "metadata": {
    "ExecuteTime": {
     "end_time": "2024-11-24T15:08:53.593464Z",
     "start_time": "2024-11-24T15:08:53.588706Z"
    }
   },
   "cell_type": "code",
   "source": [
    "#get unique patID count\n",
    "df_kopp['PatID'].nunique()"
   ],
   "id": "6f914de7211323d6",
   "outputs": [
    {
     "data": {
      "text/plain": [
       "560"
      ]
     },
     "execution_count": 4,
     "metadata": {},
     "output_type": "execute_result"
    }
   ],
   "execution_count": 4
  },
  {
   "metadata": {
    "ExecuteTime": {
     "end_time": "2024-11-24T15:10:22.984527Z",
     "start_time": "2024-11-24T15:10:22.978710Z"
    }
   },
   "cell_type": "code",
   "source": "df_kopp['PatID'].value_counts()",
   "id": "782c9280cb960a7d",
   "outputs": [
    {
     "data": {
      "text/plain": [
       "PatID\n",
       "2979520959    210\n",
       "2113244667    177\n",
       "2662761604     94\n",
       "5228260309     75\n",
       "2860948419     22\n",
       "             ... \n",
       "2301343701      1\n",
       "1980515547      1\n",
       "2216606813      1\n",
       "2229969900      1\n",
       "2104229340      1\n",
       "Name: count, Length: 560, dtype: int64"
      ]
     },
     "execution_count": 7,
     "metadata": {},
     "output_type": "execute_result"
    }
   ],
   "execution_count": 7
  },
  {
   "metadata": {},
   "cell_type": "code",
   "outputs": [],
   "execution_count": null,
   "source": "",
   "id": "7ab218ef527ee44a"
  }
 ],
 "metadata": {
  "kernelspec": {
   "display_name": "Python 3",
   "language": "python",
   "name": "python3"
  },
  "language_info": {
   "codemirror_mode": {
    "name": "ipython",
    "version": 2
   },
   "file_extension": ".py",
   "mimetype": "text/x-python",
   "name": "python",
   "nbconvert_exporter": "python",
   "pygments_lexer": "ipython2",
   "version": "2.7.6"
  }
 },
 "nbformat": 4,
 "nbformat_minor": 5
}
